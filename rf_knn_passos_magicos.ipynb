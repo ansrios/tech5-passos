{
  "cells": [
    {
      "cell_type": "code",
      "execution_count": 1,
      "metadata": {
        "colab": {
          "base_uri": "https://localhost:8080/"
        },
        "id": "f4wRogYuo9uD",
        "outputId": "836baacb-4bd8-4d1c-ec9f-867729933607"
      },
      "outputs": [],
      "source": [
        "#from google.colab import drive\n",
        "#drive.mount('/content/drive')"
      ]
    },
    {
      "cell_type": "code",
      "execution_count": 2,
      "metadata": {
        "id": "SmUlraUppATL"
      },
      "outputs": [],
      "source": [
        "import pandas as pd\n",
        "import numpy as np\n",
        "import matplotlib.pyplot as plt\n",
        "import matplotlib.ticker as ticker\n",
        "\n",
        "file_path = 'PEDE_PASSOS_DATASET_FIAP.csv'\n",
        "pd.set_option('display.max_columns', None)\n",
        "df = pd.read_csv(file_path, delimiter=';')"
      ]
    },
    {
      "cell_type": "code",
      "execution_count": 3,
      "metadata": {
        "colab": {
          "base_uri": "https://localhost:8080/",
          "height": 400
        },
        "id": "GQ5KGegjpI0s",
        "outputId": "8149f668-d31b-4348-c2ce-0c55b7f6682c"
      },
      "outputs": [
        {
          "data": {
            "text/html": [
              "<div>\n",
              "<style scoped>\n",
              "    .dataframe tbody tr th:only-of-type {\n",
              "        vertical-align: middle;\n",
              "    }\n",
              "\n",
              "    .dataframe tbody tr th {\n",
              "        vertical-align: top;\n",
              "    }\n",
              "\n",
              "    .dataframe thead th {\n",
              "        text-align: right;\n",
              "    }\n",
              "</style>\n",
              "<table border=\"1\" class=\"dataframe\">\n",
              "  <thead>\n",
              "    <tr style=\"text-align: right;\">\n",
              "      <th></th>\n",
              "      <th>INSTITUICAO_ENSINO_ALUNO_2020</th>\n",
              "      <th>NOME</th>\n",
              "      <th>IDADE_ALUNO_2020</th>\n",
              "      <th>ANOS_PM_2020</th>\n",
              "      <th>FASE_TURMA_2020</th>\n",
              "      <th>PONTO_VIRADA_2020</th>\n",
              "      <th>INDE_2020</th>\n",
              "      <th>INDE_CONCEITO_2020</th>\n",
              "      <th>PEDRA_2020</th>\n",
              "      <th>DESTAQUE_IEG_2020</th>\n",
              "      <th>DESTAQUE_IDA_2020</th>\n",
              "      <th>DESTAQUE_IPV_2020</th>\n",
              "      <th>IAA_2020</th>\n",
              "      <th>IEG_2020</th>\n",
              "      <th>IPS_2020</th>\n",
              "      <th>IDA_2020</th>\n",
              "      <th>IPP_2020</th>\n",
              "      <th>IPV_2020</th>\n",
              "      <th>IAN_2020</th>\n",
              "      <th>FASE_2021</th>\n",
              "      <th>TURMA_2021</th>\n",
              "      <th>INSTITUICAO_ENSINO_ALUNO_2021</th>\n",
              "      <th>SINALIZADOR_INGRESSANTE_2021</th>\n",
              "      <th>PEDRA_2021</th>\n",
              "      <th>INDE_2021</th>\n",
              "      <th>IAA_2021</th>\n",
              "      <th>IEG_2021</th>\n",
              "      <th>IPS_2021</th>\n",
              "      <th>IDA_2021</th>\n",
              "      <th>IPP_2021</th>\n",
              "      <th>REC_EQUIPE_1_2021</th>\n",
              "      <th>REC_EQUIPE_2_2021</th>\n",
              "      <th>REC_EQUIPE_3_2021</th>\n",
              "      <th>REC_EQUIPE_4_2021</th>\n",
              "      <th>PONTO_VIRADA_2021</th>\n",
              "      <th>IPV_2021</th>\n",
              "      <th>IAN_2021</th>\n",
              "      <th>NIVEL_IDEAL_2021</th>\n",
              "      <th>DEFASAGEM_2021</th>\n",
              "      <th>FASE_2022</th>\n",
              "      <th>TURMA_2022</th>\n",
              "      <th>ANO_INGRESSO_2022</th>\n",
              "      <th>BOLSISTA_2022</th>\n",
              "      <th>INDE_2022</th>\n",
              "      <th>CG_2022</th>\n",
              "      <th>CF_2022</th>\n",
              "      <th>CT_2022</th>\n",
              "      <th>PEDRA_2022</th>\n",
              "      <th>DESTAQUE_IEG_2022</th>\n",
              "      <th>DESTAQUE_IDA_2022</th>\n",
              "      <th>DESTAQUE_IPV_2022</th>\n",
              "      <th>IAA_2022</th>\n",
              "      <th>IEG_2022</th>\n",
              "      <th>IPS_2022</th>\n",
              "      <th>IDA_2022</th>\n",
              "      <th>NOTA_PORT_2022</th>\n",
              "      <th>NOTA_MAT_2022</th>\n",
              "      <th>NOTA_ING_2022</th>\n",
              "      <th>QTD_AVAL_2022</th>\n",
              "      <th>IPP_2022</th>\n",
              "      <th>REC_AVA_1_2022</th>\n",
              "      <th>REC_AVA_2_2022</th>\n",
              "      <th>REC_AVA_3_2022</th>\n",
              "      <th>REC_AVA_4_2022</th>\n",
              "      <th>INDICADO_BOLSA_2022</th>\n",
              "      <th>PONTO_VIRADA_2022</th>\n",
              "      <th>IPV_2022</th>\n",
              "      <th>IAN_2022</th>\n",
              "      <th>NIVEL_IDEAL_2022</th>\n",
              "    </tr>\n",
              "  </thead>\n",
              "  <tbody>\n",
              "    <tr>\n",
              "      <th>0</th>\n",
              "      <td>Escola Pública</td>\n",
              "      <td>ALUNO-1</td>\n",
              "      <td>11</td>\n",
              "      <td>2</td>\n",
              "      <td>2H</td>\n",
              "      <td>Não</td>\n",
              "      <td>7.883752</td>\n",
              "      <td>B</td>\n",
              "      <td>Ametista</td>\n",
              "      <td>Seu destaque em 2020: A sua boa entrega das li...</td>\n",
              "      <td>Ponto a melhorar em 2021: Empenhar-se mais nas...</td>\n",
              "      <td>Seu destaque em 2020: A sua boa integração aos...</td>\n",
              "      <td>8.500020000000001</td>\n",
              "      <td>8.7</td>\n",
              "      <td>7.5</td>\n",
              "      <td>7</td>\n",
              "      <td>5.9375</td>\n",
              "      <td>7.75</td>\n",
              "      <td>10</td>\n",
              "      <td>2.0</td>\n",
              "      <td>G</td>\n",
              "      <td>Rede Decisão</td>\n",
              "      <td>Ingressante</td>\n",
              "      <td>Ametista</td>\n",
              "      <td>7.319</td>\n",
              "      <td>7.5</td>\n",
              "      <td>6.3</td>\n",
              "      <td>6.9</td>\n",
              "      <td>8.8</td>\n",
              "      <td>7.7</td>\n",
              "      <td>Promovido de Fase</td>\n",
              "      <td>Promovido de Fase</td>\n",
              "      <td>Mantido na Fase atual</td>\n",
              "      <td>Não avaliado</td>\n",
              "      <td>Não</td>\n",
              "      <td>8.1</td>\n",
              "      <td>5.0</td>\n",
              "      <td>Nível 3 (7o e 8o ano)</td>\n",
              "      <td>-1.0</td>\n",
              "      <td>NaN</td>\n",
              "      <td>NaN</td>\n",
              "      <td>NaN</td>\n",
              "      <td>NaN</td>\n",
              "      <td>NaN</td>\n",
              "      <td>NaN</td>\n",
              "      <td>NaN</td>\n",
              "      <td>NaN</td>\n",
              "      <td>NaN</td>\n",
              "      <td>NaN</td>\n",
              "      <td>NaN</td>\n",
              "      <td>NaN</td>\n",
              "      <td>NaN</td>\n",
              "      <td>NaN</td>\n",
              "      <td>NaN</td>\n",
              "      <td>NaN</td>\n",
              "      <td>NaN</td>\n",
              "      <td>NaN</td>\n",
              "      <td>NaN</td>\n",
              "      <td>NaN</td>\n",
              "      <td>NaN</td>\n",
              "      <td>NaN</td>\n",
              "      <td>NaN</td>\n",
              "      <td>NaN</td>\n",
              "      <td>NaN</td>\n",
              "      <td>NaN</td>\n",
              "      <td>NaN</td>\n",
              "      <td>NaN</td>\n",
              "      <td>NaN</td>\n",
              "      <td>NaN</td>\n",
              "    </tr>\n",
              "    <tr>\n",
              "      <th>1</th>\n",
              "      <td>NaN</td>\n",
              "      <td>ALUNO-2</td>\n",
              "      <td>NaN</td>\n",
              "      <td>NaN</td>\n",
              "      <td>NaN</td>\n",
              "      <td>NaN</td>\n",
              "      <td>NaN</td>\n",
              "      <td>NaN</td>\n",
              "      <td>NaN</td>\n",
              "      <td>NaN</td>\n",
              "      <td>NaN</td>\n",
              "      <td>NaN</td>\n",
              "      <td>NaN</td>\n",
              "      <td>NaN</td>\n",
              "      <td>NaN</td>\n",
              "      <td>NaN</td>\n",
              "      <td>NaN</td>\n",
              "      <td>NaN</td>\n",
              "      <td>NaN</td>\n",
              "      <td>NaN</td>\n",
              "      <td>NaN</td>\n",
              "      <td>NaN</td>\n",
              "      <td>NaN</td>\n",
              "      <td>NaN</td>\n",
              "      <td>NaN</td>\n",
              "      <td>NaN</td>\n",
              "      <td>NaN</td>\n",
              "      <td>NaN</td>\n",
              "      <td>NaN</td>\n",
              "      <td>NaN</td>\n",
              "      <td>NaN</td>\n",
              "      <td>NaN</td>\n",
              "      <td>NaN</td>\n",
              "      <td>NaN</td>\n",
              "      <td>NaN</td>\n",
              "      <td>NaN</td>\n",
              "      <td>NaN</td>\n",
              "      <td>NaN</td>\n",
              "      <td>NaN</td>\n",
              "      <td>0.0</td>\n",
              "      <td>K</td>\n",
              "      <td>2022.0</td>\n",
              "      <td>Não</td>\n",
              "      <td>7.675509</td>\n",
              "      <td>245.0</td>\n",
              "      <td>66.0</td>\n",
              "      <td>6.0</td>\n",
              "      <td>Ametista</td>\n",
              "      <td>Destaque: A sua boa entrega das lições de casa.</td>\n",
              "      <td>Destaque: As suas boas notas na Passos Mágicos.</td>\n",
              "      <td>Destaque: A sua boa integração aos Princípios ...</td>\n",
              "      <td>10.00002</td>\n",
              "      <td>7.581705</td>\n",
              "      <td>7.5</td>\n",
              "      <td>8.816667</td>\n",
              "      <td>8.200000</td>\n",
              "      <td>9.433333</td>\n",
              "      <td>NaN</td>\n",
              "      <td>2.0</td>\n",
              "      <td>5.625000</td>\n",
              "      <td>Mantido na Fase + Bolsa</td>\n",
              "      <td>Mantido na Fase atual</td>\n",
              "      <td>NaN</td>\n",
              "      <td>NaN</td>\n",
              "      <td>Sim</td>\n",
              "      <td>Não</td>\n",
              "      <td>7.916665</td>\n",
              "      <td>5.0</td>\n",
              "      <td>Fase 2 (5º e 6º ano)</td>\n",
              "    </tr>\n",
              "    <tr>\n",
              "      <th>2</th>\n",
              "      <td>Escola Pública</td>\n",
              "      <td>ALUNO-3</td>\n",
              "      <td>12</td>\n",
              "      <td>2</td>\n",
              "      <td>3H</td>\n",
              "      <td>Não</td>\n",
              "      <td>7.856389666666666</td>\n",
              "      <td>B</td>\n",
              "      <td>Ametista</td>\n",
              "      <td>Seu destaque em 2020: A sua boa entrega das li...</td>\n",
              "      <td>Ponto a melhorar em 2021: Empenhar-se mais nas...</td>\n",
              "      <td>Seu destaque em 2020: A sua boa integração aos...</td>\n",
              "      <td>7.91667</td>\n",
              "      <td>8.9</td>\n",
              "      <td>7.5</td>\n",
              "      <td>5.5</td>\n",
              "      <td>8.125</td>\n",
              "      <td>8.111113333333334</td>\n",
              "      <td>10</td>\n",
              "      <td>3.0</td>\n",
              "      <td>F</td>\n",
              "      <td>Escola Pública</td>\n",
              "      <td>Veterano</td>\n",
              "      <td>Ametista</td>\n",
              "      <td>7.021</td>\n",
              "      <td>7.1</td>\n",
              "      <td>6.9</td>\n",
              "      <td>6.3</td>\n",
              "      <td>5.6</td>\n",
              "      <td>7.3</td>\n",
              "      <td>Promovido de Fase</td>\n",
              "      <td>Promovido de Fase</td>\n",
              "      <td>Mantido na Fase atual</td>\n",
              "      <td>Não avaliado</td>\n",
              "      <td>Não</td>\n",
              "      <td>7.2</td>\n",
              "      <td>10.0</td>\n",
              "      <td>Nível 3 (7o e 8o ano)</td>\n",
              "      <td>0.0</td>\n",
              "      <td>NaN</td>\n",
              "      <td>NaN</td>\n",
              "      <td>NaN</td>\n",
              "      <td>NaN</td>\n",
              "      <td>NaN</td>\n",
              "      <td>NaN</td>\n",
              "      <td>NaN</td>\n",
              "      <td>NaN</td>\n",
              "      <td>NaN</td>\n",
              "      <td>NaN</td>\n",
              "      <td>NaN</td>\n",
              "      <td>NaN</td>\n",
              "      <td>NaN</td>\n",
              "      <td>NaN</td>\n",
              "      <td>NaN</td>\n",
              "      <td>NaN</td>\n",
              "      <td>NaN</td>\n",
              "      <td>NaN</td>\n",
              "      <td>NaN</td>\n",
              "      <td>NaN</td>\n",
              "      <td>NaN</td>\n",
              "      <td>NaN</td>\n",
              "      <td>NaN</td>\n",
              "      <td>NaN</td>\n",
              "      <td>NaN</td>\n",
              "      <td>NaN</td>\n",
              "      <td>NaN</td>\n",
              "      <td>NaN</td>\n",
              "      <td>NaN</td>\n",
              "      <td>NaN</td>\n",
              "    </tr>\n",
              "    <tr>\n",
              "      <th>3</th>\n",
              "      <td>Escola Pública</td>\n",
              "      <td>ALUNO-4</td>\n",
              "      <td>10</td>\n",
              "      <td>2</td>\n",
              "      <td>1D</td>\n",
              "      <td>Não</td>\n",
              "      <td>5.076252</td>\n",
              "      <td>D</td>\n",
              "      <td>Quartzo</td>\n",
              "      <td>Ponto a melhorar em 2021: Melhorar a sua entre...</td>\n",
              "      <td>Ponto a melhorar em 2021: Empenhar-se mais nas...</td>\n",
              "      <td>Ponto a melhorar em 2021: Integrar-se mais aos...</td>\n",
              "      <td>8.000020000000001</td>\n",
              "      <td>4.1</td>\n",
              "      <td>6.875</td>\n",
              "      <td>0</td>\n",
              "      <td>7.1875</td>\n",
              "      <td>7.75</td>\n",
              "      <td>5</td>\n",
              "      <td>NaN</td>\n",
              "      <td>NaN</td>\n",
              "      <td>NaN</td>\n",
              "      <td>NaN</td>\n",
              "      <td>NaN</td>\n",
              "      <td>NaN</td>\n",
              "      <td>NaN</td>\n",
              "      <td>NaN</td>\n",
              "      <td>NaN</td>\n",
              "      <td>NaN</td>\n",
              "      <td>NaN</td>\n",
              "      <td>NaN</td>\n",
              "      <td>NaN</td>\n",
              "      <td>NaN</td>\n",
              "      <td>NaN</td>\n",
              "      <td>NaN</td>\n",
              "      <td>NaN</td>\n",
              "      <td>NaN</td>\n",
              "      <td>NaN</td>\n",
              "      <td>NaN</td>\n",
              "      <td>2.0</td>\n",
              "      <td>J</td>\n",
              "      <td>2022.0</td>\n",
              "      <td>Não</td>\n",
              "      <td>7.117065</td>\n",
              "      <td>451.0</td>\n",
              "      <td>69.0</td>\n",
              "      <td>3.0</td>\n",
              "      <td>Ametista</td>\n",
              "      <td>Destaque: A sua boa entrega das lições de casa.</td>\n",
              "      <td>Melhorar: Empenhar-se mais nas aulas e avaliaç...</td>\n",
              "      <td>Destaque: A sua boa integração aos Princípios ...</td>\n",
              "      <td>10.00002</td>\n",
              "      <td>8.071429</td>\n",
              "      <td>7.5</td>\n",
              "      <td>5.083333</td>\n",
              "      <td>5.000000</td>\n",
              "      <td>5.166667</td>\n",
              "      <td>NaN</td>\n",
              "      <td>3.0</td>\n",
              "      <td>6.250000</td>\n",
              "      <td>Promovido de Fase</td>\n",
              "      <td>Mantido na Fase atual</td>\n",
              "      <td>Promovido de Fase</td>\n",
              "      <td>NaN</td>\n",
              "      <td>Não</td>\n",
              "      <td>Não</td>\n",
              "      <td>8.055553</td>\n",
              "      <td>5.0</td>\n",
              "      <td>Fase 3 (7º e 8º ano)</td>\n",
              "    </tr>\n",
              "    <tr>\n",
              "      <th>4</th>\n",
              "      <td>Escola Pública</td>\n",
              "      <td>ALUNO-5</td>\n",
              "      <td>10</td>\n",
              "      <td>1</td>\n",
              "      <td>2M</td>\n",
              "      <td>Não</td>\n",
              "      <td>8.077085</td>\n",
              "      <td>B</td>\n",
              "      <td>Ametista</td>\n",
              "      <td>Seu destaque em 2020: A sua boa entrega das li...</td>\n",
              "      <td>Seu destaque em 2020: As suas boas notas na Pa...</td>\n",
              "      <td>Seu destaque em 2020: A sua boa integração aos...</td>\n",
              "      <td>7.50002</td>\n",
              "      <td>8</td>\n",
              "      <td>7.5</td>\n",
              "      <td>7.5</td>\n",
              "      <td>8.4375</td>\n",
              "      <td>8.166665</td>\n",
              "      <td>10</td>\n",
              "      <td>2.0</td>\n",
              "      <td>L</td>\n",
              "      <td>Escola Pública</td>\n",
              "      <td>Veterano</td>\n",
              "      <td>Ametista</td>\n",
              "      <td>7.399</td>\n",
              "      <td>7.4</td>\n",
              "      <td>7.5</td>\n",
              "      <td>7.5</td>\n",
              "      <td>5.4</td>\n",
              "      <td>8.5</td>\n",
              "      <td>Promovido de Fase</td>\n",
              "      <td>Mantido na Fase atual</td>\n",
              "      <td>Mantido na Fase atual</td>\n",
              "      <td>Não avaliado</td>\n",
              "      <td>Não</td>\n",
              "      <td>7.4</td>\n",
              "      <td>10.0</td>\n",
              "      <td>Nível 2 (5o e 6o ano)</td>\n",
              "      <td>0.0</td>\n",
              "      <td>2.0</td>\n",
              "      <td>L</td>\n",
              "      <td>2019.0</td>\n",
              "      <td>Não</td>\n",
              "      <td>7.232336</td>\n",
              "      <td>415.0</td>\n",
              "      <td>61.0</td>\n",
              "      <td>12.0</td>\n",
              "      <td>Ametista</td>\n",
              "      <td>Destaque: A sua boa entrega das lições de casa.</td>\n",
              "      <td>Melhorar: Empenhar-se mais nas aulas e avaliaç...</td>\n",
              "      <td>Destaque: A sua boa integração aos Princípios ...</td>\n",
              "      <td>6.41668</td>\n",
              "      <td>8.557505</td>\n",
              "      <td>7.5</td>\n",
              "      <td>7.083333</td>\n",
              "      <td>6.666667</td>\n",
              "      <td>7.500000</td>\n",
              "      <td>NaN</td>\n",
              "      <td>3.0</td>\n",
              "      <td>6.458333</td>\n",
              "      <td>Mantido na Fase atual</td>\n",
              "      <td>Promovido de Fase</td>\n",
              "      <td>Mantido na Fase atual</td>\n",
              "      <td>NaN</td>\n",
              "      <td>Não</td>\n",
              "      <td>Não</td>\n",
              "      <td>7.833337</td>\n",
              "      <td>5.0</td>\n",
              "      <td>Fase 3 (7º e 8º ano)</td>\n",
              "    </tr>\n",
              "  </tbody>\n",
              "</table>\n",
              "</div>"
            ],
            "text/plain": [
              "  INSTITUICAO_ENSINO_ALUNO_2020     NOME IDADE_ALUNO_2020 ANOS_PM_2020  \\\n",
              "0                Escola Pública  ALUNO-1               11            2   \n",
              "1                           NaN  ALUNO-2              NaN          NaN   \n",
              "2                Escola Pública  ALUNO-3               12            2   \n",
              "3                Escola Pública  ALUNO-4               10            2   \n",
              "4                Escola Pública  ALUNO-5               10            1   \n",
              "\n",
              "  FASE_TURMA_2020 PONTO_VIRADA_2020          INDE_2020 INDE_CONCEITO_2020  \\\n",
              "0              2H               Não           7.883752                  B   \n",
              "1             NaN               NaN                NaN                NaN   \n",
              "2              3H               Não  7.856389666666666                  B   \n",
              "3              1D               Não           5.076252                  D   \n",
              "4              2M               Não           8.077085                  B   \n",
              "\n",
              "  PEDRA_2020                                  DESTAQUE_IEG_2020  \\\n",
              "0   Ametista  Seu destaque em 2020: A sua boa entrega das li...   \n",
              "1        NaN                                                NaN   \n",
              "2   Ametista  Seu destaque em 2020: A sua boa entrega das li...   \n",
              "3    Quartzo  Ponto a melhorar em 2021: Melhorar a sua entre...   \n",
              "4   Ametista  Seu destaque em 2020: A sua boa entrega das li...   \n",
              "\n",
              "                                   DESTAQUE_IDA_2020  \\\n",
              "0  Ponto a melhorar em 2021: Empenhar-se mais nas...   \n",
              "1                                                NaN   \n",
              "2  Ponto a melhorar em 2021: Empenhar-se mais nas...   \n",
              "3  Ponto a melhorar em 2021: Empenhar-se mais nas...   \n",
              "4  Seu destaque em 2020: As suas boas notas na Pa...   \n",
              "\n",
              "                                   DESTAQUE_IPV_2020           IAA_2020  \\\n",
              "0  Seu destaque em 2020: A sua boa integração aos...  8.500020000000001   \n",
              "1                                                NaN                NaN   \n",
              "2  Seu destaque em 2020: A sua boa integração aos...            7.91667   \n",
              "3  Ponto a melhorar em 2021: Integrar-se mais aos...  8.000020000000001   \n",
              "4  Seu destaque em 2020: A sua boa integração aos...            7.50002   \n",
              "\n",
              "  IEG_2020 IPS_2020 IDA_2020 IPP_2020           IPV_2020 IAN_2020  FASE_2021  \\\n",
              "0      8.7      7.5        7   5.9375               7.75       10        2.0   \n",
              "1      NaN      NaN      NaN      NaN                NaN      NaN        NaN   \n",
              "2      8.9      7.5      5.5    8.125  8.111113333333334       10        3.0   \n",
              "3      4.1    6.875        0   7.1875               7.75        5        NaN   \n",
              "4        8      7.5      7.5   8.4375           8.166665       10        2.0   \n",
              "\n",
              "  TURMA_2021 INSTITUICAO_ENSINO_ALUNO_2021 SINALIZADOR_INGRESSANTE_2021  \\\n",
              "0          G                  Rede Decisão                  Ingressante   \n",
              "1        NaN                           NaN                          NaN   \n",
              "2          F                Escola Pública                     Veterano   \n",
              "3        NaN                           NaN                          NaN   \n",
              "4          L                Escola Pública                     Veterano   \n",
              "\n",
              "  PEDRA_2021 INDE_2021  IAA_2021  IEG_2021  IPS_2021  IDA_2021  IPP_2021  \\\n",
              "0   Ametista     7.319       7.5       6.3       6.9       8.8       7.7   \n",
              "1        NaN       NaN       NaN       NaN       NaN       NaN       NaN   \n",
              "2   Ametista     7.021       7.1       6.9       6.3       5.6       7.3   \n",
              "3        NaN       NaN       NaN       NaN       NaN       NaN       NaN   \n",
              "4   Ametista     7.399       7.4       7.5       7.5       5.4       8.5   \n",
              "\n",
              "   REC_EQUIPE_1_2021      REC_EQUIPE_2_2021      REC_EQUIPE_3_2021  \\\n",
              "0  Promovido de Fase      Promovido de Fase  Mantido na Fase atual   \n",
              "1                NaN                    NaN                    NaN   \n",
              "2  Promovido de Fase      Promovido de Fase  Mantido na Fase atual   \n",
              "3                NaN                    NaN                    NaN   \n",
              "4  Promovido de Fase  Mantido na Fase atual  Mantido na Fase atual   \n",
              "\n",
              "  REC_EQUIPE_4_2021 PONTO_VIRADA_2021  IPV_2021  IAN_2021  \\\n",
              "0      Não avaliado               Não       8.1       5.0   \n",
              "1               NaN               NaN       NaN       NaN   \n",
              "2      Não avaliado               Não       7.2      10.0   \n",
              "3               NaN               NaN       NaN       NaN   \n",
              "4      Não avaliado               Não       7.4      10.0   \n",
              "\n",
              "        NIVEL_IDEAL_2021  DEFASAGEM_2021  FASE_2022 TURMA_2022  \\\n",
              "0  Nível 3 (7o e 8o ano)            -1.0        NaN        NaN   \n",
              "1                    NaN             NaN        0.0          K   \n",
              "2  Nível 3 (7o e 8o ano)             0.0        NaN        NaN   \n",
              "3                    NaN             NaN        2.0          J   \n",
              "4  Nível 2 (5o e 6o ano)             0.0        2.0          L   \n",
              "\n",
              "   ANO_INGRESSO_2022 BOLSISTA_2022  INDE_2022  CG_2022  CF_2022  CT_2022  \\\n",
              "0                NaN           NaN        NaN      NaN      NaN      NaN   \n",
              "1             2022.0           Não   7.675509    245.0     66.0      6.0   \n",
              "2                NaN           NaN        NaN      NaN      NaN      NaN   \n",
              "3             2022.0           Não   7.117065    451.0     69.0      3.0   \n",
              "4             2019.0           Não   7.232336    415.0     61.0     12.0   \n",
              "\n",
              "  PEDRA_2022                                DESTAQUE_IEG_2022  \\\n",
              "0        NaN                                              NaN   \n",
              "1   Ametista  Destaque: A sua boa entrega das lições de casa.   \n",
              "2        NaN                                              NaN   \n",
              "3   Ametista  Destaque: A sua boa entrega das lições de casa.   \n",
              "4   Ametista  Destaque: A sua boa entrega das lições de casa.   \n",
              "\n",
              "                                   DESTAQUE_IDA_2022  \\\n",
              "0                                                NaN   \n",
              "1    Destaque: As suas boas notas na Passos Mágicos.   \n",
              "2                                                NaN   \n",
              "3  Melhorar: Empenhar-se mais nas aulas e avaliaç...   \n",
              "4  Melhorar: Empenhar-se mais nas aulas e avaliaç...   \n",
              "\n",
              "                                   DESTAQUE_IPV_2022  IAA_2022  IEG_2022  \\\n",
              "0                                                NaN       NaN       NaN   \n",
              "1  Destaque: A sua boa integração aos Princípios ...  10.00002  7.581705   \n",
              "2                                                NaN       NaN       NaN   \n",
              "3  Destaque: A sua boa integração aos Princípios ...  10.00002  8.071429   \n",
              "4  Destaque: A sua boa integração aos Princípios ...   6.41668  8.557505   \n",
              "\n",
              "   IPS_2022  IDA_2022  NOTA_PORT_2022  NOTA_MAT_2022  NOTA_ING_2022  \\\n",
              "0       NaN       NaN             NaN            NaN            NaN   \n",
              "1       7.5  8.816667        8.200000       9.433333            NaN   \n",
              "2       NaN       NaN             NaN            NaN            NaN   \n",
              "3       7.5  5.083333        5.000000       5.166667            NaN   \n",
              "4       7.5  7.083333        6.666667       7.500000            NaN   \n",
              "\n",
              "   QTD_AVAL_2022  IPP_2022           REC_AVA_1_2022         REC_AVA_2_2022  \\\n",
              "0            NaN       NaN                      NaN                    NaN   \n",
              "1            2.0  5.625000  Mantido na Fase + Bolsa  Mantido na Fase atual   \n",
              "2            NaN       NaN                      NaN                    NaN   \n",
              "3            3.0  6.250000        Promovido de Fase  Mantido na Fase atual   \n",
              "4            3.0  6.458333    Mantido na Fase atual      Promovido de Fase   \n",
              "\n",
              "          REC_AVA_3_2022 REC_AVA_4_2022 INDICADO_BOLSA_2022 PONTO_VIRADA_2022  \\\n",
              "0                    NaN            NaN                 NaN               NaN   \n",
              "1                    NaN            NaN                 Sim               Não   \n",
              "2                    NaN            NaN                 NaN               NaN   \n",
              "3      Promovido de Fase            NaN                 Não               Não   \n",
              "4  Mantido na Fase atual            NaN                 Não               Não   \n",
              "\n",
              "   IPV_2022  IAN_2022      NIVEL_IDEAL_2022  \n",
              "0       NaN       NaN                   NaN  \n",
              "1  7.916665       5.0  Fase 2 (5º e 6º ano)  \n",
              "2       NaN       NaN                   NaN  \n",
              "3  8.055553       5.0  Fase 3 (7º e 8º ano)  \n",
              "4  7.833337       5.0  Fase 3 (7º e 8º ano)  "
            ]
          },
          "execution_count": 3,
          "metadata": {},
          "output_type": "execute_result"
        }
      ],
      "source": [
        "df.head()"
      ]
    },
    {
      "cell_type": "code",
      "execution_count": 4,
      "metadata": {
        "id": "fy8op_FdrZWN"
      },
      "outputs": [],
      "source": [
        "df['TEMPO_INGRESSO_2022'] = 2022 - df['ANO_INGRESSO_2022']"
      ]
    },
    {
      "cell_type": "code",
      "execution_count": 5,
      "metadata": {
        "id": "9lD7F-ApHAjC"
      },
      "outputs": [],
      "source": [
        "def filter_columns_in(df, filters: list):\n",
        "    selected_columns = [False] * len(df.columns)\n",
        "    for index, column in enumerate(df.columns):\n",
        "        if any(filter in column for filter in filters): selected_columns[index] = True\n",
        "    return df[df.columns[selected_columns]]"
      ]
    },
    {
      "cell_type": "code",
      "execution_count": 6,
      "metadata": {
        "id": "PgzaoQ-RH7Ug"
      },
      "outputs": [],
      "source": [
        "def filter_columns(df, filters: list):\n",
        "    selected_columns = [True] * len(df.columns)\n",
        "    for index, column in enumerate(df.columns):\n",
        "        if any(filter in column for filter in filters): selected_columns[index] = False\n",
        "    return df[df.columns[selected_columns]]"
      ]
    },
    {
      "cell_type": "code",
      "execution_count": 7,
      "metadata": {
        "id": "xUN01SU-H80p"
      },
      "outputs": [],
      "source": [
        "def cleaning_dataset(df):\n",
        "  _df = df.dropna(subset=df.columns.difference(['NOME']), how='all')\n",
        "  _df = _df[~_df.isna().all(axis=1)]\n",
        "  return _df"
      ]
    },
    {
      "cell_type": "markdown",
      "metadata": {
        "id": "pTXvQq6hHxDJ"
      },
      "source": [
        "RF\n"
      ]
    },
    {
      "cell_type": "code",
      "execution_count": 8,
      "metadata": {
        "colab": {
          "base_uri": "https://localhost:8080/",
          "height": 258
        },
        "id": "ij3Upn9zHCoW",
        "outputId": "cc3dc3be-39aa-4e69-b0bd-974491c948c2"
      },
      "outputs": [
        {
          "data": {
            "text/html": [
              "<div>\n",
              "<style scoped>\n",
              "    .dataframe tbody tr th:only-of-type {\n",
              "        vertical-align: middle;\n",
              "    }\n",
              "\n",
              "    .dataframe tbody tr th {\n",
              "        vertical-align: top;\n",
              "    }\n",
              "\n",
              "    .dataframe thead th {\n",
              "        text-align: right;\n",
              "    }\n",
              "</style>\n",
              "<table border=\"1\" class=\"dataframe\">\n",
              "  <thead>\n",
              "    <tr style=\"text-align: right;\">\n",
              "      <th></th>\n",
              "      <th>INDE_2022</th>\n",
              "      <th>DESTAQUE_IEG_2022</th>\n",
              "      <th>DESTAQUE_IDA_2022</th>\n",
              "      <th>DESTAQUE_IPV_2022</th>\n",
              "      <th>IAA_2022</th>\n",
              "      <th>IEG_2022</th>\n",
              "      <th>IPS_2022</th>\n",
              "      <th>IDA_2022</th>\n",
              "      <th>IPP_2022</th>\n",
              "      <th>IPV_2022</th>\n",
              "      <th>IAN_2022</th>\n",
              "    </tr>\n",
              "  </thead>\n",
              "  <tbody>\n",
              "    <tr>\n",
              "      <th>0</th>\n",
              "      <td>NaN</td>\n",
              "      <td>NaN</td>\n",
              "      <td>NaN</td>\n",
              "      <td>NaN</td>\n",
              "      <td>NaN</td>\n",
              "      <td>NaN</td>\n",
              "      <td>NaN</td>\n",
              "      <td>NaN</td>\n",
              "      <td>NaN</td>\n",
              "      <td>NaN</td>\n",
              "      <td>NaN</td>\n",
              "    </tr>\n",
              "    <tr>\n",
              "      <th>1</th>\n",
              "      <td>7.675509</td>\n",
              "      <td>Destaque: A sua boa entrega das lições de casa.</td>\n",
              "      <td>Destaque: As suas boas notas na Passos Mágicos.</td>\n",
              "      <td>Destaque: A sua boa integração aos Princípios ...</td>\n",
              "      <td>10.00002</td>\n",
              "      <td>7.581705</td>\n",
              "      <td>7.5</td>\n",
              "      <td>8.816667</td>\n",
              "      <td>5.625000</td>\n",
              "      <td>7.916665</td>\n",
              "      <td>5.0</td>\n",
              "    </tr>\n",
              "    <tr>\n",
              "      <th>2</th>\n",
              "      <td>NaN</td>\n",
              "      <td>NaN</td>\n",
              "      <td>NaN</td>\n",
              "      <td>NaN</td>\n",
              "      <td>NaN</td>\n",
              "      <td>NaN</td>\n",
              "      <td>NaN</td>\n",
              "      <td>NaN</td>\n",
              "      <td>NaN</td>\n",
              "      <td>NaN</td>\n",
              "      <td>NaN</td>\n",
              "    </tr>\n",
              "    <tr>\n",
              "      <th>3</th>\n",
              "      <td>7.117065</td>\n",
              "      <td>Destaque: A sua boa entrega das lições de casa.</td>\n",
              "      <td>Melhorar: Empenhar-se mais nas aulas e avaliaç...</td>\n",
              "      <td>Destaque: A sua boa integração aos Princípios ...</td>\n",
              "      <td>10.00002</td>\n",
              "      <td>8.071429</td>\n",
              "      <td>7.5</td>\n",
              "      <td>5.083333</td>\n",
              "      <td>6.250000</td>\n",
              "      <td>8.055553</td>\n",
              "      <td>5.0</td>\n",
              "    </tr>\n",
              "    <tr>\n",
              "      <th>4</th>\n",
              "      <td>7.232336</td>\n",
              "      <td>Destaque: A sua boa entrega das lições de casa.</td>\n",
              "      <td>Melhorar: Empenhar-se mais nas aulas e avaliaç...</td>\n",
              "      <td>Destaque: A sua boa integração aos Princípios ...</td>\n",
              "      <td>6.41668</td>\n",
              "      <td>8.557505</td>\n",
              "      <td>7.5</td>\n",
              "      <td>7.083333</td>\n",
              "      <td>6.458333</td>\n",
              "      <td>7.833337</td>\n",
              "      <td>5.0</td>\n",
              "    </tr>\n",
              "  </tbody>\n",
              "</table>\n",
              "</div>"
            ],
            "text/plain": [
              "   INDE_2022                                DESTAQUE_IEG_2022  \\\n",
              "0        NaN                                              NaN   \n",
              "1   7.675509  Destaque: A sua boa entrega das lições de casa.   \n",
              "2        NaN                                              NaN   \n",
              "3   7.117065  Destaque: A sua boa entrega das lições de casa.   \n",
              "4   7.232336  Destaque: A sua boa entrega das lições de casa.   \n",
              "\n",
              "                                   DESTAQUE_IDA_2022  \\\n",
              "0                                                NaN   \n",
              "1    Destaque: As suas boas notas na Passos Mágicos.   \n",
              "2                                                NaN   \n",
              "3  Melhorar: Empenhar-se mais nas aulas e avaliaç...   \n",
              "4  Melhorar: Empenhar-se mais nas aulas e avaliaç...   \n",
              "\n",
              "                                   DESTAQUE_IPV_2022  IAA_2022  IEG_2022  \\\n",
              "0                                                NaN       NaN       NaN   \n",
              "1  Destaque: A sua boa integração aos Princípios ...  10.00002  7.581705   \n",
              "2                                                NaN       NaN       NaN   \n",
              "3  Destaque: A sua boa integração aos Princípios ...  10.00002  8.071429   \n",
              "4  Destaque: A sua boa integração aos Princípios ...   6.41668  8.557505   \n",
              "\n",
              "   IPS_2022  IDA_2022  IPP_2022  IPV_2022  IAN_2022  \n",
              "0       NaN       NaN       NaN       NaN       NaN  \n",
              "1       7.5  8.816667  5.625000  7.916665       5.0  \n",
              "2       NaN       NaN       NaN       NaN       NaN  \n",
              "3       7.5  5.083333  6.250000  8.055553       5.0  \n",
              "4       7.5  7.083333  6.458333  7.833337       5.0  "
            ]
          },
          "execution_count": 8,
          "metadata": {},
          "output_type": "execute_result"
        }
      ],
      "source": [
        "df_predict = filter_columns_in(df, ['IAN_2022', 'IEG_2022','IPS_2022','IPV_2022', 'IAA_2022', 'IDA_2022', 'IPP_2022', 'INDE_2022'])\n",
        "df_predict.head()"
      ]
    },
    {
      "cell_type": "code",
      "execution_count": 9,
      "metadata": {
        "colab": {
          "base_uri": "https://localhost:8080/",
          "height": 206
        },
        "id": "w7FXgoJ6H2cM",
        "outputId": "17af0fa3-0ae0-4b5b-8a08-20212f3aad58"
      },
      "outputs": [
        {
          "data": {
            "text/html": [
              "<div>\n",
              "<style scoped>\n",
              "    .dataframe tbody tr th:only-of-type {\n",
              "        vertical-align: middle;\n",
              "    }\n",
              "\n",
              "    .dataframe tbody tr th {\n",
              "        vertical-align: top;\n",
              "    }\n",
              "\n",
              "    .dataframe thead th {\n",
              "        text-align: right;\n",
              "    }\n",
              "</style>\n",
              "<table border=\"1\" class=\"dataframe\">\n",
              "  <thead>\n",
              "    <tr style=\"text-align: right;\">\n",
              "      <th></th>\n",
              "      <th>INDE_2022</th>\n",
              "      <th>IAA_2022</th>\n",
              "      <th>IEG_2022</th>\n",
              "      <th>IPS_2022</th>\n",
              "      <th>IDA_2022</th>\n",
              "      <th>IPP_2022</th>\n",
              "      <th>IPV_2022</th>\n",
              "      <th>IAN_2022</th>\n",
              "    </tr>\n",
              "  </thead>\n",
              "  <tbody>\n",
              "    <tr>\n",
              "      <th>0</th>\n",
              "      <td>NaN</td>\n",
              "      <td>NaN</td>\n",
              "      <td>NaN</td>\n",
              "      <td>NaN</td>\n",
              "      <td>NaN</td>\n",
              "      <td>NaN</td>\n",
              "      <td>NaN</td>\n",
              "      <td>NaN</td>\n",
              "    </tr>\n",
              "    <tr>\n",
              "      <th>1</th>\n",
              "      <td>7.675509</td>\n",
              "      <td>10.00002</td>\n",
              "      <td>7.581705</td>\n",
              "      <td>7.5</td>\n",
              "      <td>8.816667</td>\n",
              "      <td>5.625000</td>\n",
              "      <td>7.916665</td>\n",
              "      <td>5.0</td>\n",
              "    </tr>\n",
              "    <tr>\n",
              "      <th>2</th>\n",
              "      <td>NaN</td>\n",
              "      <td>NaN</td>\n",
              "      <td>NaN</td>\n",
              "      <td>NaN</td>\n",
              "      <td>NaN</td>\n",
              "      <td>NaN</td>\n",
              "      <td>NaN</td>\n",
              "      <td>NaN</td>\n",
              "    </tr>\n",
              "    <tr>\n",
              "      <th>3</th>\n",
              "      <td>7.117065</td>\n",
              "      <td>10.00002</td>\n",
              "      <td>8.071429</td>\n",
              "      <td>7.5</td>\n",
              "      <td>5.083333</td>\n",
              "      <td>6.250000</td>\n",
              "      <td>8.055553</td>\n",
              "      <td>5.0</td>\n",
              "    </tr>\n",
              "    <tr>\n",
              "      <th>4</th>\n",
              "      <td>7.232336</td>\n",
              "      <td>6.41668</td>\n",
              "      <td>8.557505</td>\n",
              "      <td>7.5</td>\n",
              "      <td>7.083333</td>\n",
              "      <td>6.458333</td>\n",
              "      <td>7.833337</td>\n",
              "      <td>5.0</td>\n",
              "    </tr>\n",
              "  </tbody>\n",
              "</table>\n",
              "</div>"
            ],
            "text/plain": [
              "   INDE_2022  IAA_2022  IEG_2022  IPS_2022  IDA_2022  IPP_2022  IPV_2022  \\\n",
              "0        NaN       NaN       NaN       NaN       NaN       NaN       NaN   \n",
              "1   7.675509  10.00002  7.581705       7.5  8.816667  5.625000  7.916665   \n",
              "2        NaN       NaN       NaN       NaN       NaN       NaN       NaN   \n",
              "3   7.117065  10.00002  8.071429       7.5  5.083333  6.250000  8.055553   \n",
              "4   7.232336   6.41668  8.557505       7.5  7.083333  6.458333  7.833337   \n",
              "\n",
              "   IAN_2022  \n",
              "0       NaN  \n",
              "1       5.0  \n",
              "2       NaN  \n",
              "3       5.0  \n",
              "4       5.0  "
            ]
          },
          "execution_count": 9,
          "metadata": {},
          "output_type": "execute_result"
        }
      ],
      "source": [
        "df_predict = filter_columns(df_predict,['DESTAQUE_'])\n",
        "df_predict.head()"
      ]
    },
    {
      "cell_type": "code",
      "execution_count": 10,
      "metadata": {
        "id": "cCk_6gZnIUpq"
      },
      "outputs": [],
      "source": [
        "df_predict = cleaning_dataset(df_predict)"
      ]
    },
    {
      "cell_type": "markdown",
      "metadata": {
        "id": "B03cndPrpNCA"
      },
      "source": [
        "# Features Importance"
      ]
    },
    {
      "cell_type": "code",
      "execution_count": 11,
      "metadata": {
        "colab": {
          "base_uri": "https://localhost:8080/"
        },
        "id": "Jb8pLNCsKHoT",
        "outputId": "754edfcc-2caa-4a82-8617-5504a67b43fe"
      },
      "outputs": [
        {
          "name": "stdout",
          "output_type": "stream",
          "text": [
            "    feature  importance\n",
            "3  IDA_2022    0.516763\n",
            "1  IEG_2022    0.313273\n",
            "5  IPV_2022    0.099494\n",
            "6  IAN_2022    0.044324\n",
            "0  IAA_2022    0.018093\n",
            "2  IPS_2022    0.004390\n",
            "4  IPP_2022    0.003663\n"
          ]
        }
      ],
      "source": [
        "from sklearn.ensemble import RandomForestRegressor\n",
        "from sklearn.preprocessing import LabelEncoder\n",
        "from sklearn.impute import SimpleImputer\n",
        "\n",
        "# Create a random forest classifier\n",
        "regressor = RandomForestRegressor(random_state=42, max_depth=5)\n",
        "\n",
        "# Select relevant features and target variable, 'NOME'\n",
        "features = df_predict.drop(['INDE_2022'], axis=1)\n",
        "target = df_predict['INDE_2022']\n",
        "\n",
        "# Identify columns with non-numerical data\n",
        "categorical_cols = features.select_dtypes(include=['object']).columns\n",
        "\n",
        "# Apply label encoding to convert categorical features to numerical\n",
        "label_encoders = {}\n",
        "for col in categorical_cols:\n",
        "    le = LabelEncoder()\n",
        "    features[col] = le.fit_transform(features[col])\n",
        "    label_encoders[col] = le  # Store encoders for later use if needed\n",
        "\n",
        "# Impute missing values using SimpleImputer (replace NaNs with most frequent value)\n",
        "imputer = SimpleImputer(strategy='mean')  # Create an imputer instance\n",
        "features_imputed = imputer.fit_transform(features)  # Impute missing values\n",
        "\n",
        "# Handle missing values in the target variable (INDE_2022)\n",
        "# Option 1: Remove rows with missing target values\n",
        "features_imputed = features_imputed[~target.isna()] # Select rows where target is not NaN\n",
        "target = target[~target.isna()] # Select corresponding target values\n",
        "\n",
        "# Option 2: Impute missing target values (if appropriate for your data)\n",
        "# target_imputer = SimpleImputer(strategy='most_frequent') # Choose an appropriate strategy\n",
        "# target = target_imputer.fit_transform(target.values.reshape(-1, 1)).ravel()\n",
        "\n",
        "# Fit the classifier to the data with numerical features and imputed values\n",
        "regressor.fit(features_imputed, target)  # Use imputed features\n",
        "\n",
        "# Get the feature importances\n",
        "importances = regressor.feature_importances_\n",
        "\n",
        "# Create a dataframe of feature importances\n",
        "feature_importances = pd.DataFrame({'feature': features.columns, 'importance': importances})\n",
        "\n",
        "# Sort the features by importance\n",
        "feature_importances = feature_importances.sort_values('importance', ascending=False)\n",
        "\n",
        "print(feature_importances)"
      ]
    },
    {
      "cell_type": "code",
      "execution_count": 12,
      "metadata": {
        "id": "-godzOtVqBKZ"
      },
      "outputs": [],
      "source": [
        "# Define o target  'BOLSISTA_2022'\n",
        "y = df_predict['INDE_2022']\n",
        "\n",
        "# Apply label encoding to the target variable\n",
        "le = LabelEncoder()\n",
        "y = le.fit_transform(y)"
      ]
    },
    {
      "cell_type": "code",
      "execution_count": 13,
      "metadata": {
        "colab": {
          "base_uri": "https://localhost:8080/",
          "height": 542
        },
        "id": "kum2gv1_pUa9",
        "outputId": "d916ff27-9b5f-4cab-9ebd-f4347348db44"
      },
      "outputs": [
        {
          "data": {
            "application/vnd.plotly.v1+json": {
              "config": {
                "plotlyServerURL": "https://plot.ly"
              },
              "data": [
                {
                  "orientation": "h",
                  "type": "bar",
                  "x": [
                    0.5167629990492735,
                    0.31327332203066804,
                    0.0994937161413329,
                    0.04432371465176366,
                    0.018092672112976074,
                    0.0043900948784429406,
                    0.0036634811355427703
                  ],
                  "y": [
                    "IDA_2022",
                    "IEG_2022",
                    "IPV_2022",
                    "IAN_2022",
                    "IAA_2022",
                    "IPS_2022",
                    "IPP_2022"
                  ]
                }
              ],
              "layout": {
                "template": {
                  "data": {
                    "bar": [
                      {
                        "error_x": {
                          "color": "#2a3f5f"
                        },
                        "error_y": {
                          "color": "#2a3f5f"
                        },
                        "marker": {
                          "line": {
                            "color": "white",
                            "width": 0.5
                          },
                          "pattern": {
                            "fillmode": "overlay",
                            "size": 10,
                            "solidity": 0.2
                          }
                        },
                        "type": "bar"
                      }
                    ],
                    "barpolar": [
                      {
                        "marker": {
                          "line": {
                            "color": "white",
                            "width": 0.5
                          },
                          "pattern": {
                            "fillmode": "overlay",
                            "size": 10,
                            "solidity": 0.2
                          }
                        },
                        "type": "barpolar"
                      }
                    ],
                    "carpet": [
                      {
                        "aaxis": {
                          "endlinecolor": "#2a3f5f",
                          "gridcolor": "#C8D4E3",
                          "linecolor": "#C8D4E3",
                          "minorgridcolor": "#C8D4E3",
                          "startlinecolor": "#2a3f5f"
                        },
                        "baxis": {
                          "endlinecolor": "#2a3f5f",
                          "gridcolor": "#C8D4E3",
                          "linecolor": "#C8D4E3",
                          "minorgridcolor": "#C8D4E3",
                          "startlinecolor": "#2a3f5f"
                        },
                        "type": "carpet"
                      }
                    ],
                    "choropleth": [
                      {
                        "colorbar": {
                          "outlinewidth": 0,
                          "ticks": ""
                        },
                        "type": "choropleth"
                      }
                    ],
                    "contour": [
                      {
                        "colorbar": {
                          "outlinewidth": 0,
                          "ticks": ""
                        },
                        "colorscale": [
                          [
                            0,
                            "#0d0887"
                          ],
                          [
                            0.1111111111111111,
                            "#46039f"
                          ],
                          [
                            0.2222222222222222,
                            "#7201a8"
                          ],
                          [
                            0.3333333333333333,
                            "#9c179e"
                          ],
                          [
                            0.4444444444444444,
                            "#bd3786"
                          ],
                          [
                            0.5555555555555556,
                            "#d8576b"
                          ],
                          [
                            0.6666666666666666,
                            "#ed7953"
                          ],
                          [
                            0.7777777777777778,
                            "#fb9f3a"
                          ],
                          [
                            0.8888888888888888,
                            "#fdca26"
                          ],
                          [
                            1,
                            "#f0f921"
                          ]
                        ],
                        "type": "contour"
                      }
                    ],
                    "contourcarpet": [
                      {
                        "colorbar": {
                          "outlinewidth": 0,
                          "ticks": ""
                        },
                        "type": "contourcarpet"
                      }
                    ],
                    "heatmap": [
                      {
                        "colorbar": {
                          "outlinewidth": 0,
                          "ticks": ""
                        },
                        "colorscale": [
                          [
                            0,
                            "#0d0887"
                          ],
                          [
                            0.1111111111111111,
                            "#46039f"
                          ],
                          [
                            0.2222222222222222,
                            "#7201a8"
                          ],
                          [
                            0.3333333333333333,
                            "#9c179e"
                          ],
                          [
                            0.4444444444444444,
                            "#bd3786"
                          ],
                          [
                            0.5555555555555556,
                            "#d8576b"
                          ],
                          [
                            0.6666666666666666,
                            "#ed7953"
                          ],
                          [
                            0.7777777777777778,
                            "#fb9f3a"
                          ],
                          [
                            0.8888888888888888,
                            "#fdca26"
                          ],
                          [
                            1,
                            "#f0f921"
                          ]
                        ],
                        "type": "heatmap"
                      }
                    ],
                    "heatmapgl": [
                      {
                        "colorbar": {
                          "outlinewidth": 0,
                          "ticks": ""
                        },
                        "colorscale": [
                          [
                            0,
                            "#0d0887"
                          ],
                          [
                            0.1111111111111111,
                            "#46039f"
                          ],
                          [
                            0.2222222222222222,
                            "#7201a8"
                          ],
                          [
                            0.3333333333333333,
                            "#9c179e"
                          ],
                          [
                            0.4444444444444444,
                            "#bd3786"
                          ],
                          [
                            0.5555555555555556,
                            "#d8576b"
                          ],
                          [
                            0.6666666666666666,
                            "#ed7953"
                          ],
                          [
                            0.7777777777777778,
                            "#fb9f3a"
                          ],
                          [
                            0.8888888888888888,
                            "#fdca26"
                          ],
                          [
                            1,
                            "#f0f921"
                          ]
                        ],
                        "type": "heatmapgl"
                      }
                    ],
                    "histogram": [
                      {
                        "marker": {
                          "pattern": {
                            "fillmode": "overlay",
                            "size": 10,
                            "solidity": 0.2
                          }
                        },
                        "type": "histogram"
                      }
                    ],
                    "histogram2d": [
                      {
                        "colorbar": {
                          "outlinewidth": 0,
                          "ticks": ""
                        },
                        "colorscale": [
                          [
                            0,
                            "#0d0887"
                          ],
                          [
                            0.1111111111111111,
                            "#46039f"
                          ],
                          [
                            0.2222222222222222,
                            "#7201a8"
                          ],
                          [
                            0.3333333333333333,
                            "#9c179e"
                          ],
                          [
                            0.4444444444444444,
                            "#bd3786"
                          ],
                          [
                            0.5555555555555556,
                            "#d8576b"
                          ],
                          [
                            0.6666666666666666,
                            "#ed7953"
                          ],
                          [
                            0.7777777777777778,
                            "#fb9f3a"
                          ],
                          [
                            0.8888888888888888,
                            "#fdca26"
                          ],
                          [
                            1,
                            "#f0f921"
                          ]
                        ],
                        "type": "histogram2d"
                      }
                    ],
                    "histogram2dcontour": [
                      {
                        "colorbar": {
                          "outlinewidth": 0,
                          "ticks": ""
                        },
                        "colorscale": [
                          [
                            0,
                            "#0d0887"
                          ],
                          [
                            0.1111111111111111,
                            "#46039f"
                          ],
                          [
                            0.2222222222222222,
                            "#7201a8"
                          ],
                          [
                            0.3333333333333333,
                            "#9c179e"
                          ],
                          [
                            0.4444444444444444,
                            "#bd3786"
                          ],
                          [
                            0.5555555555555556,
                            "#d8576b"
                          ],
                          [
                            0.6666666666666666,
                            "#ed7953"
                          ],
                          [
                            0.7777777777777778,
                            "#fb9f3a"
                          ],
                          [
                            0.8888888888888888,
                            "#fdca26"
                          ],
                          [
                            1,
                            "#f0f921"
                          ]
                        ],
                        "type": "histogram2dcontour"
                      }
                    ],
                    "mesh3d": [
                      {
                        "colorbar": {
                          "outlinewidth": 0,
                          "ticks": ""
                        },
                        "type": "mesh3d"
                      }
                    ],
                    "parcoords": [
                      {
                        "line": {
                          "colorbar": {
                            "outlinewidth": 0,
                            "ticks": ""
                          }
                        },
                        "type": "parcoords"
                      }
                    ],
                    "pie": [
                      {
                        "automargin": true,
                        "type": "pie"
                      }
                    ],
                    "scatter": [
                      {
                        "fillpattern": {
                          "fillmode": "overlay",
                          "size": 10,
                          "solidity": 0.2
                        },
                        "type": "scatter"
                      }
                    ],
                    "scatter3d": [
                      {
                        "line": {
                          "colorbar": {
                            "outlinewidth": 0,
                            "ticks": ""
                          }
                        },
                        "marker": {
                          "colorbar": {
                            "outlinewidth": 0,
                            "ticks": ""
                          }
                        },
                        "type": "scatter3d"
                      }
                    ],
                    "scattercarpet": [
                      {
                        "marker": {
                          "colorbar": {
                            "outlinewidth": 0,
                            "ticks": ""
                          }
                        },
                        "type": "scattercarpet"
                      }
                    ],
                    "scattergeo": [
                      {
                        "marker": {
                          "colorbar": {
                            "outlinewidth": 0,
                            "ticks": ""
                          }
                        },
                        "type": "scattergeo"
                      }
                    ],
                    "scattergl": [
                      {
                        "marker": {
                          "colorbar": {
                            "outlinewidth": 0,
                            "ticks": ""
                          }
                        },
                        "type": "scattergl"
                      }
                    ],
                    "scattermapbox": [
                      {
                        "marker": {
                          "colorbar": {
                            "outlinewidth": 0,
                            "ticks": ""
                          }
                        },
                        "type": "scattermapbox"
                      }
                    ],
                    "scatterpolar": [
                      {
                        "marker": {
                          "colorbar": {
                            "outlinewidth": 0,
                            "ticks": ""
                          }
                        },
                        "type": "scatterpolar"
                      }
                    ],
                    "scatterpolargl": [
                      {
                        "marker": {
                          "colorbar": {
                            "outlinewidth": 0,
                            "ticks": ""
                          }
                        },
                        "type": "scatterpolargl"
                      }
                    ],
                    "scatterternary": [
                      {
                        "marker": {
                          "colorbar": {
                            "outlinewidth": 0,
                            "ticks": ""
                          }
                        },
                        "type": "scatterternary"
                      }
                    ],
                    "surface": [
                      {
                        "colorbar": {
                          "outlinewidth": 0,
                          "ticks": ""
                        },
                        "colorscale": [
                          [
                            0,
                            "#0d0887"
                          ],
                          [
                            0.1111111111111111,
                            "#46039f"
                          ],
                          [
                            0.2222222222222222,
                            "#7201a8"
                          ],
                          [
                            0.3333333333333333,
                            "#9c179e"
                          ],
                          [
                            0.4444444444444444,
                            "#bd3786"
                          ],
                          [
                            0.5555555555555556,
                            "#d8576b"
                          ],
                          [
                            0.6666666666666666,
                            "#ed7953"
                          ],
                          [
                            0.7777777777777778,
                            "#fb9f3a"
                          ],
                          [
                            0.8888888888888888,
                            "#fdca26"
                          ],
                          [
                            1,
                            "#f0f921"
                          ]
                        ],
                        "type": "surface"
                      }
                    ],
                    "table": [
                      {
                        "cells": {
                          "fill": {
                            "color": "#EBF0F8"
                          },
                          "line": {
                            "color": "white"
                          }
                        },
                        "header": {
                          "fill": {
                            "color": "#C8D4E3"
                          },
                          "line": {
                            "color": "white"
                          }
                        },
                        "type": "table"
                      }
                    ]
                  },
                  "layout": {
                    "annotationdefaults": {
                      "arrowcolor": "#2a3f5f",
                      "arrowhead": 0,
                      "arrowwidth": 1
                    },
                    "autotypenumbers": "strict",
                    "coloraxis": {
                      "colorbar": {
                        "outlinewidth": 0,
                        "ticks": ""
                      }
                    },
                    "colorscale": {
                      "diverging": [
                        [
                          0,
                          "#8e0152"
                        ],
                        [
                          0.1,
                          "#c51b7d"
                        ],
                        [
                          0.2,
                          "#de77ae"
                        ],
                        [
                          0.3,
                          "#f1b6da"
                        ],
                        [
                          0.4,
                          "#fde0ef"
                        ],
                        [
                          0.5,
                          "#f7f7f7"
                        ],
                        [
                          0.6,
                          "#e6f5d0"
                        ],
                        [
                          0.7,
                          "#b8e186"
                        ],
                        [
                          0.8,
                          "#7fbc41"
                        ],
                        [
                          0.9,
                          "#4d9221"
                        ],
                        [
                          1,
                          "#276419"
                        ]
                      ],
                      "sequential": [
                        [
                          0,
                          "#0d0887"
                        ],
                        [
                          0.1111111111111111,
                          "#46039f"
                        ],
                        [
                          0.2222222222222222,
                          "#7201a8"
                        ],
                        [
                          0.3333333333333333,
                          "#9c179e"
                        ],
                        [
                          0.4444444444444444,
                          "#bd3786"
                        ],
                        [
                          0.5555555555555556,
                          "#d8576b"
                        ],
                        [
                          0.6666666666666666,
                          "#ed7953"
                        ],
                        [
                          0.7777777777777778,
                          "#fb9f3a"
                        ],
                        [
                          0.8888888888888888,
                          "#fdca26"
                        ],
                        [
                          1,
                          "#f0f921"
                        ]
                      ],
                      "sequentialminus": [
                        [
                          0,
                          "#0d0887"
                        ],
                        [
                          0.1111111111111111,
                          "#46039f"
                        ],
                        [
                          0.2222222222222222,
                          "#7201a8"
                        ],
                        [
                          0.3333333333333333,
                          "#9c179e"
                        ],
                        [
                          0.4444444444444444,
                          "#bd3786"
                        ],
                        [
                          0.5555555555555556,
                          "#d8576b"
                        ],
                        [
                          0.6666666666666666,
                          "#ed7953"
                        ],
                        [
                          0.7777777777777778,
                          "#fb9f3a"
                        ],
                        [
                          0.8888888888888888,
                          "#fdca26"
                        ],
                        [
                          1,
                          "#f0f921"
                        ]
                      ]
                    },
                    "colorway": [
                      "#636efa",
                      "#EF553B",
                      "#00cc96",
                      "#ab63fa",
                      "#FFA15A",
                      "#19d3f3",
                      "#FF6692",
                      "#B6E880",
                      "#FF97FF",
                      "#FECB52"
                    ],
                    "font": {
                      "color": "#2a3f5f"
                    },
                    "geo": {
                      "bgcolor": "white",
                      "lakecolor": "white",
                      "landcolor": "white",
                      "showlakes": true,
                      "showland": true,
                      "subunitcolor": "#C8D4E3"
                    },
                    "hoverlabel": {
                      "align": "left"
                    },
                    "hovermode": "closest",
                    "mapbox": {
                      "style": "light"
                    },
                    "paper_bgcolor": "white",
                    "plot_bgcolor": "white",
                    "polar": {
                      "angularaxis": {
                        "gridcolor": "#EBF0F8",
                        "linecolor": "#EBF0F8",
                        "ticks": ""
                      },
                      "bgcolor": "white",
                      "radialaxis": {
                        "gridcolor": "#EBF0F8",
                        "linecolor": "#EBF0F8",
                        "ticks": ""
                      }
                    },
                    "scene": {
                      "xaxis": {
                        "backgroundcolor": "white",
                        "gridcolor": "#DFE8F3",
                        "gridwidth": 2,
                        "linecolor": "#EBF0F8",
                        "showbackground": true,
                        "ticks": "",
                        "zerolinecolor": "#EBF0F8"
                      },
                      "yaxis": {
                        "backgroundcolor": "white",
                        "gridcolor": "#DFE8F3",
                        "gridwidth": 2,
                        "linecolor": "#EBF0F8",
                        "showbackground": true,
                        "ticks": "",
                        "zerolinecolor": "#EBF0F8"
                      },
                      "zaxis": {
                        "backgroundcolor": "white",
                        "gridcolor": "#DFE8F3",
                        "gridwidth": 2,
                        "linecolor": "#EBF0F8",
                        "showbackground": true,
                        "ticks": "",
                        "zerolinecolor": "#EBF0F8"
                      }
                    },
                    "shapedefaults": {
                      "line": {
                        "color": "#2a3f5f"
                      }
                    },
                    "ternary": {
                      "aaxis": {
                        "gridcolor": "#DFE8F3",
                        "linecolor": "#A2B1C6",
                        "ticks": ""
                      },
                      "baxis": {
                        "gridcolor": "#DFE8F3",
                        "linecolor": "#A2B1C6",
                        "ticks": ""
                      },
                      "bgcolor": "white",
                      "caxis": {
                        "gridcolor": "#DFE8F3",
                        "linecolor": "#A2B1C6",
                        "ticks": ""
                      }
                    },
                    "title": {
                      "x": 0.05
                    },
                    "xaxis": {
                      "automargin": true,
                      "gridcolor": "#EBF0F8",
                      "linecolor": "#EBF0F8",
                      "ticks": "",
                      "title": {
                        "standoff": 15
                      },
                      "zerolinecolor": "#EBF0F8",
                      "zerolinewidth": 2
                    },
                    "yaxis": {
                      "automargin": true,
                      "gridcolor": "#EBF0F8",
                      "linecolor": "#EBF0F8",
                      "ticks": "",
                      "title": {
                        "standoff": 15
                      },
                      "zerolinecolor": "#EBF0F8",
                      "zerolinewidth": 2
                    }
                  }
                },
                "title": {
                  "text": "Feature Importances"
                },
                "xaxis": {
                  "title": {
                    "text": "Importance"
                  }
                },
                "yaxis": {
                  "autorange": "reversed",
                  "title": {
                    "text": "Feature"
                  }
                }
              }
            }
          },
          "metadata": {},
          "output_type": "display_data"
        }
      ],
      "source": [
        "import plotly.graph_objects as go\n",
        "\n",
        "# Dados para o gráfico\n",
        "feature_names = feature_importances['feature'].to_list()\n",
        "importances = feature_importances['importance'].to_list()\n",
        "\n",
        "# Criação do gráfico de barras horizontais\n",
        "fig = go.Figure(data=[go.Bar(\n",
        "    y=feature_names,\n",
        "    x=importances,\n",
        "    orientation='h'\n",
        ")])\n",
        "\n",
        "# Atualização dos layouts e rótulos\n",
        "fig.update_layout(\n",
        "    title='Feature Importances',\n",
        "    xaxis_title='Importance',\n",
        "    yaxis_title='Feature',\n",
        "    yaxis=dict(autorange='reversed'),\n",
        "    template='plotly_white'  # Move template to figure level\n",
        ")\n",
        "\n",
        "# Mostrar o gráfico\n",
        "fig.show()"
      ]
    },
    {
      "cell_type": "code",
      "execution_count": 14,
      "metadata": {
        "colab": {
          "base_uri": "https://localhost:8080/",
          "height": 607
        },
        "id": "fykvdYx7qjhl",
        "outputId": "973ef0c1-2ac2-404b-ad1d-f54770117ced"
      },
      "outputs": [
        {
          "data": {
            "image/png": "[encoded data removed]",
            "text/plain": [
              "<Figure size 1000x600 with 1 Axes>"
            ]
          },
          "metadata": {},
          "output_type": "display_data"
        }
      ],
      "source": [
        "# Extract feature names and importances from the DataFrame\n",
        "feature_names = feature_importances['feature'].to_list()\n",
        "importances = feature_importances['importance'].to_list()\n",
        "\n",
        "# Create a bar chart with inverted y-axis\n",
        "plt.figure(figsize=(10, 6))\n",
        "plt.barh(feature_names[::-1], importances[::-1])\n",
        "plt.xlabel('Importance')\n",
        "plt.ylabel('Feature')\n",
        "plt.title('Feature Importances')\n",
        "plt.tight_layout()\n",
        "plt.show()"
      ]
    },
    {
      "cell_type": "markdown",
      "metadata": {
        "id": "z1j0GSkT92rS"
      },
      "source": [
        "# Modelos"
      ]
    },
    {
      "cell_type": "markdown",
      "metadata": {
        "id": "yRFGY_1K9-Mu"
      },
      "source": [
        "## 1 - Random Forest\n",
        "Previsão para Bolsista 2022 utilizando 5 features importance"
      ]
    },
    {
      "cell_type": "code",
      "execution_count": 15,
      "metadata": {
        "id": "kgBPxdIrJhHG"
      },
      "outputs": [],
      "source": [
        "train_df = df_predict.sample(frac=0.8, random_state=42)\n",
        "test_df = df_predict.drop(train_df.index)"
      ]
    },
    {
      "cell_type": "code",
      "execution_count": 16,
      "metadata": {
        "id": "qlc_QzdRuUhV"
      },
      "outputs": [],
      "source": [
        "X_train, y_train = train_df.loc[:, train_df.columns != 'INDE_2022'], train_df['INDE_2022']\n",
        "X_test, y_test= test_df.loc[:, test_df.columns != 'INDE_2022'], test_df['INDE_2022']"
      ]
    },
    {
      "cell_type": "code",
      "execution_count": 17,
      "metadata": {
        "colab": {
          "base_uri": "https://localhost:8080/",
          "height": 303
        },
        "id": "EVhvxosx4nsZ",
        "outputId": "f7fcb0fb-ca85-4810-a78a-c955b9f016e2"
      },
      "outputs": [
        {
          "data": {
            "text/plain": [
              "IAA_2022    0\n",
              "IEG_2022    0\n",
              "IPS_2022    0\n",
              "IDA_2022    0\n",
              "IPP_2022    0\n",
              "IPV_2022    0\n",
              "IAN_2022    0\n",
              "dtype: int64"
            ]
          },
          "execution_count": 17,
          "metadata": {},
          "output_type": "execute_result"
        }
      ],
      "source": [
        "X_train.isna().sum()"
      ]
    },
    {
      "cell_type": "code",
      "execution_count": 18,
      "metadata": {
        "id": "3OPOuQABpNON"
      },
      "outputs": [],
      "source": [
        "\n",
        "# from sklearn.model_selection import GridSearchCV\n",
        "\n",
        "# # Define the parameter grid to search\n",
        "# param_grid = {\n",
        "#     'n_estimators': [50, 100, 200],\n",
        "#     'max_depth': [None, 5, 10],\n",
        "#     'min_samples_split': [2, 5, 10],\n",
        "#     'min_samples_leaf': [1, 2, 4]\n",
        "# }\n",
        "\n",
        "# # Create a Random Forest Regressor\n",
        "# rf = RandomForestRegressor(random_state=42)\n",
        "\n",
        "# # Create a GridSearchCV object\n",
        "# grid_search = GridSearchCV(estimator=rf, param_grid=param_grid, cv=5, scoring='neg_mean_squared_error', verbose=2, n_jobs=-1)\n",
        "\n",
        "# # Fit the grid search to the training data\n",
        "# grid_search.fit(X_train, y_train)\n",
        "\n",
        "# # Print the best parameters found\n",
        "# print('Best parameters found: ', grid_search.best_params_)\n",
        "\n",
        "# # Get the best estimator\n",
        "# best_rf = grid_search.best_estimator_\n"
      ]
    },
    {
      "cell_type": "code",
      "execution_count": 19,
      "metadata": {
        "colab": {
          "base_uri": "https://localhost:8080/"
        },
        "id": "7w_6AQ4YufFn",
        "outputId": "5a1f573b-5030-40f5-bac5-3bd94f47698a"
      },
      "outputs": [
        {
          "name": "stdout",
          "output_type": "stream",
          "text": [
            "Mean Squared Error: 0.10191707729524585\n"
          ]
        }
      ],
      "source": [
        "from sklearn.impute import SimpleImputer\n",
        "from sklearn.metrics import mean_squared_error\n",
        "\n",
        "regressor_rf = RandomForestRegressor(n_estimators=200, max_depth=5, random_state=42, min_samples_split=2, min_samples_leaf=1)\n",
        "\n",
        "# Select only numeric columns for imputation\n",
        "numeric_cols = X_train.select_dtypes(include=['number']).columns\n",
        "\n",
        "#Handle missing values using SimpleImputer for numeric columns only\n",
        "imputer = SimpleImputer(strategy='mean') # Replace missing values with the mean\n",
        "X_train_imputed = imputer.fit_transform(X_train[numeric_cols])\n",
        "X_test_imputed = imputer.transform(X_test[numeric_cols]) # Use the same imputer fitted on training data\n",
        "\n",
        "# Train the classifier on the imputed training data (use the imputed data here)\n",
        "regressor_rf.fit(X_train_imputed, y_train)\n",
        "\n",
        "# Predict the labels for the test data (use the imputed data here)\n",
        "y_pred = regressor_rf.predict(X_test_imputed)\n",
        "\n",
        "# Print the accuracy score\n",
        "print('Mean Squared Error:', mean_squared_error(y_test, y_pred))"
      ]
    },
    {
      "cell_type": "code",
      "execution_count": 20,
      "metadata": {
        "colab": {
          "base_uri": "https://localhost:8080/"
        },
        "id": "qw_FWAdbqQ1z",
        "outputId": "9eca10cd-1cf7-4619-c59d-1757b20990d8"
      },
      "outputs": [
        {
          "data": {
            "text/plain": [
              "['random_forest_model.pkl']"
            ]
          },
          "execution_count": 20,
          "metadata": {},
          "output_type": "execute_result"
        }
      ],
      "source": [
        "import joblib\n",
        "\n",
        "# Save the trained model to a file\n",
        "joblib.dump(regressor_rf, 'random_forest_model.pkl')"
      ]
    },
    {
      "cell_type": "code",
      "execution_count": 21,
      "metadata": {},
      "outputs": [
        {
          "name": "stdout",
          "output_type": "stream",
          "text": [
            "Requirement already satisfied: graphviz in c:\\users\\riosa\\onedrive\\postech\\modulo 5\\datathon\\.venv\\lib\\site-packages (0.20.3)\n"
          ]
        },
        {
          "name": "stderr",
          "output_type": "stream",
          "text": [
            "\n",
            "[notice] A new release of pip is available: 24.1.2 -> 24.2\n",
            "[notice] To update, run: python.exe -m pip install --upgrade pip\n"
          ]
        }
      ],
      "source": [
        "!pip install graphviz"
      ]
    },
    {
      "cell_type": "code",
      "execution_count": 22,
      "metadata": {
        "colab": {
          "base_uri": "https://localhost:8080/",
          "height": 817
        },
        "id": "naYbEEvONjTI",
        "outputId": "aadd0d88-abdc-4e2b-d9ae-f3be30570f45"
      },
      "outputs": [
        {
          "data": {
            "image/svg+xml": [
              "<?xml version=\"1.0\" encoding=\"UTF-8\" standalone=\"no\"?>\n",
              "<!DOCTYPE svg PUBLIC \"-//W3C//DTD SVG 1.1//EN\"\n",
              " \"http://www.w3.org/Graphics/SVG/1.1/DTD/svg11.dtd\">\n",
              "<!-- Generated by graphviz version 9.0.0 (20230911.1827)\n",
              " -->\n",
              "<!-- Title: Tree Pages: 1 -->\n",
              "<svg width=\"5553pt\" height=\"616pt\"\n",
              " viewBox=\"0.00 0.00 5553.25 615.50\" xmlns=\"http://www.w3.org/2000/svg\" xmlns:xlink=\"http://www.w3.org/1999/xlink\">\n",
              "<g id=\"graph0\" class=\"graph\" transform=\"scale(1 1) rotate(0) translate(4 611.5)\">\n",
              "<title>Tree</title>\n",
              "<polygon fill=\"white\" stroke=\"none\" points=\"-4,4 -4,-611.5 5549.25,-611.5 5549.25,4 -4,4\"/>\n",
              "<!-- 0 -->\n",
              "<g id=\"node1\" class=\"node\">\n",
              "<title>0</title>\n",
              "<path fill=\"#eead7e\" stroke=\"black\" d=\"M3199.25,-607.5C3199.25,-607.5 3064.75,-607.5 3064.75,-607.5 3058.75,-607.5 3052.75,-601.5 3052.75,-595.5 3052.75,-595.5 3052.75,-545.5 3052.75,-545.5 3052.75,-539.5 3058.75,-533.5 3064.75,-533.5 3064.75,-533.5 3199.25,-533.5 3199.25,-533.5 3205.25,-533.5 3211.25,-539.5 3211.25,-545.5 3211.25,-545.5 3211.25,-595.5 3211.25,-595.5 3211.25,-601.5 3205.25,-607.5 3199.25,-607.5\"/>\n",
              "<text text-anchor=\"middle\" x=\"3132\" y=\"-590.2\" font-family=\"Helvetica,sans-Serif\" font-size=\"14.00\">IDA_2022 &lt;= 5.472</text>\n",
              "<text text-anchor=\"middle\" x=\"3132\" y=\"-573.7\" font-family=\"Helvetica,sans-Serif\" font-size=\"14.00\">squared_error = 0.964</text>\n",
              "<text text-anchor=\"middle\" x=\"3132\" y=\"-557.2\" font-family=\"Helvetica,sans-Serif\" font-size=\"14.00\">samples = 436</text>\n",
              "<text text-anchor=\"middle\" x=\"3132\" y=\"-540.7\" font-family=\"Helvetica,sans-Serif\" font-size=\"14.00\">value = 7.051</text>\n",
              "</g>\n",
              "<!-- 1 -->\n",
              "<g id=\"node2\" class=\"node\">\n",
              "<title>1</title>\n",
              "<path fill=\"#f3c6a5\" stroke=\"black\" d=\"M2252.25,-497.5C2252.25,-497.5 2117.75,-497.5 2117.75,-497.5 2111.75,-497.5 2105.75,-491.5 2105.75,-485.5 2105.75,-485.5 2105.75,-435.5 2105.75,-435.5 2105.75,-429.5 2111.75,-423.5 2117.75,-423.5 2117.75,-423.5 2252.25,-423.5 2252.25,-423.5 2258.25,-423.5 2264.25,-429.5 2264.25,-435.5 2264.25,-435.5 2264.25,-485.5 2264.25,-485.5 2264.25,-491.5 2258.25,-497.5 2252.25,-497.5\"/>\n",
              "<text text-anchor=\"middle\" x=\"2185\" y=\"-480.2\" font-family=\"Helvetica,sans-Serif\" font-size=\"14.00\">IEG_2022 &lt;= 5.656</text>\n",
              "<text text-anchor=\"middle\" x=\"2185\" y=\"-463.7\" font-family=\"Helvetica,sans-Serif\" font-size=\"14.00\">squared_error = 0.659</text>\n",
              "<text text-anchor=\"middle\" x=\"2185\" y=\"-447.2\" font-family=\"Helvetica,sans-Serif\" font-size=\"14.00\">samples = 148</text>\n",
              "<text text-anchor=\"middle\" x=\"2185\" y=\"-430.7\" font-family=\"Helvetica,sans-Serif\" font-size=\"14.00\">value = 6.026</text>\n",
              "</g>\n",
              "<!-- 0&#45;&gt;1 -->\n",
              "<g id=\"edge1\" class=\"edge\">\n",
              "<title>0&#45;&gt;1</title>\n",
              "<path fill=\"none\" stroke=\"black\" d=\"M3052.48,-560.43C2877.61,-540.49 2460.52,-492.92 2275.76,-471.85\"/>\n",
              "<polygon fill=\"black\" stroke=\"black\" points=\"2276.3,-468.39 2265.97,-470.73 2275.51,-475.34 2276.3,-468.39\"/>\n",
              "<text text-anchor=\"middle\" x=\"2280.03\" y=\"-485.08\" font-family=\"Helvetica,sans-Serif\" font-size=\"14.00\">True</text>\n",
              "</g>\n",
              "<!-- 32 -->\n",
              "<g id=\"node33\" class=\"node\">\n",
              "<title>32</title>\n",
              "<path fill=\"#eca16c\" stroke=\"black\" d=\"M3453.25,-497.5C3453.25,-497.5 3318.75,-497.5 3318.75,-497.5 3312.75,-497.5 3306.75,-491.5 3306.75,-485.5 3306.75,-485.5 3306.75,-435.5 3306.75,-435.5 3306.75,-429.5 3312.75,-423.5 3318.75,-423.5 3318.75,-423.5 3453.25,-423.5 3453.25,-423.5 3459.25,-423.5 3465.25,-429.5 3465.25,-435.5 3465.25,-435.5 3465.25,-485.5 3465.25,-485.5 3465.25,-491.5 3459.25,-497.5 3453.25,-497.5\"/>\n",
              "<text text-anchor=\"middle\" x=\"3386\" y=\"-480.2\" font-family=\"Helvetica,sans-Serif\" font-size=\"14.00\">IEG_2022 &lt;= 7.478</text>\n",
              "<text text-anchor=\"middle\" x=\"3386\" y=\"-463.7\" font-family=\"Helvetica,sans-Serif\" font-size=\"14.00\">squared_error = 0.379</text>\n",
              "<text text-anchor=\"middle\" x=\"3386\" y=\"-447.2\" font-family=\"Helvetica,sans-Serif\" font-size=\"14.00\">samples = 288</text>\n",
              "<text text-anchor=\"middle\" x=\"3386\" y=\"-430.7\" font-family=\"Helvetica,sans-Serif\" font-size=\"14.00\">value = 7.534</text>\n",
              "</g>\n",
              "<!-- 0&#45;&gt;32 -->\n",
              "<g id=\"edge32\" class=\"edge\">\n",
              "<title>0&#45;&gt;32</title>\n",
              "<path fill=\"none\" stroke=\"black\" d=\"M3211.67,-535.62C3238.5,-524.21 3268.63,-511.41 3296.19,-499.69\"/>\n",
              "<polygon fill=\"black\" stroke=\"black\" points=\"3297.39,-502.98 3305.22,-495.85 3294.65,-496.54 3297.39,-502.98\"/>\n",
              "<text text-anchor=\"middle\" x=\"3297.26\" y=\"-513.39\" font-family=\"Helvetica,sans-Serif\" font-size=\"14.00\">False</text>\n",
              "</g>\n",
              "<!-- 2 -->\n",
              "<g id=\"node3\" class=\"node\">\n",
              "<title>2</title>\n",
              "<path fill=\"#f8dcc8\" stroke=\"black\" d=\"M1102.25,-387.5C1102.25,-387.5 967.75,-387.5 967.75,-387.5 961.75,-387.5 955.75,-381.5 955.75,-375.5 955.75,-375.5 955.75,-325.5 955.75,-325.5 955.75,-319.5 961.75,-313.5 967.75,-313.5 967.75,-313.5 1102.25,-313.5 1102.25,-313.5 1108.25,-313.5 1114.25,-319.5 1114.25,-325.5 1114.25,-325.5 1114.25,-375.5 1114.25,-375.5 1114.25,-381.5 1108.25,-387.5 1102.25,-387.5\"/>\n",
              "<text text-anchor=\"middle\" x=\"1035\" y=\"-370.2\" font-family=\"Helvetica,sans-Serif\" font-size=\"14.00\">IPV_2022 &lt;= 4.667</text>\n",
              "<text text-anchor=\"middle\" x=\"1035\" y=\"-353.7\" font-family=\"Helvetica,sans-Serif\" font-size=\"14.00\">squared_error = 0.379</text>\n",
              "<text text-anchor=\"middle\" x=\"1035\" y=\"-337.2\" font-family=\"Helvetica,sans-Serif\" font-size=\"14.00\">samples = 40</text>\n",
              "<text text-anchor=\"middle\" x=\"1035\" y=\"-320.7\" font-family=\"Helvetica,sans-Serif\" font-size=\"14.00\">value = 5.125</text>\n",
              "</g>\n",
              "<!-- 1&#45;&gt;2 -->\n",
              "<g id=\"edge2\" class=\"edge\">\n",
              "<title>1&#45;&gt;2</title>\n",
              "<path fill=\"none\" stroke=\"black\" d=\"M2105.5,-452.03C1898.72,-432.61 1344.94,-380.61 1125.94,-360.04\"/>\n",
              "<polygon fill=\"black\" stroke=\"black\" points=\"1126.3,-356.56 1116.02,-359.11 1125.65,-363.53 1126.3,-356.56\"/>\n",
              "</g>\n",
              "<!-- 17 -->\n",
              "<g id=\"node18\" class=\"node\">\n",
              "<title>17</title>\n",
              "<path fill=\"#f2be99\" stroke=\"black\" d=\"M2252.25,-387.5C2252.25,-387.5 2117.75,-387.5 2117.75,-387.5 2111.75,-387.5 2105.75,-381.5 2105.75,-375.5 2105.75,-375.5 2105.75,-325.5 2105.75,-325.5 2105.75,-319.5 2111.75,-313.5 2117.75,-313.5 2117.75,-313.5 2252.25,-313.5 2252.25,-313.5 2258.25,-313.5 2264.25,-319.5 2264.25,-325.5 2264.25,-325.5 2264.25,-375.5 2264.25,-375.5 2264.25,-381.5 2258.25,-387.5 2252.25,-387.5\"/>\n",
              "<text text-anchor=\"middle\" x=\"2185\" y=\"-370.2\" font-family=\"Helvetica,sans-Serif\" font-size=\"14.00\">IAN_2022 &lt;= 7.5</text>\n",
              "<text text-anchor=\"middle\" x=\"2185\" y=\"-353.7\" font-family=\"Helvetica,sans-Serif\" font-size=\"14.00\">squared_error = 0.348</text>\n",
              "<text text-anchor=\"middle\" x=\"2185\" y=\"-337.2\" font-family=\"Helvetica,sans-Serif\" font-size=\"14.00\">samples = 108</text>\n",
              "<text text-anchor=\"middle\" x=\"2185\" y=\"-320.7\" font-family=\"Helvetica,sans-Serif\" font-size=\"14.00\">value = 6.362</text>\n",
              "</g>\n",
              "<!-- 1&#45;&gt;17 -->\n",
              "<g id=\"edge17\" class=\"edge\">\n",
              "<title>1&#45;&gt;17</title>\n",
              "<path fill=\"none\" stroke=\"black\" d=\"M2185,-423.24C2185,-415.49 2185,-407.2 2185,-399.1\"/>\n",
              "<polygon fill=\"black\" stroke=\"black\" points=\"2188.5,-399.36 2185,-389.36 2181.5,-399.36 2188.5,-399.36\"/>\n",
              "</g>\n",
              "<!-- 3 -->\n",
              "<g id=\"node4\" class=\"node\">\n",
              "<title>3</title>\n",
              "<path fill=\"#fdf3ed\" stroke=\"black\" d=\"M571.25,-277.5C571.25,-277.5 436.75,-277.5 436.75,-277.5 430.75,-277.5 424.75,-271.5 424.75,-265.5 424.75,-265.5 424.75,-215.5 424.75,-215.5 424.75,-209.5 430.75,-203.5 436.75,-203.5 436.75,-203.5 571.25,-203.5 571.25,-203.5 577.25,-203.5 583.25,-209.5 583.25,-215.5 583.25,-215.5 583.25,-265.5 583.25,-265.5 583.25,-271.5 577.25,-277.5 571.25,-277.5\"/>\n",
              "<text text-anchor=\"middle\" x=\"504\" y=\"-260.2\" font-family=\"Helvetica,sans-Serif\" font-size=\"14.00\">IPS_2022 &lt;= 6.562</text>\n",
              "<text text-anchor=\"middle\" x=\"504\" y=\"-243.7\" font-family=\"Helvetica,sans-Serif\" font-size=\"14.00\">squared_error = 0.065</text>\n",
              "<text text-anchor=\"middle\" x=\"504\" y=\"-227.2\" font-family=\"Helvetica,sans-Serif\" font-size=\"14.00\">samples = 7</text>\n",
              "<text text-anchor=\"middle\" x=\"504\" y=\"-210.7\" font-family=\"Helvetica,sans-Serif\" font-size=\"14.00\">value = 4.163</text>\n",
              "</g>\n",
              "<!-- 2&#45;&gt;3 -->\n",
              "<g id=\"edge3\" class=\"edge\">\n",
              "<title>2&#45;&gt;3</title>\n",
              "<path fill=\"none\" stroke=\"black\" d=\"M955.5,-333.33C858.88,-313.68 696.2,-280.59 594.75,-259.96\"/>\n",
              "<polygon fill=\"black\" stroke=\"black\" points=\"595.59,-256.56 585.09,-257.99 594.19,-263.42 595.59,-256.56\"/>\n",
              "</g>\n",
              "<!-- 10 -->\n",
              "<g id=\"node11\" class=\"node\">\n",
              "<title>10</title>\n",
              "<path fill=\"#f7d6bf\" stroke=\"black\" d=\"M1102.25,-277.5C1102.25,-277.5 967.75,-277.5 967.75,-277.5 961.75,-277.5 955.75,-271.5 955.75,-265.5 955.75,-265.5 955.75,-215.5 955.75,-215.5 955.75,-209.5 961.75,-203.5 967.75,-203.5 967.75,-203.5 1102.25,-203.5 1102.25,-203.5 1108.25,-203.5 1114.25,-209.5 1114.25,-215.5 1114.25,-215.5 1114.25,-265.5 1114.25,-265.5 1114.25,-271.5 1108.25,-277.5 1102.25,-277.5\"/>\n",
              "<text text-anchor=\"middle\" x=\"1035\" y=\"-260.2\" font-family=\"Helvetica,sans-Serif\" font-size=\"14.00\">IDA_2022 &lt;= 2.042</text>\n",
              "<text text-anchor=\"middle\" x=\"1035\" y=\"-243.7\" font-family=\"Helvetica,sans-Serif\" font-size=\"14.00\">squared_error = 0.168</text>\n",
              "<text text-anchor=\"middle\" x=\"1035\" y=\"-227.2\" font-family=\"Helvetica,sans-Serif\" font-size=\"14.00\">samples = 33</text>\n",
              "<text text-anchor=\"middle\" x=\"1035\" y=\"-210.7\" font-family=\"Helvetica,sans-Serif\" font-size=\"14.00\">value = 5.366</text>\n",
              "</g>\n",
              "<!-- 2&#45;&gt;10 -->\n",
              "<g id=\"edge10\" class=\"edge\">\n",
              "<title>2&#45;&gt;10</title>\n",
              "<path fill=\"none\" stroke=\"black\" d=\"M1035,-313.24C1035,-305.49 1035,-297.2 1035,-289.1\"/>\n",
              "<polygon fill=\"black\" stroke=\"black\" points=\"1038.5,-289.36 1035,-279.36 1031.5,-289.36 1038.5,-289.36\"/>\n",
              "</g>\n",
              "<!-- 4 -->\n",
              "<g id=\"node5\" class=\"node\">\n",
              "<title>4</title>\n",
              "<path fill=\"#fffefd\" stroke=\"black\" d=\"M306.25,-167.5C306.25,-167.5 171.75,-167.5 171.75,-167.5 165.75,-167.5 159.75,-161.5 159.75,-155.5 159.75,-155.5 159.75,-105.5 159.75,-105.5 159.75,-99.5 165.75,-93.5 171.75,-93.5 171.75,-93.5 306.25,-93.5 306.25,-93.5 312.25,-93.5 318.25,-99.5 318.25,-105.5 318.25,-105.5 318.25,-155.5 318.25,-155.5 318.25,-161.5 312.25,-167.5 306.25,-167.5\"/>\n",
              "<text text-anchor=\"middle\" x=\"239\" y=\"-150.2\" font-family=\"Helvetica,sans-Serif\" font-size=\"14.00\">IEG_2022 &lt;= 3.11</text>\n",
              "<text text-anchor=\"middle\" x=\"239\" y=\"-133.7\" font-family=\"Helvetica,sans-Serif\" font-size=\"14.00\">squared_error = 0.008</text>\n",
              "<text text-anchor=\"middle\" x=\"239\" y=\"-117.2\" font-family=\"Helvetica,sans-Serif\" font-size=\"14.00\">samples = 3</text>\n",
              "<text text-anchor=\"middle\" x=\"239\" y=\"-100.7\" font-family=\"Helvetica,sans-Serif\" font-size=\"14.00\">value = 3.739</text>\n",
              "</g>\n",
              "<!-- 3&#45;&gt;4 -->\n",
              "<g id=\"edge4\" class=\"edge\">\n",
              "<title>3&#45;&gt;4</title>\n",
              "<path fill=\"none\" stroke=\"black\" d=\"M424.49,-207.1C394.36,-194.82 359.85,-180.75 328.83,-168.11\"/>\n",
              "<polygon fill=\"black\" stroke=\"black\" points=\"330.44,-164.98 319.85,-164.45 327.79,-171.47 330.44,-164.98\"/>\n",
              "</g>\n",
              "<!-- 7 -->\n",
              "<g id=\"node8\" class=\"node\">\n",
              "<title>7</title>\n",
              "<path fill=\"#fcf0e7\" stroke=\"black\" d=\"M571.25,-167.5C571.25,-167.5 436.75,-167.5 436.75,-167.5 430.75,-167.5 424.75,-161.5 424.75,-155.5 424.75,-155.5 424.75,-105.5 424.75,-105.5 424.75,-99.5 430.75,-93.5 436.75,-93.5 436.75,-93.5 571.25,-93.5 571.25,-93.5 577.25,-93.5 583.25,-99.5 583.25,-105.5 583.25,-105.5 583.25,-155.5 583.25,-155.5 583.25,-161.5 577.25,-167.5 571.25,-167.5\"/>\n",
              "<text text-anchor=\"middle\" x=\"504\" y=\"-150.2\" font-family=\"Helvetica,sans-Serif\" font-size=\"14.00\">IEG_2022 &lt;= 3.132</text>\n",
              "<text text-anchor=\"middle\" x=\"504\" y=\"-133.7\" font-family=\"Helvetica,sans-Serif\" font-size=\"14.00\">squared_error = 0.005</text>\n",
              "<text text-anchor=\"middle\" x=\"504\" y=\"-117.2\" font-family=\"Helvetica,sans-Serif\" font-size=\"14.00\">samples = 4</text>\n",
              "<text text-anchor=\"middle\" x=\"504\" y=\"-100.7\" font-family=\"Helvetica,sans-Serif\" font-size=\"14.00\">value = 4.304</text>\n",
              "</g>\n",
              "<!-- 3&#45;&gt;7 -->\n",
              "<g id=\"edge7\" class=\"edge\">\n",
              "<title>3&#45;&gt;7</title>\n",
              "<path fill=\"none\" stroke=\"black\" d=\"M504,-203.24C504,-195.49 504,-187.2 504,-179.1\"/>\n",
              "<polygon fill=\"black\" stroke=\"black\" points=\"507.5,-179.36 504,-169.36 500.5,-179.36 507.5,-179.36\"/>\n",
              "</g>\n",
              "<!-- 5 -->\n",
              "<g id=\"node6\" class=\"node\">\n",
              "<title>5</title>\n",
              "<path fill=\"#fefbf9\" stroke=\"black\" d=\"M130,-57.5C130,-57.5 12,-57.5 12,-57.5 6,-57.5 0,-51.5 0,-45.5 0,-45.5 0,-12 0,-12 0,-6 6,0 12,0 12,0 130,0 130,0 136,0 142,-6 142,-12 142,-12 142,-45.5 142,-45.5 142,-51.5 136,-57.5 130,-57.5\"/>\n",
              "<text text-anchor=\"middle\" x=\"71\" y=\"-40.2\" font-family=\"Helvetica,sans-Serif\" font-size=\"14.00\">squared_error = 0.0</text>\n",
              "<text text-anchor=\"middle\" x=\"71\" y=\"-23.7\" font-family=\"Helvetica,sans-Serif\" font-size=\"14.00\">samples = 1</text>\n",
              "<text text-anchor=\"middle\" x=\"71\" y=\"-7.2\" font-family=\"Helvetica,sans-Serif\" font-size=\"14.00\">value = 3.846</text>\n",
              "</g>\n",
              "<!-- 4&#45;&gt;5 -->\n",
              "<g id=\"edge5\" class=\"edge\">\n",
              "<title>4&#45;&gt;5</title>\n",
              "<path fill=\"none\" stroke=\"black\" d=\"M177.87,-93.21C161.63,-83.56 144.16,-73.19 128.15,-63.68\"/>\n",
              "<polygon fill=\"black\" stroke=\"black\" points=\"130.07,-60.75 119.69,-58.66 126.5,-66.77 130.07,-60.75\"/>\n",
              "</g>\n",
              "<!-- 6 -->\n",
              "<g id=\"node7\" class=\"node\">\n",
              "<title>6</title>\n",
              "<path fill=\"#ffffff\" stroke=\"black\" d=\"M306.25,-57.5C306.25,-57.5 171.75,-57.5 171.75,-57.5 165.75,-57.5 159.75,-51.5 159.75,-45.5 159.75,-45.5 159.75,-12 159.75,-12 159.75,-6 165.75,0 171.75,0 171.75,0 306.25,0 306.25,0 312.25,0 318.25,-6 318.25,-12 318.25,-12 318.25,-45.5 318.25,-45.5 318.25,-51.5 312.25,-57.5 306.25,-57.5\"/>\n",
              "<text text-anchor=\"middle\" x=\"239\" y=\"-40.2\" font-family=\"Helvetica,sans-Serif\" font-size=\"14.00\">squared_error = 0.003</text>\n",
              "<text text-anchor=\"middle\" x=\"239\" y=\"-23.7\" font-family=\"Helvetica,sans-Serif\" font-size=\"14.00\">samples = 2</text>\n",
              "<text text-anchor=\"middle\" x=\"239\" y=\"-7.2\" font-family=\"Helvetica,sans-Serif\" font-size=\"14.00\">value = 3.686</text>\n",
              "</g>\n",
              "<!-- 4&#45;&gt;6 -->\n",
              "<g id=\"edge6\" class=\"edge\">\n",
              "<title>4&#45;&gt;6</title>\n",
              "<path fill=\"none\" stroke=\"black\" d=\"M239,-93.21C239,-85.35 239,-77 239,-69.03\"/>\n",
              "<polygon fill=\"black\" stroke=\"black\" points=\"242.5,-69.24 239,-59.24 235.5,-69.24 242.5,-69.24\"/>\n",
              "</g>\n",
              "<!-- 8 -->\n",
              "<g id=\"node9\" class=\"node\">\n",
              "<title>8</title>\n",
              "<path fill=\"#fcf1e9\" stroke=\"black\" d=\"M483.25,-57.5C483.25,-57.5 348.75,-57.5 348.75,-57.5 342.75,-57.5 336.75,-51.5 336.75,-45.5 336.75,-45.5 336.75,-12 336.75,-12 336.75,-6 342.75,0 348.75,0 348.75,0 483.25,0 483.25,0 489.25,0 495.25,-6 495.25,-12 495.25,-12 495.25,-45.5 495.25,-45.5 495.25,-51.5 489.25,-57.5 483.25,-57.5\"/>\n",
              "<text text-anchor=\"middle\" x=\"416\" y=\"-40.2\" font-family=\"Helvetica,sans-Serif\" font-size=\"14.00\">squared_error = 0.001</text>\n",
              "<text text-anchor=\"middle\" x=\"416\" y=\"-23.7\" font-family=\"Helvetica,sans-Serif\" font-size=\"14.00\">samples = 2</text>\n",
              "<text text-anchor=\"middle\" x=\"416\" y=\"-7.2\" font-family=\"Helvetica,sans-Serif\" font-size=\"14.00\">value = 4.261</text>\n",
              "</g>\n",
              "<!-- 7&#45;&gt;8 -->\n",
              "<g id=\"edge8\" class=\"edge\">\n",
              "<title>7&#45;&gt;8</title>\n",
              "<path fill=\"none\" stroke=\"black\" d=\"M471.98,-93.21C464.24,-84.43 455.97,-75.05 448.22,-66.27\"/>\n",
              "<polygon fill=\"black\" stroke=\"black\" points=\"450.92,-64.05 441.68,-58.86 445.67,-68.68 450.92,-64.05\"/>\n",
              "</g>\n",
              "<!-- 9 -->\n",
              "<g id=\"node10\" class=\"node\">\n",
              "<title>9</title>\n",
              "<path fill=\"#fbeee4\" stroke=\"black\" d=\"M660.25,-57.5C660.25,-57.5 525.75,-57.5 525.75,-57.5 519.75,-57.5 513.75,-51.5 513.75,-45.5 513.75,-45.5 513.75,-12 513.75,-12 513.75,-6 519.75,0 525.75,0 525.75,0 660.25,0 660.25,0 666.25,0 672.25,-6 672.25,-12 672.25,-12 672.25,-45.5 672.25,-45.5 672.25,-51.5 666.25,-57.5 660.25,-57.5\"/>\n",
              "<text text-anchor=\"middle\" x=\"593\" y=\"-40.2\" font-family=\"Helvetica,sans-Serif\" font-size=\"14.00\">squared_error = 0.001</text>\n",
              "<text text-anchor=\"middle\" x=\"593\" y=\"-23.7\" font-family=\"Helvetica,sans-Serif\" font-size=\"14.00\">samples = 2</text>\n",
              "<text text-anchor=\"middle\" x=\"593\" y=\"-7.2\" font-family=\"Helvetica,sans-Serif\" font-size=\"14.00\">value = 4.39</text>\n",
              "</g>\n",
              "<!-- 7&#45;&gt;9 -->\n",
              "<g id=\"edge9\" class=\"edge\">\n",
              "<title>7&#45;&gt;9</title>\n",
              "<path fill=\"none\" stroke=\"black\" d=\"M536.38,-93.21C544.21,-84.43 552.58,-75.05 560.42,-66.27\"/>\n",
              "<polygon fill=\"black\" stroke=\"black\" points=\"562.98,-68.65 567.03,-58.86 557.76,-63.99 562.98,-68.65\"/>\n",
              "</g>\n",
              "<!-- 11 -->\n",
              "<g id=\"node12\" class=\"node\">\n",
              "<title>11</title>\n",
              "<path fill=\"#f9e4d4\" stroke=\"black\" d=\"M1014.25,-167.5C1014.25,-167.5 879.75,-167.5 879.75,-167.5 873.75,-167.5 867.75,-161.5 867.75,-155.5 867.75,-155.5 867.75,-105.5 867.75,-105.5 867.75,-99.5 873.75,-93.5 879.75,-93.5 879.75,-93.5 1014.25,-93.5 1014.25,-93.5 1020.25,-93.5 1026.25,-99.5 1026.25,-105.5 1026.25,-105.5 1026.25,-155.5 1026.25,-155.5 1026.25,-161.5 1020.25,-167.5 1014.25,-167.5\"/>\n",
              "<text text-anchor=\"middle\" x=\"947\" y=\"-150.2\" font-family=\"Helvetica,sans-Serif\" font-size=\"14.00\">IPV_2022 &lt;= 5.917</text>\n",
              "<text text-anchor=\"middle\" x=\"947\" y=\"-133.7\" font-family=\"Helvetica,sans-Serif\" font-size=\"14.00\">squared_error = 0.099</text>\n",
              "<text text-anchor=\"middle\" x=\"947\" y=\"-117.2\" font-family=\"Helvetica,sans-Serif\" font-size=\"14.00\">samples = 8</text>\n",
              "<text text-anchor=\"middle\" x=\"947\" y=\"-100.7\" font-family=\"Helvetica,sans-Serif\" font-size=\"14.00\">value = 4.809</text>\n",
              "</g>\n",
              "<!-- 10&#45;&gt;11 -->\n",
              "<g id=\"edge11\" class=\"edge\">\n",
              "<title>10&#45;&gt;11</title>\n",
              "<path fill=\"none\" stroke=\"black\" d=\"M1005.45,-203.24C998.49,-194.69 990.98,-185.47 983.74,-176.59\"/>\n",
              "<polygon fill=\"black\" stroke=\"black\" points=\"986.61,-174.57 977.58,-169.02 981.18,-178.99 986.61,-174.57\"/>\n",
              "</g>\n",
              "<!-- 14 -->\n",
              "<g id=\"node15\" class=\"node\">\n",
              "<title>14</title>\n",
              "<path fill=\"#f6d2b9\" stroke=\"black\" d=\"M1191.25,-167.5C1191.25,-167.5 1056.75,-167.5 1056.75,-167.5 1050.75,-167.5 1044.75,-161.5 1044.75,-155.5 1044.75,-155.5 1044.75,-105.5 1044.75,-105.5 1044.75,-99.5 1050.75,-93.5 1056.75,-93.5 1056.75,-93.5 1191.25,-93.5 1191.25,-93.5 1197.25,-93.5 1203.25,-99.5 1203.25,-105.5 1203.25,-105.5 1203.25,-155.5 1203.25,-155.5 1203.25,-161.5 1197.25,-167.5 1191.25,-167.5\"/>\n",
              "<text text-anchor=\"middle\" x=\"1124\" y=\"-150.2\" font-family=\"Helvetica,sans-Serif\" font-size=\"14.00\">IAA_2022 &lt;= 2.917</text>\n",
              "<text text-anchor=\"middle\" x=\"1124\" y=\"-133.7\" font-family=\"Helvetica,sans-Serif\" font-size=\"14.00\">squared_error = 0.083</text>\n",
              "<text text-anchor=\"middle\" x=\"1124\" y=\"-117.2\" font-family=\"Helvetica,sans-Serif\" font-size=\"14.00\">samples = 25</text>\n",
              "<text text-anchor=\"middle\" x=\"1124\" y=\"-100.7\" font-family=\"Helvetica,sans-Serif\" font-size=\"14.00\">value = 5.512</text>\n",
              "</g>\n",
              "<!-- 10&#45;&gt;14 -->\n",
              "<g id=\"edge14\" class=\"edge\">\n",
              "<title>10&#45;&gt;14</title>\n",
              "<path fill=\"none\" stroke=\"black\" d=\"M1064.88,-203.24C1071.93,-194.69 1079.52,-185.47 1086.84,-176.59\"/>\n",
              "<polygon fill=\"black\" stroke=\"black\" points=\"1089.42,-178.96 1093.08,-169.02 1084.02,-174.51 1089.42,-178.96\"/>\n",
              "</g>\n",
              "<!-- 12 -->\n",
              "<g id=\"node13\" class=\"node\">\n",
              "<title>12</title>\n",
              "<path fill=\"#fbeee4\" stroke=\"black\" d=\"M837.25,-57.5C837.25,-57.5 702.75,-57.5 702.75,-57.5 696.75,-57.5 690.75,-51.5 690.75,-45.5 690.75,-45.5 690.75,-12 690.75,-12 690.75,-6 696.75,0 702.75,0 702.75,0 837.25,0 837.25,0 843.25,0 849.25,-6 849.25,-12 849.25,-12 849.25,-45.5 849.25,-45.5 849.25,-51.5 843.25,-57.5 837.25,-57.5\"/>\n",
              "<text text-anchor=\"middle\" x=\"770\" y=\"-40.2\" font-family=\"Helvetica,sans-Serif\" font-size=\"14.00\">squared_error = 0.015</text>\n",
              "<text text-anchor=\"middle\" x=\"770\" y=\"-23.7\" font-family=\"Helvetica,sans-Serif\" font-size=\"14.00\">samples = 3</text>\n",
              "<text text-anchor=\"middle\" x=\"770\" y=\"-7.2\" font-family=\"Helvetica,sans-Serif\" font-size=\"14.00\">value = 4.395</text>\n",
              "</g>\n",
              "<!-- 11&#45;&gt;12 -->\n",
              "<g id=\"edge12\" class=\"edge\">\n",
              "<title>11&#45;&gt;12</title>\n",
              "<path fill=\"none\" stroke=\"black\" d=\"M882.35,-93.06C865.18,-83.39 846.71,-72.98 829.81,-63.46\"/>\n",
              "<polygon fill=\"black\" stroke=\"black\" points=\"831.81,-60.57 821.38,-58.71 828.38,-66.67 831.81,-60.57\"/>\n",
              "</g>\n",
              "<!-- 13 -->\n",
              "<g id=\"node14\" class=\"node\">\n",
              "<title>13</title>\n",
              "<path fill=\"#f8dfcd\" stroke=\"black\" d=\"M1014.25,-57.5C1014.25,-57.5 879.75,-57.5 879.75,-57.5 873.75,-57.5 867.75,-51.5 867.75,-45.5 867.75,-45.5 867.75,-12 867.75,-12 867.75,-6 873.75,0 879.75,0 879.75,0 1014.25,0 1014.25,0 1020.25,0 1026.25,-6 1026.25,-12 1026.25,-12 1026.25,-45.5 1026.25,-45.5 1026.25,-51.5 1020.25,-57.5 1014.25,-57.5\"/>\n",
              "<text text-anchor=\"middle\" x=\"947\" y=\"-40.2\" font-family=\"Helvetica,sans-Serif\" font-size=\"14.00\">squared_error = 0.031</text>\n",
              "<text text-anchor=\"middle\" x=\"947\" y=\"-23.7\" font-family=\"Helvetica,sans-Serif\" font-size=\"14.00\">samples = 5</text>\n",
              "<text text-anchor=\"middle\" x=\"947\" y=\"-7.2\" font-family=\"Helvetica,sans-Serif\" font-size=\"14.00\">value = 4.986</text>\n",
              "</g>\n",
              "<!-- 11&#45;&gt;13 -->\n",
              "<g id=\"edge13\" class=\"edge\">\n",
              "<title>11&#45;&gt;13</title>\n",
              "<path fill=\"none\" stroke=\"black\" d=\"M947,-93.21C947,-85.35 947,-77 947,-69.03\"/>\n",
              "<polygon fill=\"black\" stroke=\"black\" points=\"950.5,-69.24 947,-59.24 943.5,-69.24 950.5,-69.24\"/>\n",
              "</g>\n",
              "<!-- 15 -->\n",
              "<g id=\"node16\" class=\"node\">\n",
              "<title>15</title>\n",
              "<path fill=\"#f8ddc9\" stroke=\"black\" d=\"M1191.25,-57.5C1191.25,-57.5 1056.75,-57.5 1056.75,-57.5 1050.75,-57.5 1044.75,-51.5 1044.75,-45.5 1044.75,-45.5 1044.75,-12 1044.75,-12 1044.75,-6 1050.75,0 1056.75,0 1056.75,0 1191.25,0 1191.25,0 1197.25,0 1203.25,-6 1203.25,-12 1203.25,-12 1203.25,-45.5 1203.25,-45.5 1203.25,-51.5 1197.25,-57.5 1191.25,-57.5\"/>\n",
              "<text text-anchor=\"middle\" x=\"1124\" y=\"-40.2\" font-family=\"Helvetica,sans-Serif\" font-size=\"14.00\">squared_error = 0.013</text>\n",
              "<text text-anchor=\"middle\" x=\"1124\" y=\"-23.7\" font-family=\"Helvetica,sans-Serif\" font-size=\"14.00\">samples = 4</text>\n",
              "<text text-anchor=\"middle\" x=\"1124\" y=\"-7.2\" font-family=\"Helvetica,sans-Serif\" font-size=\"14.00\">value = 5.086</text>\n",
              "</g>\n",
              "<!-- 14&#45;&gt;15 -->\n",
              "<g id=\"edge15\" class=\"edge\">\n",
              "<title>14&#45;&gt;15</title>\n",
              "<path fill=\"none\" stroke=\"black\" d=\"M1124,-93.21C1124,-85.35 1124,-77 1124,-69.03\"/>\n",
              "<polygon fill=\"black\" stroke=\"black\" points=\"1127.5,-69.24 1124,-59.24 1120.5,-69.24 1127.5,-69.24\"/>\n",
              "</g>\n",
              "<!-- 16 -->\n",
              "<g id=\"node17\" class=\"node\">\n",
              "<title>16</title>\n",
              "<path fill=\"#f5d1b6\" stroke=\"black\" d=\"M1368.25,-57.5C1368.25,-57.5 1233.75,-57.5 1233.75,-57.5 1227.75,-57.5 1221.75,-51.5 1221.75,-45.5 1221.75,-45.5 1221.75,-12 1221.75,-12 1221.75,-6 1227.75,0 1233.75,0 1233.75,0 1368.25,0 1368.25,0 1374.25,0 1380.25,-6 1380.25,-12 1380.25,-12 1380.25,-45.5 1380.25,-45.5 1380.25,-51.5 1374.25,-57.5 1368.25,-57.5\"/>\n",
              "<text text-anchor=\"middle\" x=\"1301\" y=\"-40.2\" font-family=\"Helvetica,sans-Serif\" font-size=\"14.00\">squared_error = 0.056</text>\n",
              "<text text-anchor=\"middle\" x=\"1301\" y=\"-23.7\" font-family=\"Helvetica,sans-Serif\" font-size=\"14.00\">samples = 21</text>\n",
              "<text text-anchor=\"middle\" x=\"1301\" y=\"-7.2\" font-family=\"Helvetica,sans-Serif\" font-size=\"14.00\">value = 5.592</text>\n",
              "</g>\n",
              "<!-- 14&#45;&gt;16 -->\n",
              "<g id=\"edge16\" class=\"edge\">\n",
              "<title>14&#45;&gt;16</title>\n",
              "<path fill=\"none\" stroke=\"black\" d=\"M1188.65,-93.06C1205.82,-83.39 1224.29,-72.98 1241.19,-63.46\"/>\n",
              "<polygon fill=\"black\" stroke=\"black\" points=\"1242.62,-66.67 1249.62,-58.71 1239.19,-60.57 1242.62,-66.67\"/>\n",
              "</g>\n",
              "<!-- 18 -->\n",
              "<g id=\"node19\" class=\"node\">\n",
              "<title>18</title>\n",
              "<path fill=\"#f2c29f\" stroke=\"black\" d=\"M1987.25,-277.5C1987.25,-277.5 1852.75,-277.5 1852.75,-277.5 1846.75,-277.5 1840.75,-271.5 1840.75,-265.5 1840.75,-265.5 1840.75,-215.5 1840.75,-215.5 1840.75,-209.5 1846.75,-203.5 1852.75,-203.5 1852.75,-203.5 1987.25,-203.5 1987.25,-203.5 1993.25,-203.5 1999.25,-209.5 1999.25,-215.5 1999.25,-215.5 1999.25,-265.5 1999.25,-265.5 1999.25,-271.5 1993.25,-277.5 1987.25,-277.5\"/>\n",
              "<text text-anchor=\"middle\" x=\"1920\" y=\"-260.2\" font-family=\"Helvetica,sans-Serif\" font-size=\"14.00\">IDA_2022 &lt;= 4.4</text>\n",
              "<text text-anchor=\"middle\" x=\"1920\" y=\"-243.7\" font-family=\"Helvetica,sans-Serif\" font-size=\"14.00\">squared_error = 0.222</text>\n",
              "<text text-anchor=\"middle\" x=\"1920\" y=\"-227.2\" font-family=\"Helvetica,sans-Serif\" font-size=\"14.00\">samples = 80</text>\n",
              "<text text-anchor=\"middle\" x=\"1920\" y=\"-210.7\" font-family=\"Helvetica,sans-Serif\" font-size=\"14.00\">value = 6.193</text>\n",
              "</g>\n",
              "<!-- 17&#45;&gt;18 -->\n",
              "<g id=\"edge18\" class=\"edge\">\n",
              "<title>17&#45;&gt;18</title>\n",
              "<path fill=\"none\" stroke=\"black\" d=\"M2105.49,-317.1C2075.36,-304.82 2040.85,-290.75 2009.83,-278.11\"/>\n",
              "<polygon fill=\"black\" stroke=\"black\" points=\"2011.44,-274.98 2000.85,-274.45 2008.79,-281.47 2011.44,-274.98\"/>\n",
              "</g>\n",
              "<!-- 25 -->\n",
              "<g id=\"node26\" class=\"node\">\n",
              "<title>25</title>\n",
              "<path fill=\"#efb082\" stroke=\"black\" d=\"M2342.25,-277.5C2342.25,-277.5 2207.75,-277.5 2207.75,-277.5 2201.75,-277.5 2195.75,-271.5 2195.75,-265.5 2195.75,-265.5 2195.75,-215.5 2195.75,-215.5 2195.75,-209.5 2201.75,-203.5 2207.75,-203.5 2207.75,-203.5 2342.25,-203.5 2342.25,-203.5 2348.25,-203.5 2354.25,-209.5 2354.25,-215.5 2354.25,-215.5 2354.25,-265.5 2354.25,-265.5 2354.25,-271.5 2348.25,-277.5 2342.25,-277.5\"/>\n",
              "<text text-anchor=\"middle\" x=\"2275\" y=\"-260.2\" font-family=\"Helvetica,sans-Serif\" font-size=\"14.00\">IPV_2022 &lt;= 6.062</text>\n",
              "<text text-anchor=\"middle\" x=\"2275\" y=\"-243.7\" font-family=\"Helvetica,sans-Serif\" font-size=\"14.00\">squared_error = 0.343</text>\n",
              "<text text-anchor=\"middle\" x=\"2275\" y=\"-227.2\" font-family=\"Helvetica,sans-Serif\" font-size=\"14.00\">samples = 28</text>\n",
              "<text text-anchor=\"middle\" x=\"2275\" y=\"-210.7\" font-family=\"Helvetica,sans-Serif\" font-size=\"14.00\">value = 6.947</text>\n",
              "</g>\n",
              "<!-- 17&#45;&gt;25 -->\n",
              "<g id=\"edge25\" class=\"edge\">\n",
              "<title>17&#45;&gt;25</title>\n",
              "<path fill=\"none\" stroke=\"black\" d=\"M2215.22,-313.24C2222.34,-304.69 2230.02,-295.47 2237.43,-286.59\"/>\n",
              "<polygon fill=\"black\" stroke=\"black\" points=\"2240.03,-288.94 2243.74,-279.01 2234.65,-284.46 2240.03,-288.94\"/>\n",
              "</g>\n",
              "<!-- 19 -->\n",
              "<g id=\"node20\" class=\"node\">\n",
              "<title>19</title>\n",
              "<path fill=\"#f4c8a8\" stroke=\"black\" d=\"M1722.25,-167.5C1722.25,-167.5 1587.75,-167.5 1587.75,-167.5 1581.75,-167.5 1575.75,-161.5 1575.75,-155.5 1575.75,-155.5 1575.75,-105.5 1575.75,-105.5 1575.75,-99.5 1581.75,-93.5 1587.75,-93.5 1587.75,-93.5 1722.25,-93.5 1722.25,-93.5 1728.25,-93.5 1734.25,-99.5 1734.25,-105.5 1734.25,-105.5 1734.25,-155.5 1734.25,-155.5 1734.25,-161.5 1728.25,-167.5 1722.25,-167.5\"/>\n",
              "<text text-anchor=\"middle\" x=\"1655\" y=\"-150.2\" font-family=\"Helvetica,sans-Serif\" font-size=\"14.00\">IEG_2022 &lt;= 8.755</text>\n",
              "<text text-anchor=\"middle\" x=\"1655\" y=\"-133.7\" font-family=\"Helvetica,sans-Serif\" font-size=\"14.00\">squared_error = 0.181</text>\n",
              "<text text-anchor=\"middle\" x=\"1655\" y=\"-117.2\" font-family=\"Helvetica,sans-Serif\" font-size=\"14.00\">samples = 47</text>\n",
              "<text text-anchor=\"middle\" x=\"1655\" y=\"-100.7\" font-family=\"Helvetica,sans-Serif\" font-size=\"14.00\">value = 5.954</text>\n",
              "</g>\n",
              "<!-- 18&#45;&gt;19 -->\n",
              "<g id=\"edge19\" class=\"edge\">\n",
              "<title>18&#45;&gt;19</title>\n",
              "<path fill=\"none\" stroke=\"black\" d=\"M1840.49,-207.1C1810.36,-194.82 1775.85,-180.75 1744.83,-168.11\"/>\n",
              "<polygon fill=\"black\" stroke=\"black\" points=\"1746.44,-164.98 1735.85,-164.45 1743.79,-171.47 1746.44,-164.98\"/>\n",
              "</g>\n",
              "<!-- 22 -->\n",
              "<g id=\"node23\" class=\"node\">\n",
              "<title>22</title>\n",
              "<path fill=\"#f1ba93\" stroke=\"black\" d=\"M1987.25,-167.5C1987.25,-167.5 1852.75,-167.5 1852.75,-167.5 1846.75,-167.5 1840.75,-161.5 1840.75,-155.5 1840.75,-155.5 1840.75,-105.5 1840.75,-105.5 1840.75,-99.5 1846.75,-93.5 1852.75,-93.5 1852.75,-93.5 1987.25,-93.5 1987.25,-93.5 1993.25,-93.5 1999.25,-99.5 1999.25,-105.5 1999.25,-105.5 1999.25,-155.5 1999.25,-155.5 1999.25,-161.5 1993.25,-167.5 1987.25,-167.5\"/>\n",
              "<text text-anchor=\"middle\" x=\"1920\" y=\"-150.2\" font-family=\"Helvetica,sans-Serif\" font-size=\"14.00\">IPV_2022 &lt;= 7.292</text>\n",
              "<text text-anchor=\"middle\" x=\"1920\" y=\"-133.7\" font-family=\"Helvetica,sans-Serif\" font-size=\"14.00\">squared_error = 0.101</text>\n",
              "<text text-anchor=\"middle\" x=\"1920\" y=\"-117.2\" font-family=\"Helvetica,sans-Serif\" font-size=\"14.00\">samples = 33</text>\n",
              "<text text-anchor=\"middle\" x=\"1920\" y=\"-100.7\" font-family=\"Helvetica,sans-Serif\" font-size=\"14.00\">value = 6.508</text>\n",
              "</g>\n",
              "<!-- 18&#45;&gt;22 -->\n",
              "<g id=\"edge22\" class=\"edge\">\n",
              "<title>18&#45;&gt;22</title>\n",
              "<path fill=\"none\" stroke=\"black\" d=\"M1920,-203.24C1920,-195.49 1920,-187.2 1920,-179.1\"/>\n",
              "<polygon fill=\"black\" stroke=\"black\" points=\"1923.5,-179.36 1920,-169.36 1916.5,-179.36 1923.5,-179.36\"/>\n",
              "</g>\n",
              "<!-- 20 -->\n",
              "<g id=\"node21\" class=\"node\">\n",
              "<title>20</title>\n",
              "<path fill=\"#f4caac\" stroke=\"black\" d=\"M1545.25,-57.5C1545.25,-57.5 1410.75,-57.5 1410.75,-57.5 1404.75,-57.5 1398.75,-51.5 1398.75,-45.5 1398.75,-45.5 1398.75,-12 1398.75,-12 1398.75,-6 1404.75,0 1410.75,0 1410.75,0 1545.25,0 1545.25,0 1551.25,0 1557.25,-6 1557.25,-12 1557.25,-12 1557.25,-45.5 1557.25,-45.5 1557.25,-51.5 1551.25,-57.5 1545.25,-57.5\"/>\n",
              "<text text-anchor=\"middle\" x=\"1478\" y=\"-40.2\" font-family=\"Helvetica,sans-Serif\" font-size=\"14.00\">squared_error = 0.135</text>\n",
              "<text text-anchor=\"middle\" x=\"1478\" y=\"-23.7\" font-family=\"Helvetica,sans-Serif\" font-size=\"14.00\">samples = 42</text>\n",
              "<text text-anchor=\"middle\" x=\"1478\" y=\"-7.2\" font-family=\"Helvetica,sans-Serif\" font-size=\"14.00\">value = 5.866</text>\n",
              "</g>\n",
              "<!-- 19&#45;&gt;20 -->\n",
              "<g id=\"edge20\" class=\"edge\">\n",
              "<title>19&#45;&gt;20</title>\n",
              "<path fill=\"none\" stroke=\"black\" d=\"M1590.35,-93.06C1573.18,-83.39 1554.71,-72.98 1537.81,-63.46\"/>\n",
              "<polygon fill=\"black\" stroke=\"black\" points=\"1539.81,-60.57 1529.38,-58.71 1536.38,-66.67 1539.81,-60.57\"/>\n",
              "</g>\n",
              "<!-- 21 -->\n",
              "<g id=\"node22\" class=\"node\">\n",
              "<title>21</title>\n",
              "<path fill=\"#f0b78e\" stroke=\"black\" d=\"M1722.25,-57.5C1722.25,-57.5 1587.75,-57.5 1587.75,-57.5 1581.75,-57.5 1575.75,-51.5 1575.75,-45.5 1575.75,-45.5 1575.75,-12 1575.75,-12 1575.75,-6 1581.75,0 1587.75,0 1587.75,0 1722.25,0 1722.25,0 1728.25,0 1734.25,-6 1734.25,-12 1734.25,-12 1734.25,-45.5 1734.25,-45.5 1734.25,-51.5 1728.25,-57.5 1722.25,-57.5\"/>\n",
              "<text text-anchor=\"middle\" x=\"1655\" y=\"-40.2\" font-family=\"Helvetica,sans-Serif\" font-size=\"14.00\">squared_error = 0.002</text>\n",
              "<text text-anchor=\"middle\" x=\"1655\" y=\"-23.7\" font-family=\"Helvetica,sans-Serif\" font-size=\"14.00\">samples = 5</text>\n",
              "<text text-anchor=\"middle\" x=\"1655\" y=\"-7.2\" font-family=\"Helvetica,sans-Serif\" font-size=\"14.00\">value = 6.646</text>\n",
              "</g>\n",
              "<!-- 19&#45;&gt;21 -->\n",
              "<g id=\"edge21\" class=\"edge\">\n",
              "<title>19&#45;&gt;21</title>\n",
              "<path fill=\"none\" stroke=\"black\" d=\"M1655,-93.21C1655,-85.35 1655,-77 1655,-69.03\"/>\n",
              "<polygon fill=\"black\" stroke=\"black\" points=\"1658.5,-69.24 1655,-59.24 1651.5,-69.24 1658.5,-69.24\"/>\n",
              "</g>\n",
              "<!-- 23 -->\n",
              "<g id=\"node24\" class=\"node\">\n",
              "<title>23</title>\n",
              "<path fill=\"#f1bd98\" stroke=\"black\" d=\"M1899.25,-57.5C1899.25,-57.5 1764.75,-57.5 1764.75,-57.5 1758.75,-57.5 1752.75,-51.5 1752.75,-45.5 1752.75,-45.5 1752.75,-12 1752.75,-12 1752.75,-6 1758.75,0 1764.75,0 1764.75,0 1899.25,0 1899.25,0 1905.25,0 1911.25,-6 1911.25,-12 1911.25,-12 1911.25,-45.5 1911.25,-45.5 1911.25,-51.5 1905.25,-57.5 1899.25,-57.5\"/>\n",
              "<text text-anchor=\"middle\" x=\"1832\" y=\"-40.2\" font-family=\"Helvetica,sans-Serif\" font-size=\"14.00\">squared_error = 0.068</text>\n",
              "<text text-anchor=\"middle\" x=\"1832\" y=\"-23.7\" font-family=\"Helvetica,sans-Serif\" font-size=\"14.00\">samples = 24</text>\n",
              "<text text-anchor=\"middle\" x=\"1832\" y=\"-7.2\" font-family=\"Helvetica,sans-Serif\" font-size=\"14.00\">value = 6.382</text>\n",
              "</g>\n",
              "<!-- 22&#45;&gt;23 -->\n",
              "<g id=\"edge23\" class=\"edge\">\n",
              "<title>22&#45;&gt;23</title>\n",
              "<path fill=\"none\" stroke=\"black\" d=\"M1887.98,-93.21C1880.24,-84.43 1871.97,-75.05 1864.22,-66.27\"/>\n",
              "<polygon fill=\"black\" stroke=\"black\" points=\"1866.92,-64.05 1857.68,-58.86 1861.67,-68.68 1866.92,-64.05\"/>\n",
              "</g>\n",
              "<!-- 24 -->\n",
              "<g id=\"node25\" class=\"node\">\n",
              "<title>24</title>\n",
              "<path fill=\"#efb388\" stroke=\"black\" d=\"M2076.25,-57.5C2076.25,-57.5 1941.75,-57.5 1941.75,-57.5 1935.75,-57.5 1929.75,-51.5 1929.75,-45.5 1929.75,-45.5 1929.75,-12 1929.75,-12 1929.75,-6 1935.75,0 1941.75,0 1941.75,0 2076.25,0 2076.25,0 2082.25,0 2088.25,-6 2088.25,-12 2088.25,-12 2088.25,-45.5 2088.25,-45.5 2088.25,-51.5 2082.25,-57.5 2076.25,-57.5\"/>\n",
              "<text text-anchor=\"middle\" x=\"2009\" y=\"-40.2\" font-family=\"Helvetica,sans-Serif\" font-size=\"14.00\">squared_error = 0.054</text>\n",
              "<text text-anchor=\"middle\" x=\"2009\" y=\"-23.7\" font-family=\"Helvetica,sans-Serif\" font-size=\"14.00\">samples = 9</text>\n",
              "<text text-anchor=\"middle\" x=\"2009\" y=\"-7.2\" font-family=\"Helvetica,sans-Serif\" font-size=\"14.00\">value = 6.806</text>\n",
              "</g>\n",
              "<!-- 22&#45;&gt;24 -->\n",
              "<g id=\"edge24\" class=\"edge\">\n",
              "<title>22&#45;&gt;24</title>\n",
              "<path fill=\"none\" stroke=\"black\" d=\"M1952.38,-93.21C1960.21,-84.43 1968.58,-75.05 1976.42,-66.27\"/>\n",
              "<polygon fill=\"black\" stroke=\"black\" points=\"1978.98,-68.65 1983.03,-58.86 1973.76,-63.99 1978.98,-68.65\"/>\n",
              "</g>\n",
              "<!-- 26 -->\n",
              "<g id=\"node27\" class=\"node\">\n",
              "<title>26</title>\n",
              "<path fill=\"#f2c09c\" stroke=\"black\" d=\"M2342.25,-167.5C2342.25,-167.5 2207.75,-167.5 2207.75,-167.5 2201.75,-167.5 2195.75,-161.5 2195.75,-155.5 2195.75,-155.5 2195.75,-105.5 2195.75,-105.5 2195.75,-99.5 2201.75,-93.5 2207.75,-93.5 2207.75,-93.5 2342.25,-93.5 2342.25,-93.5 2348.25,-93.5 2354.25,-99.5 2354.25,-105.5 2354.25,-105.5 2354.25,-155.5 2354.25,-155.5 2354.25,-161.5 2348.25,-167.5 2342.25,-167.5\"/>\n",
              "<text text-anchor=\"middle\" x=\"2275\" y=\"-150.2\" font-family=\"Helvetica,sans-Serif\" font-size=\"14.00\">IAA_2022 &lt;= 3.333</text>\n",
              "<text text-anchor=\"middle\" x=\"2275\" y=\"-133.7\" font-family=\"Helvetica,sans-Serif\" font-size=\"14.00\">squared_error = 0.163</text>\n",
              "<text text-anchor=\"middle\" x=\"2275\" y=\"-117.2\" font-family=\"Helvetica,sans-Serif\" font-size=\"14.00\">samples = 8</text>\n",
              "<text text-anchor=\"middle\" x=\"2275\" y=\"-100.7\" font-family=\"Helvetica,sans-Serif\" font-size=\"14.00\">value = 6.261</text>\n",
              "</g>\n",
              "<!-- 25&#45;&gt;26 -->\n",
              "<g id=\"edge26\" class=\"edge\">\n",
              "<title>25&#45;&gt;26</title>\n",
              "<path fill=\"none\" stroke=\"black\" d=\"M2275,-203.24C2275,-195.49 2275,-187.2 2275,-179.1\"/>\n",
              "<polygon fill=\"black\" stroke=\"black\" points=\"2278.5,-179.36 2275,-169.36 2271.5,-179.36 2278.5,-179.36\"/>\n",
              "</g>\n",
              "<!-- 29 -->\n",
              "<g id=\"node30\" class=\"node\">\n",
              "<title>29</title>\n",
              "<path fill=\"#eda775\" stroke=\"black\" d=\"M2603.12,-167.5C2603.12,-167.5 2476.88,-167.5 2476.88,-167.5 2470.88,-167.5 2464.88,-161.5 2464.88,-155.5 2464.88,-155.5 2464.88,-105.5 2464.88,-105.5 2464.88,-99.5 2470.88,-93.5 2476.88,-93.5 2476.88,-93.5 2603.12,-93.5 2603.12,-93.5 2609.12,-93.5 2615.12,-99.5 2615.12,-105.5 2615.12,-105.5 2615.12,-155.5 2615.12,-155.5 2615.12,-161.5 2609.12,-167.5 2603.12,-167.5\"/>\n",
              "<text text-anchor=\"middle\" x=\"2540\" y=\"-150.2\" font-family=\"Helvetica,sans-Serif\" font-size=\"14.00\">IPV_2022 &lt;= 7.611</text>\n",
              "<text text-anchor=\"middle\" x=\"2540\" y=\"-133.7\" font-family=\"Helvetica,sans-Serif\" font-size=\"14.00\">squared_error = 0.08</text>\n",
              "<text text-anchor=\"middle\" x=\"2540\" y=\"-117.2\" font-family=\"Helvetica,sans-Serif\" font-size=\"14.00\">samples = 20</text>\n",
              "<text text-anchor=\"middle\" x=\"2540\" y=\"-100.7\" font-family=\"Helvetica,sans-Serif\" font-size=\"14.00\">value = 7.29</text>\n",
              "</g>\n",
              "<!-- 25&#45;&gt;29 -->\n",
              "<g id=\"edge29\" class=\"edge\">\n",
              "<title>25&#45;&gt;29</title>\n",
              "<path fill=\"none\" stroke=\"black\" d=\"M2354.51,-207.1C2386.01,-194.26 2422.3,-179.47 2454.38,-166.39\"/>\n",
              "<polygon fill=\"black\" stroke=\"black\" points=\"2455.29,-169.8 2463.23,-162.79 2452.65,-163.32 2455.29,-169.8\"/>\n",
              "</g>\n",
              "<!-- 27 -->\n",
              "<g id=\"node28\" class=\"node\">\n",
              "<title>27</title>\n",
              "<path fill=\"#f5d1b6\" stroke=\"black\" d=\"M2253.25,-57.5C2253.25,-57.5 2118.75,-57.5 2118.75,-57.5 2112.75,-57.5 2106.75,-51.5 2106.75,-45.5 2106.75,-45.5 2106.75,-12 2106.75,-12 2106.75,-6 2112.75,0 2118.75,0 2118.75,0 2253.25,0 2253.25,0 2259.25,0 2265.25,-6 2265.25,-12 2265.25,-12 2265.25,-45.5 2265.25,-45.5 2265.25,-51.5 2259.25,-57.5 2253.25,-57.5\"/>\n",
              "<text text-anchor=\"middle\" x=\"2186\" y=\"-40.2\" font-family=\"Helvetica,sans-Serif\" font-size=\"14.00\">squared_error = 0.001</text>\n",
              "<text text-anchor=\"middle\" x=\"2186\" y=\"-23.7\" font-family=\"Helvetica,sans-Serif\" font-size=\"14.00\">samples = 2</text>\n",
              "<text text-anchor=\"middle\" x=\"2186\" y=\"-7.2\" font-family=\"Helvetica,sans-Serif\" font-size=\"14.00\">value = 5.58</text>\n",
              "</g>\n",
              "<!-- 26&#45;&gt;27 -->\n",
              "<g id=\"edge27\" class=\"edge\">\n",
              "<title>26&#45;&gt;27</title>\n",
              "<path fill=\"none\" stroke=\"black\" d=\"M2242.62,-93.21C2234.79,-84.43 2226.42,-75.05 2218.58,-66.27\"/>\n",
              "<polygon fill=\"black\" stroke=\"black\" points=\"2221.24,-63.99 2211.97,-58.86 2216.02,-68.65 2221.24,-63.99\"/>\n",
              "</g>\n",
              "<!-- 28 -->\n",
              "<g id=\"node29\" class=\"node\">\n",
              "<title>28</title>\n",
              "<path fill=\"#f1bd97\" stroke=\"black\" d=\"M2430.25,-57.5C2430.25,-57.5 2295.75,-57.5 2295.75,-57.5 2289.75,-57.5 2283.75,-51.5 2283.75,-45.5 2283.75,-45.5 2283.75,-12 2283.75,-12 2283.75,-6 2289.75,0 2295.75,0 2295.75,0 2430.25,0 2430.25,0 2436.25,0 2442.25,-6 2442.25,-12 2442.25,-12 2442.25,-45.5 2442.25,-45.5 2442.25,-51.5 2436.25,-57.5 2430.25,-57.5\"/>\n",
              "<text text-anchor=\"middle\" x=\"2363\" y=\"-40.2\" font-family=\"Helvetica,sans-Serif\" font-size=\"14.00\">squared_error = 0.085</text>\n",
              "<text text-anchor=\"middle\" x=\"2363\" y=\"-23.7\" font-family=\"Helvetica,sans-Serif\" font-size=\"14.00\">samples = 6</text>\n",
              "<text text-anchor=\"middle\" x=\"2363\" y=\"-7.2\" font-family=\"Helvetica,sans-Serif\" font-size=\"14.00\">value = 6.397</text>\n",
              "</g>\n",
              "<!-- 26&#45;&gt;28 -->\n",
              "<g id=\"edge28\" class=\"edge\">\n",
              "<title>26&#45;&gt;28</title>\n",
              "<path fill=\"none\" stroke=\"black\" d=\"M2307.02,-93.21C2314.76,-84.43 2323.03,-75.05 2330.78,-66.27\"/>\n",
              "<polygon fill=\"black\" stroke=\"black\" points=\"2333.33,-68.68 2337.32,-58.86 2328.08,-64.05 2333.33,-68.68\"/>\n",
              "</g>\n",
              "<!-- 30 -->\n",
              "<g id=\"node31\" class=\"node\">\n",
              "<title>30</title>\n",
              "<path fill=\"#edaa79\" stroke=\"black\" d=\"M2607.25,-57.5C2607.25,-57.5 2472.75,-57.5 2472.75,-57.5 2466.75,-57.5 2460.75,-51.5 2460.75,-45.5 2460.75,-45.5 2460.75,-12 2460.75,-12 2460.75,-6 2466.75,0 2472.75,0 2472.75,0 2607.25,0 2607.25,0 2613.25,0 2619.25,-6 2619.25,-12 2619.25,-12 2619.25,-45.5 2619.25,-45.5 2619.25,-51.5 2613.25,-57.5 2607.25,-57.5\"/>\n",
              "<text text-anchor=\"middle\" x=\"2540\" y=\"-40.2\" font-family=\"Helvetica,sans-Serif\" font-size=\"14.00\">squared_error = 0.033</text>\n",
              "<text text-anchor=\"middle\" x=\"2540\" y=\"-23.7\" font-family=\"Helvetica,sans-Serif\" font-size=\"14.00\">samples = 17</text>\n",
              "<text text-anchor=\"middle\" x=\"2540\" y=\"-7.2\" font-family=\"Helvetica,sans-Serif\" font-size=\"14.00\">value = 7.192</text>\n",
              "</g>\n",
              "<!-- 29&#45;&gt;30 -->\n",
              "<g id=\"edge30\" class=\"edge\">\n",
              "<title>29&#45;&gt;30</title>\n",
              "<path fill=\"none\" stroke=\"black\" d=\"M2540,-93.21C2540,-85.35 2540,-77 2540,-69.03\"/>\n",
              "<polygon fill=\"black\" stroke=\"black\" points=\"2543.5,-69.24 2540,-59.24 2536.5,-69.24 2543.5,-69.24\"/>\n",
              "</g>\n",
              "<!-- 31 -->\n",
              "<g id=\"node32\" class=\"node\">\n",
              "<title>31</title>\n",
              "<path fill=\"#ea9b62\" stroke=\"black\" d=\"M2784.25,-57.5C2784.25,-57.5 2649.75,-57.5 2649.75,-57.5 2643.75,-57.5 2637.75,-51.5 2637.75,-45.5 2637.75,-45.5 2637.75,-12 2637.75,-12 2637.75,-6 2643.75,0 2649.75,0 2649.75,0 2784.25,0 2784.25,0 2790.25,0 2796.25,-6 2796.25,-12 2796.25,-12 2796.25,-45.5 2796.25,-45.5 2796.25,-51.5 2790.25,-57.5 2784.25,-57.5\"/>\n",
              "<text text-anchor=\"middle\" x=\"2717\" y=\"-40.2\" font-family=\"Helvetica,sans-Serif\" font-size=\"14.00\">squared_error = 0.027</text>\n",
              "<text text-anchor=\"middle\" x=\"2717\" y=\"-23.7\" font-family=\"Helvetica,sans-Serif\" font-size=\"14.00\">samples = 3</text>\n",
              "<text text-anchor=\"middle\" x=\"2717\" y=\"-7.2\" font-family=\"Helvetica,sans-Serif\" font-size=\"14.00\">value = 7.78</text>\n",
              "</g>\n",
              "<!-- 29&#45;&gt;31 -->\n",
              "<g id=\"edge31\" class=\"edge\">\n",
              "<title>29&#45;&gt;31</title>\n",
              "<path fill=\"none\" stroke=\"black\" d=\"M2604.65,-93.06C2621.82,-83.39 2640.29,-72.98 2657.19,-63.46\"/>\n",
              "<polygon fill=\"black\" stroke=\"black\" points=\"2658.62,-66.67 2665.62,-58.71 2655.19,-60.57 2658.62,-66.67\"/>\n",
              "</g>\n",
              "<!-- 33 -->\n",
              "<g id=\"node34\" class=\"node\">\n",
              "<title>33</title>\n",
              "<path fill=\"#efb286\" stroke=\"black\" d=\"M3453.25,-387.5C3453.25,-387.5 3318.75,-387.5 3318.75,-387.5 3312.75,-387.5 3306.75,-381.5 3306.75,-375.5 3306.75,-375.5 3306.75,-325.5 3306.75,-325.5 3306.75,-319.5 3312.75,-313.5 3318.75,-313.5 3318.75,-313.5 3453.25,-313.5 3453.25,-313.5 3459.25,-313.5 3465.25,-319.5 3465.25,-325.5 3465.25,-325.5 3465.25,-375.5 3465.25,-375.5 3465.25,-381.5 3459.25,-387.5 3453.25,-387.5\"/>\n",
              "<text text-anchor=\"middle\" x=\"3386\" y=\"-370.2\" font-family=\"Helvetica,sans-Serif\" font-size=\"14.00\">IAA_2022 &lt;= 2.708</text>\n",
              "<text text-anchor=\"middle\" x=\"3386\" y=\"-353.7\" font-family=\"Helvetica,sans-Serif\" font-size=\"14.00\">squared_error = 0.277</text>\n",
              "<text text-anchor=\"middle\" x=\"3386\" y=\"-337.2\" font-family=\"Helvetica,sans-Serif\" font-size=\"14.00\">samples = 60</text>\n",
              "<text text-anchor=\"middle\" x=\"3386\" y=\"-320.7\" font-family=\"Helvetica,sans-Serif\" font-size=\"14.00\">value = 6.852</text>\n",
              "</g>\n",
              "<!-- 32&#45;&gt;33 -->\n",
              "<g id=\"edge33\" class=\"edge\">\n",
              "<title>32&#45;&gt;33</title>\n",
              "<path fill=\"none\" stroke=\"black\" d=\"M3386,-423.24C3386,-415.49 3386,-407.2 3386,-399.1\"/>\n",
              "<polygon fill=\"black\" stroke=\"black\" points=\"3389.5,-399.36 3386,-389.36 3382.5,-399.36 3389.5,-399.36\"/>\n",
              "</g>\n",
              "<!-- 48 -->\n",
              "<g id=\"node49\" class=\"node\">\n",
              "<title>48</title>\n",
              "<path fill=\"#eb9d64\" stroke=\"black\" d=\"M4560.25,-387.5C4560.25,-387.5 4425.75,-387.5 4425.75,-387.5 4419.75,-387.5 4413.75,-381.5 4413.75,-375.5 4413.75,-375.5 4413.75,-325.5 4413.75,-325.5 4413.75,-319.5 4419.75,-313.5 4425.75,-313.5 4425.75,-313.5 4560.25,-313.5 4560.25,-313.5 4566.25,-313.5 4572.25,-319.5 4572.25,-325.5 4572.25,-325.5 4572.25,-375.5 4572.25,-375.5 4572.25,-381.5 4566.25,-387.5 4560.25,-387.5\"/>\n",
              "<text text-anchor=\"middle\" x=\"4493\" y=\"-370.2\" font-family=\"Helvetica,sans-Serif\" font-size=\"14.00\">IPV_2022 &lt;= 8.0</text>\n",
              "<text text-anchor=\"middle\" x=\"4493\" y=\"-353.7\" font-family=\"Helvetica,sans-Serif\" font-size=\"14.00\">squared_error = 0.242</text>\n",
              "<text text-anchor=\"middle\" x=\"4493\" y=\"-337.2\" font-family=\"Helvetica,sans-Serif\" font-size=\"14.00\">samples = 228</text>\n",
              "<text text-anchor=\"middle\" x=\"4493\" y=\"-320.7\" font-family=\"Helvetica,sans-Serif\" font-size=\"14.00\">value = 7.724</text>\n",
              "</g>\n",
              "<!-- 32&#45;&gt;48 -->\n",
              "<g id=\"edge48\" class=\"edge\">\n",
              "<title>32&#45;&gt;48</title>\n",
              "<path fill=\"none\" stroke=\"black\" d=\"M3465.61,-451.73C3665.93,-432.19 4189.95,-381.07 4401.98,-360.38\"/>\n",
              "<polygon fill=\"black\" stroke=\"black\" points=\"4402.25,-363.87 4411.86,-359.42 4401.57,-356.9 4402.25,-363.87\"/>\n",
              "</g>\n",
              "<!-- 34 -->\n",
              "<g id=\"node35\" class=\"node\">\n",
              "<title>34</title>\n",
              "<path fill=\"#f4caac\" stroke=\"black\" d=\"M3367.25,-277.5C3367.25,-277.5 3232.75,-277.5 3232.75,-277.5 3226.75,-277.5 3220.75,-271.5 3220.75,-265.5 3220.75,-265.5 3220.75,-215.5 3220.75,-215.5 3220.75,-209.5 3226.75,-203.5 3232.75,-203.5 3232.75,-203.5 3367.25,-203.5 3367.25,-203.5 3373.25,-203.5 3379.25,-209.5 3379.25,-215.5 3379.25,-215.5 3379.25,-265.5 3379.25,-265.5 3379.25,-271.5 3373.25,-277.5 3367.25,-277.5\"/>\n",
              "<text text-anchor=\"middle\" x=\"3300\" y=\"-260.2\" font-family=\"Helvetica,sans-Serif\" font-size=\"14.00\">IDA_2022 &lt;= 5.889</text>\n",
              "<text text-anchor=\"middle\" x=\"3300\" y=\"-243.7\" font-family=\"Helvetica,sans-Serif\" font-size=\"14.00\">squared_error = 0.162</text>\n",
              "<text text-anchor=\"middle\" x=\"3300\" y=\"-227.2\" font-family=\"Helvetica,sans-Serif\" font-size=\"14.00\">samples = 5</text>\n",
              "<text text-anchor=\"middle\" x=\"3300\" y=\"-210.7\" font-family=\"Helvetica,sans-Serif\" font-size=\"14.00\">value = 5.849</text>\n",
              "</g>\n",
              "<!-- 33&#45;&gt;34 -->\n",
              "<g id=\"edge34\" class=\"edge\">\n",
              "<title>33&#45;&gt;34</title>\n",
              "<path fill=\"none\" stroke=\"black\" d=\"M3357.12,-313.24C3350.32,-304.69 3342.98,-295.47 3335.9,-286.59\"/>\n",
              "<polygon fill=\"black\" stroke=\"black\" points=\"3338.86,-284.68 3329.89,-279.04 3333.38,-289.04 3338.86,-284.68\"/>\n",
              "</g>\n",
              "<!-- 41 -->\n",
              "<g id=\"node42\" class=\"node\">\n",
              "<title>41</title>\n",
              "<path fill=\"#efaf82\" stroke=\"black\" d=\"M3708.25,-277.5C3708.25,-277.5 3573.75,-277.5 3573.75,-277.5 3567.75,-277.5 3561.75,-271.5 3561.75,-265.5 3561.75,-265.5 3561.75,-215.5 3561.75,-215.5 3561.75,-209.5 3567.75,-203.5 3573.75,-203.5 3573.75,-203.5 3708.25,-203.5 3708.25,-203.5 3714.25,-203.5 3720.25,-209.5 3720.25,-215.5 3720.25,-215.5 3720.25,-265.5 3720.25,-265.5 3720.25,-271.5 3714.25,-277.5 3708.25,-277.5\"/>\n",
              "<text text-anchor=\"middle\" x=\"3641\" y=\"-260.2\" font-family=\"Helvetica,sans-Serif\" font-size=\"14.00\">IPV_2022 &lt;= 7.75</text>\n",
              "<text text-anchor=\"middle\" x=\"3641\" y=\"-243.7\" font-family=\"Helvetica,sans-Serif\" font-size=\"14.00\">squared_error = 0.169</text>\n",
              "<text text-anchor=\"middle\" x=\"3641\" y=\"-227.2\" font-family=\"Helvetica,sans-Serif\" font-size=\"14.00\">samples = 55</text>\n",
              "<text text-anchor=\"middle\" x=\"3641\" y=\"-210.7\" font-family=\"Helvetica,sans-Serif\" font-size=\"14.00\">value = 6.961</text>\n",
              "</g>\n",
              "<!-- 33&#45;&gt;41 -->\n",
              "<g id=\"edge41\" class=\"edge\">\n",
              "<title>33&#45;&gt;41</title>\n",
              "<path fill=\"none\" stroke=\"black\" d=\"M3465.63,-315.77C3492.72,-304.3 3523.17,-291.4 3551,-279.62\"/>\n",
              "<polygon fill=\"black\" stroke=\"black\" points=\"3552.29,-282.87 3560.14,-275.75 3549.56,-276.42 3552.29,-282.87\"/>\n",
              "</g>\n",
              "<!-- 35 -->\n",
              "<g id=\"node36\" class=\"node\">\n",
              "<title>35</title>\n",
              "<path fill=\"#f6d5bd\" stroke=\"black\" d=\"M3108.12,-167.5C3108.12,-167.5 2981.88,-167.5 2981.88,-167.5 2975.88,-167.5 2969.88,-161.5 2969.88,-155.5 2969.88,-155.5 2969.88,-105.5 2969.88,-105.5 2969.88,-99.5 2975.88,-93.5 2981.88,-93.5 2981.88,-93.5 3108.12,-93.5 3108.12,-93.5 3114.12,-93.5 3120.12,-99.5 3120.12,-105.5 3120.12,-105.5 3120.12,-155.5 3120.12,-155.5 3120.12,-161.5 3114.12,-167.5 3108.12,-167.5\"/>\n",
              "<text text-anchor=\"middle\" x=\"3045\" y=\"-150.2\" font-family=\"Helvetica,sans-Serif\" font-size=\"14.00\">IPV_2022 &lt;= 5.694</text>\n",
              "<text text-anchor=\"middle\" x=\"3045\" y=\"-133.7\" font-family=\"Helvetica,sans-Serif\" font-size=\"14.00\">squared_error = 0.07</text>\n",
              "<text text-anchor=\"middle\" x=\"3045\" y=\"-117.2\" font-family=\"Helvetica,sans-Serif\" font-size=\"14.00\">samples = 2</text>\n",
              "<text text-anchor=\"middle\" x=\"3045\" y=\"-100.7\" font-family=\"Helvetica,sans-Serif\" font-size=\"14.00\">value = 5.409</text>\n",
              "</g>\n",
              "<!-- 34&#45;&gt;35 -->\n",
              "<g id=\"edge35\" class=\"edge\">\n",
              "<title>34&#45;&gt;35</title>\n",
              "<path fill=\"none\" stroke=\"black\" d=\"M3220.37,-205.77C3191.99,-193.76 3159.92,-180.17 3131.04,-167.94\"/>\n",
              "<polygon fill=\"black\" stroke=\"black\" points=\"3132.52,-164.77 3121.94,-164.09 3129.79,-171.21 3132.52,-164.77\"/>\n",
              "</g>\n",
              "<!-- 38 -->\n",
              "<g id=\"node39\" class=\"node\">\n",
              "<title>38</title>\n",
              "<path fill=\"#f3c3a1\" stroke=\"black\" d=\"M3367.25,-167.5C3367.25,-167.5 3232.75,-167.5 3232.75,-167.5 3226.75,-167.5 3220.75,-161.5 3220.75,-155.5 3220.75,-155.5 3220.75,-105.5 3220.75,-105.5 3220.75,-99.5 3226.75,-93.5 3232.75,-93.5 3232.75,-93.5 3367.25,-93.5 3367.25,-93.5 3373.25,-93.5 3379.25,-99.5 3379.25,-105.5 3379.25,-105.5 3379.25,-155.5 3379.25,-155.5 3379.25,-161.5 3373.25,-167.5 3367.25,-167.5\"/>\n",
              "<text text-anchor=\"middle\" x=\"3300\" y=\"-150.2\" font-family=\"Helvetica,sans-Serif\" font-size=\"14.00\">IPV_2022 &lt;= 8.222</text>\n",
              "<text text-anchor=\"middle\" x=\"3300\" y=\"-133.7\" font-family=\"Helvetica,sans-Serif\" font-size=\"14.00\">squared_error = 0.008</text>\n",
              "<text text-anchor=\"middle\" x=\"3300\" y=\"-117.2\" font-family=\"Helvetica,sans-Serif\" font-size=\"14.00\">samples = 3</text>\n",
              "<text text-anchor=\"middle\" x=\"3300\" y=\"-100.7\" font-family=\"Helvetica,sans-Serif\" font-size=\"14.00\">value = 6.143</text>\n",
              "</g>\n",
              "<!-- 34&#45;&gt;38 -->\n",
              "<g id=\"edge38\" class=\"edge\">\n",
              "<title>34&#45;&gt;38</title>\n",
              "<path fill=\"none\" stroke=\"black\" d=\"M3300,-203.24C3300,-195.49 3300,-187.2 3300,-179.1\"/>\n",
              "<polygon fill=\"black\" stroke=\"black\" points=\"3303.5,-179.36 3300,-169.36 3296.5,-179.36 3303.5,-179.36\"/>\n",
              "</g>\n",
              "<!-- 36 -->\n",
              "<g id=\"node37\" class=\"node\">\n",
              "<title>36</title>\n",
              "<path fill=\"#f9e0cf\" stroke=\"black\" d=\"M2944,-57.5C2944,-57.5 2826,-57.5 2826,-57.5 2820,-57.5 2814,-51.5 2814,-45.5 2814,-45.5 2814,-12 2814,-12 2814,-6 2820,0 2826,0 2826,0 2944,0 2944,0 2950,0 2956,-6 2956,-12 2956,-12 2956,-45.5 2956,-45.5 2956,-51.5 2950,-57.5 2944,-57.5\"/>\n",
              "<text text-anchor=\"middle\" x=\"2885\" y=\"-40.2\" font-family=\"Helvetica,sans-Serif\" font-size=\"14.00\">squared_error = 0.0</text>\n",
              "<text text-anchor=\"middle\" x=\"2885\" y=\"-23.7\" font-family=\"Helvetica,sans-Serif\" font-size=\"14.00\">samples = 1</text>\n",
              "<text text-anchor=\"middle\" x=\"2885\" y=\"-7.2\" font-family=\"Helvetica,sans-Serif\" font-size=\"14.00\">value = 4.95</text>\n",
              "</g>\n",
              "<!-- 35&#45;&gt;36 -->\n",
              "<g id=\"edge36\" class=\"edge\">\n",
              "<title>35&#45;&gt;36</title>\n",
              "<path fill=\"none\" stroke=\"black\" d=\"M2986.78,-93.21C2971.46,-83.66 2954.99,-73.39 2939.86,-63.95\"/>\n",
              "<polygon fill=\"black\" stroke=\"black\" points=\"2941.75,-61.01 2931.41,-58.69 2938.05,-66.95 2941.75,-61.01\"/>\n",
              "</g>\n",
              "<!-- 37 -->\n",
              "<g id=\"node38\" class=\"node\">\n",
              "<title>37</title>\n",
              "<path fill=\"#f6d1b7\" stroke=\"black\" d=\"M3104,-57.5C3104,-57.5 2986,-57.5 2986,-57.5 2980,-57.5 2974,-51.5 2974,-45.5 2974,-45.5 2974,-12 2974,-12 2974,-6 2980,0 2986,0 2986,0 3104,0 3104,0 3110,0 3116,-6 3116,-12 3116,-12 3116,-45.5 3116,-45.5 3116,-51.5 3110,-57.5 3104,-57.5\"/>\n",
              "<text text-anchor=\"middle\" x=\"3045\" y=\"-40.2\" font-family=\"Helvetica,sans-Serif\" font-size=\"14.00\">squared_error = 0.0</text>\n",
              "<text text-anchor=\"middle\" x=\"3045\" y=\"-23.7\" font-family=\"Helvetica,sans-Serif\" font-size=\"14.00\">samples = 1</text>\n",
              "<text text-anchor=\"middle\" x=\"3045\" y=\"-7.2\" font-family=\"Helvetica,sans-Serif\" font-size=\"14.00\">value = 5.563</text>\n",
              "</g>\n",
              "<!-- 35&#45;&gt;37 -->\n",
              "<g id=\"edge37\" class=\"edge\">\n",
              "<title>35&#45;&gt;37</title>\n",
              "<path fill=\"none\" stroke=\"black\" d=\"M3045,-93.21C3045,-85.35 3045,-77 3045,-69.03\"/>\n",
              "<polygon fill=\"black\" stroke=\"black\" points=\"3048.5,-69.24 3045,-59.24 3041.5,-69.24 3048.5,-69.24\"/>\n",
              "</g>\n",
              "<!-- 39 -->\n",
              "<g id=\"node40\" class=\"node\">\n",
              "<title>39</title>\n",
              "<path fill=\"#f3c4a3\" stroke=\"black\" d=\"M3280.25,-57.5C3280.25,-57.5 3145.75,-57.5 3145.75,-57.5 3139.75,-57.5 3133.75,-51.5 3133.75,-45.5 3133.75,-45.5 3133.75,-12 3133.75,-12 3133.75,-6 3139.75,0 3145.75,0 3145.75,0 3280.25,0 3280.25,0 3286.25,0 3292.25,-6 3292.25,-12 3292.25,-12 3292.25,-45.5 3292.25,-45.5 3292.25,-51.5 3286.25,-57.5 3280.25,-57.5\"/>\n",
              "<text text-anchor=\"middle\" x=\"3213\" y=\"-40.2\" font-family=\"Helvetica,sans-Serif\" font-size=\"14.00\">squared_error = 0.003</text>\n",
              "<text text-anchor=\"middle\" x=\"3213\" y=\"-23.7\" font-family=\"Helvetica,sans-Serif\" font-size=\"14.00\">samples = 2</text>\n",
              "<text text-anchor=\"middle\" x=\"3213\" y=\"-7.2\" font-family=\"Helvetica,sans-Serif\" font-size=\"14.00\">value = 6.088</text>\n",
              "</g>\n",
              "<!-- 38&#45;&gt;39 -->\n",
              "<g id=\"edge39\" class=\"edge\">\n",
              "<title>38&#45;&gt;39</title>\n",
              "<path fill=\"none\" stroke=\"black\" d=\"M3268.34,-93.21C3260.69,-84.43 3252.51,-75.05 3244.85,-66.27\"/>\n",
              "<polygon fill=\"black\" stroke=\"black\" points=\"3247.61,-64.1 3238.4,-58.87 3242.33,-68.71 3247.61,-64.1\"/>\n",
              "</g>\n",
              "<!-- 40 -->\n",
              "<g id=\"node41\" class=\"node\">\n",
              "<title>40</title>\n",
              "<path fill=\"#f2c09d\" stroke=\"black\" d=\"M3445.25,-57.5C3445.25,-57.5 3322.75,-57.5 3322.75,-57.5 3316.75,-57.5 3310.75,-51.5 3310.75,-45.5 3310.75,-45.5 3310.75,-12 3310.75,-12 3310.75,-6 3316.75,0 3322.75,0 3322.75,0 3445.25,0 3445.25,0 3451.25,0 3457.25,-6 3457.25,-12 3457.25,-12 3457.25,-45.5 3457.25,-45.5 3457.25,-51.5 3451.25,-57.5 3445.25,-57.5\"/>\n",
              "<text text-anchor=\"middle\" x=\"3384\" y=\"-40.2\" font-family=\"Helvetica,sans-Serif\" font-size=\"14.00\">squared_error = &#45;0.0</text>\n",
              "<text text-anchor=\"middle\" x=\"3384\" y=\"-23.7\" font-family=\"Helvetica,sans-Serif\" font-size=\"14.00\">samples = 1</text>\n",
              "<text text-anchor=\"middle\" x=\"3384\" y=\"-7.2\" font-family=\"Helvetica,sans-Serif\" font-size=\"14.00\">value = 6.253</text>\n",
              "</g>\n",
              "<!-- 38&#45;&gt;40 -->\n",
              "<g id=\"edge40\" class=\"edge\">\n",
              "<title>38&#45;&gt;40</title>\n",
              "<path fill=\"none\" stroke=\"black\" d=\"M3330.56,-93.21C3337.95,-84.43 3345.85,-75.05 3353.25,-66.27\"/>\n",
              "<polygon fill=\"black\" stroke=\"black\" points=\"3355.7,-68.79 3359.46,-58.89 3350.35,-64.28 3355.7,-68.79\"/>\n",
              "</g>\n",
              "<!-- 42 -->\n",
              "<g id=\"node43\" class=\"node\">\n",
              "<title>42</title>\n",
              "<path fill=\"#efb388\" stroke=\"black\" d=\"M3708.25,-167.5C3708.25,-167.5 3573.75,-167.5 3573.75,-167.5 3567.75,-167.5 3561.75,-161.5 3561.75,-155.5 3561.75,-155.5 3561.75,-105.5 3561.75,-105.5 3561.75,-99.5 3567.75,-93.5 3573.75,-93.5 3573.75,-93.5 3708.25,-93.5 3708.25,-93.5 3714.25,-93.5 3720.25,-99.5 3720.25,-105.5 3720.25,-105.5 3720.25,-155.5 3720.25,-155.5 3720.25,-161.5 3714.25,-167.5 3708.25,-167.5\"/>\n",
              "<text text-anchor=\"middle\" x=\"3641\" y=\"-150.2\" font-family=\"Helvetica,sans-Serif\" font-size=\"14.00\">IPV_2022 &lt;= 6.625</text>\n",
              "<text text-anchor=\"middle\" x=\"3641\" y=\"-133.7\" font-family=\"Helvetica,sans-Serif\" font-size=\"14.00\">squared_error = 0.107</text>\n",
              "<text text-anchor=\"middle\" x=\"3641\" y=\"-117.2\" font-family=\"Helvetica,sans-Serif\" font-size=\"14.00\">samples = 42</text>\n",
              "<text text-anchor=\"middle\" x=\"3641\" y=\"-100.7\" font-family=\"Helvetica,sans-Serif\" font-size=\"14.00\">value = 6.787</text>\n",
              "</g>\n",
              "<!-- 41&#45;&gt;42 -->\n",
              "<g id=\"edge42\" class=\"edge\">\n",
              "<title>41&#45;&gt;42</title>\n",
              "<path fill=\"none\" stroke=\"black\" d=\"M3641,-203.24C3641,-195.49 3641,-187.2 3641,-179.1\"/>\n",
              "<polygon fill=\"black\" stroke=\"black\" points=\"3644.5,-179.36 3641,-169.36 3637.5,-179.36 3644.5,-179.36\"/>\n",
              "</g>\n",
              "<!-- 45 -->\n",
              "<g id=\"node46\" class=\"node\">\n",
              "<title>45</title>\n",
              "<path fill=\"#eca36f\" stroke=\"black\" d=\"M3971.25,-167.5C3971.25,-167.5 3836.75,-167.5 3836.75,-167.5 3830.75,-167.5 3824.75,-161.5 3824.75,-155.5 3824.75,-155.5 3824.75,-105.5 3824.75,-105.5 3824.75,-99.5 3830.75,-93.5 3836.75,-93.5 3836.75,-93.5 3971.25,-93.5 3971.25,-93.5 3977.25,-93.5 3983.25,-99.5 3983.25,-105.5 3983.25,-105.5 3983.25,-155.5 3983.25,-155.5 3983.25,-161.5 3977.25,-167.5 3971.25,-167.5\"/>\n",
              "<text text-anchor=\"middle\" x=\"3904\" y=\"-150.2\" font-family=\"Helvetica,sans-Serif\" font-size=\"14.00\">IPP_2022 &lt;= 7.656</text>\n",
              "<text text-anchor=\"middle\" x=\"3904\" y=\"-133.7\" font-family=\"Helvetica,sans-Serif\" font-size=\"14.00\">squared_error = 0.017</text>\n",
              "<text text-anchor=\"middle\" x=\"3904\" y=\"-117.2\" font-family=\"Helvetica,sans-Serif\" font-size=\"14.00\">samples = 13</text>\n",
              "<text text-anchor=\"middle\" x=\"3904\" y=\"-100.7\" font-family=\"Helvetica,sans-Serif\" font-size=\"14.00\">value = 7.453</text>\n",
              "</g>\n",
              "<!-- 41&#45;&gt;45 -->\n",
              "<g id=\"edge45\" class=\"edge\">\n",
              "<title>41&#45;&gt;45</title>\n",
              "<path fill=\"none\" stroke=\"black\" d=\"M3720.62,-206.8C3750.11,-194.7 3783.73,-180.89 3814.07,-168.43\"/>\n",
              "<polygon fill=\"black\" stroke=\"black\" points=\"3815.33,-171.7 3823.25,-164.66 3812.67,-165.22 3815.33,-171.7\"/>\n",
              "</g>\n",
              "<!-- 43 -->\n",
              "<g id=\"node44\" class=\"node\">\n",
              "<title>43</title>\n",
              "<path fill=\"#f1bb93\" stroke=\"black\" d=\"M3622.25,-57.5C3622.25,-57.5 3487.75,-57.5 3487.75,-57.5 3481.75,-57.5 3475.75,-51.5 3475.75,-45.5 3475.75,-45.5 3475.75,-12 3475.75,-12 3475.75,-6 3481.75,0 3487.75,0 3487.75,0 3622.25,0 3622.25,0 3628.25,0 3634.25,-6 3634.25,-12 3634.25,-12 3634.25,-45.5 3634.25,-45.5 3634.25,-51.5 3628.25,-57.5 3622.25,-57.5\"/>\n",
              "<text text-anchor=\"middle\" x=\"3555\" y=\"-40.2\" font-family=\"Helvetica,sans-Serif\" font-size=\"14.00\">squared_error = 0.136</text>\n",
              "<text text-anchor=\"middle\" x=\"3555\" y=\"-23.7\" font-family=\"Helvetica,sans-Serif\" font-size=\"14.00\">samples = 11</text>\n",
              "<text text-anchor=\"middle\" x=\"3555\" y=\"-7.2\" font-family=\"Helvetica,sans-Serif\" font-size=\"14.00\">value = 6.495</text>\n",
              "</g>\n",
              "<!-- 42&#45;&gt;43 -->\n",
              "<g id=\"edge43\" class=\"edge\">\n",
              "<title>42&#45;&gt;43</title>\n",
              "<path fill=\"none\" stroke=\"black\" d=\"M3609.71,-93.21C3602.14,-84.43 3594.06,-75.05 3586.48,-66.27\"/>\n",
              "<polygon fill=\"black\" stroke=\"black\" points=\"3589.29,-64.16 3580.11,-58.87 3583.99,-68.73 3589.29,-64.16\"/>\n",
              "</g>\n",
              "<!-- 44 -->\n",
              "<g id=\"node45\" class=\"node\">\n",
              "<title>44</title>\n",
              "<path fill=\"#efb185\" stroke=\"black\" d=\"M3799.25,-57.5C3799.25,-57.5 3664.75,-57.5 3664.75,-57.5 3658.75,-57.5 3652.75,-51.5 3652.75,-45.5 3652.75,-45.5 3652.75,-12 3652.75,-12 3652.75,-6 3658.75,0 3664.75,0 3664.75,0 3799.25,0 3799.25,0 3805.25,0 3811.25,-6 3811.25,-12 3811.25,-12 3811.25,-45.5 3811.25,-45.5 3811.25,-51.5 3805.25,-57.5 3799.25,-57.5\"/>\n",
              "<text text-anchor=\"middle\" x=\"3732\" y=\"-40.2\" font-family=\"Helvetica,sans-Serif\" font-size=\"14.00\">squared_error = 0.059</text>\n",
              "<text text-anchor=\"middle\" x=\"3732\" y=\"-23.7\" font-family=\"Helvetica,sans-Serif\" font-size=\"14.00\">samples = 31</text>\n",
              "<text text-anchor=\"middle\" x=\"3732\" y=\"-7.2\" font-family=\"Helvetica,sans-Serif\" font-size=\"14.00\">value = 6.885</text>\n",
              "</g>\n",
              "<!-- 42&#45;&gt;44 -->\n",
              "<g id=\"edge44\" class=\"edge\">\n",
              "<title>42&#45;&gt;44</title>\n",
              "<path fill=\"none\" stroke=\"black\" d=\"M3674.11,-93.21C3682.2,-84.34 3690.85,-74.86 3698.94,-65.99\"/>\n",
              "<polygon fill=\"black\" stroke=\"black\" points=\"3701.3,-68.59 3705.46,-58.85 3696.13,-63.87 3701.3,-68.59\"/>\n",
              "</g>\n",
              "<!-- 46 -->\n",
              "<g id=\"node47\" class=\"node\">\n",
              "<title>46</title>\n",
              "<path fill=\"#eca36e\" stroke=\"black\" d=\"M3967.12,-57.5C3967.12,-57.5 3840.88,-57.5 3840.88,-57.5 3834.88,-57.5 3828.88,-51.5 3828.88,-45.5 3828.88,-45.5 3828.88,-12 3828.88,-12 3828.88,-6 3834.88,0 3840.88,0 3840.88,0 3967.12,0 3967.12,0 3973.12,0 3979.12,-6 3979.12,-12 3979.12,-12 3979.12,-45.5 3979.12,-45.5 3979.12,-51.5 3973.12,-57.5 3967.12,-57.5\"/>\n",
              "<text text-anchor=\"middle\" x=\"3904\" y=\"-40.2\" font-family=\"Helvetica,sans-Serif\" font-size=\"14.00\">squared_error = 0.01</text>\n",
              "<text text-anchor=\"middle\" x=\"3904\" y=\"-23.7\" font-family=\"Helvetica,sans-Serif\" font-size=\"14.00\">samples = 12</text>\n",
              "<text text-anchor=\"middle\" x=\"3904\" y=\"-7.2\" font-family=\"Helvetica,sans-Serif\" font-size=\"14.00\">value = 7.471</text>\n",
              "</g>\n",
              "<!-- 45&#45;&gt;46 -->\n",
              "<g id=\"edge46\" class=\"edge\">\n",
              "<title>45&#45;&gt;46</title>\n",
              "<path fill=\"none\" stroke=\"black\" d=\"M3904,-93.21C3904,-85.35 3904,-77 3904,-69.03\"/>\n",
              "<polygon fill=\"black\" stroke=\"black\" points=\"3907.5,-69.24 3904,-59.24 3900.5,-69.24 3907.5,-69.24\"/>\n",
              "</g>\n",
              "<!-- 47 -->\n",
              "<g id=\"node48\" class=\"node\">\n",
              "<title>47</title>\n",
              "<path fill=\"#eead7f\" stroke=\"black\" d=\"M4127,-57.5C4127,-57.5 4009,-57.5 4009,-57.5 4003,-57.5 3997,-51.5 3997,-45.5 3997,-45.5 3997,-12 3997,-12 3997,-6 4003,0 4009,0 4009,0 4127,0 4127,0 4133,0 4139,-6 4139,-12 4139,-12 4139,-45.5 4139,-45.5 4139,-51.5 4133,-57.5 4127,-57.5\"/>\n",
              "<text text-anchor=\"middle\" x=\"4068\" y=\"-40.2\" font-family=\"Helvetica,sans-Serif\" font-size=\"14.00\">squared_error = 0.0</text>\n",
              "<text text-anchor=\"middle\" x=\"4068\" y=\"-23.7\" font-family=\"Helvetica,sans-Serif\" font-size=\"14.00\">samples = 1</text>\n",
              "<text text-anchor=\"middle\" x=\"4068\" y=\"-7.2\" font-family=\"Helvetica,sans-Serif\" font-size=\"14.00\">value = 7.04</text>\n",
              "</g>\n",
              "<!-- 45&#45;&gt;47 -->\n",
              "<g id=\"edge47\" class=\"edge\">\n",
              "<title>45&#45;&gt;47</title>\n",
              "<path fill=\"none\" stroke=\"black\" d=\"M3963.67,-93.21C3979.52,-83.56 3996.58,-73.19 4012.21,-63.68\"/>\n",
              "<polygon fill=\"black\" stroke=\"black\" points=\"4013.72,-66.86 4020.45,-58.67 4010.09,-60.88 4013.72,-66.86\"/>\n",
              "</g>\n",
              "<!-- 49 -->\n",
              "<g id=\"node50\" class=\"node\">\n",
              "<title>49</title>\n",
              "<path fill=\"#eca26d\" stroke=\"black\" d=\"M4556.12,-277.5C4556.12,-277.5 4429.88,-277.5 4429.88,-277.5 4423.88,-277.5 4417.88,-271.5 4417.88,-265.5 4417.88,-265.5 4417.88,-215.5 4417.88,-215.5 4417.88,-209.5 4423.88,-203.5 4429.88,-203.5 4429.88,-203.5 4556.12,-203.5 4556.12,-203.5 4562.12,-203.5 4568.12,-209.5 4568.12,-215.5 4568.12,-215.5 4568.12,-265.5 4568.12,-265.5 4568.12,-271.5 4562.12,-277.5 4556.12,-277.5\"/>\n",
              "<text text-anchor=\"middle\" x=\"4493\" y=\"-260.2\" font-family=\"Helvetica,sans-Serif\" font-size=\"14.00\">IAN_2022 &lt;= 7.5</text>\n",
              "<text text-anchor=\"middle\" x=\"4493\" y=\"-243.7\" font-family=\"Helvetica,sans-Serif\" font-size=\"14.00\">squared_error = 0.14</text>\n",
              "<text text-anchor=\"middle\" x=\"4493\" y=\"-227.2\" font-family=\"Helvetica,sans-Serif\" font-size=\"14.00\">samples = 143</text>\n",
              "<text text-anchor=\"middle\" x=\"4493\" y=\"-210.7\" font-family=\"Helvetica,sans-Serif\" font-size=\"14.00\">value = 7.506</text>\n",
              "</g>\n",
              "<!-- 48&#45;&gt;49 -->\n",
              "<g id=\"edge49\" class=\"edge\">\n",
              "<title>48&#45;&gt;49</title>\n",
              "<path fill=\"none\" stroke=\"black\" d=\"M4493,-313.24C4493,-305.49 4493,-297.2 4493,-289.1\"/>\n",
              "<polygon fill=\"black\" stroke=\"black\" points=\"4496.5,-289.36 4493,-279.36 4489.5,-289.36 4496.5,-289.36\"/>\n",
              "</g>\n",
              "<!-- 56 -->\n",
              "<g id=\"node57\" class=\"node\">\n",
              "<title>56</title>\n",
              "<path fill=\"#e99356\" stroke=\"black\" d=\"M5090.25,-277.5C5090.25,-277.5 4955.75,-277.5 4955.75,-277.5 4949.75,-277.5 4943.75,-271.5 4943.75,-265.5 4943.75,-265.5 4943.75,-215.5 4943.75,-215.5 4943.75,-209.5 4949.75,-203.5 4955.75,-203.5 4955.75,-203.5 5090.25,-203.5 5090.25,-203.5 5096.25,-203.5 5102.25,-209.5 5102.25,-215.5 5102.25,-215.5 5102.25,-265.5 5102.25,-265.5 5102.25,-271.5 5096.25,-277.5 5090.25,-277.5\"/>\n",
              "<text text-anchor=\"middle\" x=\"5023\" y=\"-260.2\" font-family=\"Helvetica,sans-Serif\" font-size=\"14.00\">IEG_2022 &lt;= 8.989</text>\n",
              "<text text-anchor=\"middle\" x=\"5023\" y=\"-243.7\" font-family=\"Helvetica,sans-Serif\" font-size=\"14.00\">squared_error = 0.189</text>\n",
              "<text text-anchor=\"middle\" x=\"5023\" y=\"-227.2\" font-family=\"Helvetica,sans-Serif\" font-size=\"14.00\">samples = 85</text>\n",
              "<text text-anchor=\"middle\" x=\"5023\" y=\"-210.7\" font-family=\"Helvetica,sans-Serif\" font-size=\"14.00\">value = 8.111</text>\n",
              "</g>\n",
              "<!-- 48&#45;&gt;56 -->\n",
              "<g id=\"edge56\" class=\"edge\">\n",
              "<title>48&#45;&gt;56</title>\n",
              "<path fill=\"none\" stroke=\"black\" d=\"M4572.63,-333.27C4669.15,-313.61 4831.38,-280.55 4932.53,-259.94\"/>\n",
              "<polygon fill=\"black\" stroke=\"black\" points=\"4933.05,-263.4 4942.15,-257.97 4931.66,-256.54 4933.05,-263.4\"/>\n",
              "</g>\n",
              "<!-- 50 -->\n",
              "<g id=\"node51\" class=\"node\">\n",
              "<title>50</title>\n",
              "<path fill=\"#eda672\" stroke=\"black\" d=\"M4471.25,-167.5C4471.25,-167.5 4336.75,-167.5 4336.75,-167.5 4330.75,-167.5 4324.75,-161.5 4324.75,-155.5 4324.75,-155.5 4324.75,-105.5 4324.75,-105.5 4324.75,-99.5 4330.75,-93.5 4336.75,-93.5 4336.75,-93.5 4471.25,-93.5 4471.25,-93.5 4477.25,-93.5 4483.25,-99.5 4483.25,-105.5 4483.25,-105.5 4483.25,-155.5 4483.25,-155.5 4483.25,-161.5 4477.25,-167.5 4471.25,-167.5\"/>\n",
              "<text text-anchor=\"middle\" x=\"4404\" y=\"-150.2\" font-family=\"Helvetica,sans-Serif\" font-size=\"14.00\">IDA_2022 &lt;= 6.736</text>\n",
              "<text text-anchor=\"middle\" x=\"4404\" y=\"-133.7\" font-family=\"Helvetica,sans-Serif\" font-size=\"14.00\">squared_error = 0.097</text>\n",
              "<text text-anchor=\"middle\" x=\"4404\" y=\"-117.2\" font-family=\"Helvetica,sans-Serif\" font-size=\"14.00\">samples = 93</text>\n",
              "<text text-anchor=\"middle\" x=\"4404\" y=\"-100.7\" font-family=\"Helvetica,sans-Serif\" font-size=\"14.00\">value = 7.356</text>\n",
              "</g>\n",
              "<!-- 49&#45;&gt;50 -->\n",
              "<g id=\"edge50\" class=\"edge\">\n",
              "<title>49&#45;&gt;50</title>\n",
              "<path fill=\"none\" stroke=\"black\" d=\"M4463.12,-203.24C4456.07,-194.69 4448.48,-185.47 4441.16,-176.59\"/>\n",
              "<polygon fill=\"black\" stroke=\"black\" points=\"4443.98,-174.51 4434.92,-169.02 4438.58,-178.96 4443.98,-174.51\"/>\n",
              "</g>\n",
              "<!-- 53 -->\n",
              "<g id=\"node54\" class=\"node\">\n",
              "<title>53</title>\n",
              "<path fill=\"#ea9a61\" stroke=\"black\" d=\"M4648.25,-167.5C4648.25,-167.5 4513.75,-167.5 4513.75,-167.5 4507.75,-167.5 4501.75,-161.5 4501.75,-155.5 4501.75,-155.5 4501.75,-105.5 4501.75,-105.5 4501.75,-99.5 4507.75,-93.5 4513.75,-93.5 4513.75,-93.5 4648.25,-93.5 4648.25,-93.5 4654.25,-93.5 4660.25,-99.5 4660.25,-105.5 4660.25,-105.5 4660.25,-155.5 4660.25,-155.5 4660.25,-161.5 4654.25,-167.5 4648.25,-167.5\"/>\n",
              "<text text-anchor=\"middle\" x=\"4581\" y=\"-150.2\" font-family=\"Helvetica,sans-Serif\" font-size=\"14.00\">IDA_2022 &lt;= 7.697</text>\n",
              "<text text-anchor=\"middle\" x=\"4581\" y=\"-133.7\" font-family=\"Helvetica,sans-Serif\" font-size=\"14.00\">squared_error = 0.085</text>\n",
              "<text text-anchor=\"middle\" x=\"4581\" y=\"-117.2\" font-family=\"Helvetica,sans-Serif\" font-size=\"14.00\">samples = 50</text>\n",
              "<text text-anchor=\"middle\" x=\"4581\" y=\"-100.7\" font-family=\"Helvetica,sans-Serif\" font-size=\"14.00\">value = 7.819</text>\n",
              "</g>\n",
              "<!-- 49&#45;&gt;53 -->\n",
              "<g id=\"edge53\" class=\"edge\">\n",
              "<title>49&#45;&gt;53</title>\n",
              "<path fill=\"none\" stroke=\"black\" d=\"M4522.55,-203.24C4529.51,-194.69 4537.02,-185.47 4544.26,-176.59\"/>\n",
              "<polygon fill=\"black\" stroke=\"black\" points=\"4546.82,-178.99 4550.42,-169.02 4541.39,-174.57 4546.82,-178.99\"/>\n",
              "</g>\n",
              "<!-- 51 -->\n",
              "<g id=\"node52\" class=\"node\">\n",
              "<title>51</title>\n",
              "<path fill=\"#eeac7d\" stroke=\"black\" d=\"M4295.12,-57.5C4295.12,-57.5 4168.88,-57.5 4168.88,-57.5 4162.88,-57.5 4156.88,-51.5 4156.88,-45.5 4156.88,-45.5 4156.88,-12 4156.88,-12 4156.88,-6 4162.88,0 4168.88,0 4168.88,0 4295.12,0 4295.12,0 4301.12,0 4307.12,-6 4307.12,-12 4307.12,-12 4307.12,-45.5 4307.12,-45.5 4307.12,-51.5 4301.12,-57.5 4295.12,-57.5\"/>\n",
              "<text text-anchor=\"middle\" x=\"4232\" y=\"-40.2\" font-family=\"Helvetica,sans-Serif\" font-size=\"14.00\">squared_error = 0.05</text>\n",
              "<text text-anchor=\"middle\" x=\"4232\" y=\"-23.7\" font-family=\"Helvetica,sans-Serif\" font-size=\"14.00\">samples = 34</text>\n",
              "<text text-anchor=\"middle\" x=\"4232\" y=\"-7.2\" font-family=\"Helvetica,sans-Serif\" font-size=\"14.00\">value = 7.079</text>\n",
              "</g>\n",
              "<!-- 50&#45;&gt;51 -->\n",
              "<g id=\"edge51\" class=\"edge\">\n",
              "<title>50&#45;&gt;51</title>\n",
              "<path fill=\"none\" stroke=\"black\" d=\"M4341.42,-93.21C4324.64,-83.47 4306.57,-72.99 4290.04,-63.41\"/>\n",
              "<polygon fill=\"black\" stroke=\"black\" points=\"4292.23,-60.63 4281.82,-58.64 4288.72,-66.69 4292.23,-60.63\"/>\n",
              "</g>\n",
              "<!-- 52 -->\n",
              "<g id=\"node53\" class=\"node\">\n",
              "<title>52</title>\n",
              "<path fill=\"#eca26d\" stroke=\"black\" d=\"M4471.25,-57.5C4471.25,-57.5 4336.75,-57.5 4336.75,-57.5 4330.75,-57.5 4324.75,-51.5 4324.75,-45.5 4324.75,-45.5 4324.75,-12 4324.75,-12 4324.75,-6 4330.75,0 4336.75,0 4336.75,0 4471.25,0 4471.25,0 4477.25,0 4483.25,-6 4483.25,-12 4483.25,-12 4483.25,-45.5 4483.25,-45.5 4483.25,-51.5 4477.25,-57.5 4471.25,-57.5\"/>\n",
              "<text text-anchor=\"middle\" x=\"4404\" y=\"-40.2\" font-family=\"Helvetica,sans-Serif\" font-size=\"14.00\">squared_error = 0.062</text>\n",
              "<text text-anchor=\"middle\" x=\"4404\" y=\"-23.7\" font-family=\"Helvetica,sans-Serif\" font-size=\"14.00\">samples = 59</text>\n",
              "<text text-anchor=\"middle\" x=\"4404\" y=\"-7.2\" font-family=\"Helvetica,sans-Serif\" font-size=\"14.00\">value = 7.498</text>\n",
              "</g>\n",
              "<!-- 50&#45;&gt;52 -->\n",
              "<g id=\"edge52\" class=\"edge\">\n",
              "<title>50&#45;&gt;52</title>\n",
              "<path fill=\"none\" stroke=\"black\" d=\"M4404,-93.21C4404,-85.35 4404,-77 4404,-69.03\"/>\n",
              "<polygon fill=\"black\" stroke=\"black\" points=\"4407.5,-69.24 4404,-59.24 4400.5,-69.24 4407.5,-69.24\"/>\n",
              "</g>\n",
              "<!-- 54 -->\n",
              "<g id=\"node55\" class=\"node\">\n",
              "<title>54</title>\n",
              "<path fill=\"#eb9d64\" stroke=\"black\" d=\"M4648.25,-57.5C4648.25,-57.5 4513.75,-57.5 4513.75,-57.5 4507.75,-57.5 4501.75,-51.5 4501.75,-45.5 4501.75,-45.5 4501.75,-12 4501.75,-12 4501.75,-6 4507.75,0 4513.75,0 4513.75,0 4648.25,0 4648.25,0 4654.25,0 4660.25,-6 4660.25,-12 4660.25,-12 4660.25,-45.5 4660.25,-45.5 4660.25,-51.5 4654.25,-57.5 4648.25,-57.5\"/>\n",
              "<text text-anchor=\"middle\" x=\"4581\" y=\"-40.2\" font-family=\"Helvetica,sans-Serif\" font-size=\"14.00\">squared_error = 0.068</text>\n",
              "<text text-anchor=\"middle\" x=\"4581\" y=\"-23.7\" font-family=\"Helvetica,sans-Serif\" font-size=\"14.00\">samples = 35</text>\n",
              "<text text-anchor=\"middle\" x=\"4581\" y=\"-7.2\" font-family=\"Helvetica,sans-Serif\" font-size=\"14.00\">value = 7.721</text>\n",
              "</g>\n",
              "<!-- 53&#45;&gt;54 -->\n",
              "<g id=\"edge54\" class=\"edge\">\n",
              "<title>53&#45;&gt;54</title>\n",
              "<path fill=\"none\" stroke=\"black\" d=\"M4581,-93.21C4581,-85.35 4581,-77 4581,-69.03\"/>\n",
              "<polygon fill=\"black\" stroke=\"black\" points=\"4584.5,-69.24 4581,-59.24 4577.5,-69.24 4584.5,-69.24\"/>\n",
              "</g>\n",
              "<!-- 55 -->\n",
              "<g id=\"node56\" class=\"node\">\n",
              "<title>55</title>\n",
              "<path fill=\"#e99456\" stroke=\"black\" d=\"M4825.25,-57.5C4825.25,-57.5 4690.75,-57.5 4690.75,-57.5 4684.75,-57.5 4678.75,-51.5 4678.75,-45.5 4678.75,-45.5 4678.75,-12 4678.75,-12 4678.75,-6 4684.75,0 4690.75,0 4690.75,0 4825.25,0 4825.25,0 4831.25,0 4837.25,-6 4837.25,-12 4837.25,-12 4837.25,-45.5 4837.25,-45.5 4837.25,-51.5 4831.25,-57.5 4825.25,-57.5\"/>\n",
              "<text text-anchor=\"middle\" x=\"4758\" y=\"-40.2\" font-family=\"Helvetica,sans-Serif\" font-size=\"14.00\">squared_error = 0.029</text>\n",
              "<text text-anchor=\"middle\" x=\"4758\" y=\"-23.7\" font-family=\"Helvetica,sans-Serif\" font-size=\"14.00\">samples = 15</text>\n",
              "<text text-anchor=\"middle\" x=\"4758\" y=\"-7.2\" font-family=\"Helvetica,sans-Serif\" font-size=\"14.00\">value = 8.095</text>\n",
              "</g>\n",
              "<!-- 53&#45;&gt;55 -->\n",
              "<g id=\"edge55\" class=\"edge\">\n",
              "<title>53&#45;&gt;55</title>\n",
              "<path fill=\"none\" stroke=\"black\" d=\"M4645.65,-93.06C4662.82,-83.39 4681.29,-72.98 4698.19,-63.46\"/>\n",
              "<polygon fill=\"black\" stroke=\"black\" points=\"4699.62,-66.67 4706.62,-58.71 4696.19,-60.57 4699.62,-66.67\"/>\n",
              "</g>\n",
              "<!-- 57 -->\n",
              "<g id=\"node58\" class=\"node\">\n",
              "<title>57</title>\n",
              "<path fill=\"#eb9d65\" stroke=\"black\" d=\"M5086.12,-167.5C5086.12,-167.5 4959.88,-167.5 4959.88,-167.5 4953.88,-167.5 4947.88,-161.5 4947.88,-155.5 4947.88,-155.5 4947.88,-105.5 4947.88,-105.5 4947.88,-99.5 4953.88,-93.5 4959.88,-93.5 4959.88,-93.5 5086.12,-93.5 5086.12,-93.5 5092.12,-93.5 5098.12,-99.5 5098.12,-105.5 5098.12,-105.5 5098.12,-155.5 5098.12,-155.5 5098.12,-161.5 5092.12,-167.5 5086.12,-167.5\"/>\n",
              "<text text-anchor=\"middle\" x=\"5023\" y=\"-150.2\" font-family=\"Helvetica,sans-Serif\" font-size=\"14.00\">IPS_2022 &lt;= 5.312</text>\n",
              "<text text-anchor=\"middle\" x=\"5023\" y=\"-133.7\" font-family=\"Helvetica,sans-Serif\" font-size=\"14.00\">squared_error = 0.11</text>\n",
              "<text text-anchor=\"middle\" x=\"5023\" y=\"-117.2\" font-family=\"Helvetica,sans-Serif\" font-size=\"14.00\">samples = 25</text>\n",
              "<text text-anchor=\"middle\" x=\"5023\" y=\"-100.7\" font-family=\"Helvetica,sans-Serif\" font-size=\"14.00\">value = 7.702</text>\n",
              "</g>\n",
              "<!-- 56&#45;&gt;57 -->\n",
              "<g id=\"edge57\" class=\"edge\">\n",
              "<title>56&#45;&gt;57</title>\n",
              "<path fill=\"none\" stroke=\"black\" d=\"M5023,-203.24C5023,-195.49 5023,-187.2 5023,-179.1\"/>\n",
              "<polygon fill=\"black\" stroke=\"black\" points=\"5026.5,-179.36 5023,-169.36 5019.5,-179.36 5026.5,-179.36\"/>\n",
              "</g>\n",
              "<!-- 60 -->\n",
              "<g id=\"node61\" class=\"node\">\n",
              "<title>60</title>\n",
              "<path fill=\"#e89050\" stroke=\"black\" d=\"M5356.25,-167.5C5356.25,-167.5 5221.75,-167.5 5221.75,-167.5 5215.75,-167.5 5209.75,-161.5 5209.75,-155.5 5209.75,-155.5 5209.75,-105.5 5209.75,-105.5 5209.75,-99.5 5215.75,-93.5 5221.75,-93.5 5221.75,-93.5 5356.25,-93.5 5356.25,-93.5 5362.25,-93.5 5368.25,-99.5 5368.25,-105.5 5368.25,-105.5 5368.25,-155.5 5368.25,-155.5 5368.25,-161.5 5362.25,-167.5 5356.25,-167.5\"/>\n",
              "<text text-anchor=\"middle\" x=\"5289\" y=\"-150.2\" font-family=\"Helvetica,sans-Serif\" font-size=\"14.00\">IPP_2022 &lt;= 8.516</text>\n",
              "<text text-anchor=\"middle\" x=\"5289\" y=\"-133.7\" font-family=\"Helvetica,sans-Serif\" font-size=\"14.00\">squared_error = 0.136</text>\n",
              "<text text-anchor=\"middle\" x=\"5289\" y=\"-117.2\" font-family=\"Helvetica,sans-Serif\" font-size=\"14.00\">samples = 60</text>\n",
              "<text text-anchor=\"middle\" x=\"5289\" y=\"-100.7\" font-family=\"Helvetica,sans-Serif\" font-size=\"14.00\">value = 8.259</text>\n",
              "</g>\n",
              "<!-- 56&#45;&gt;60 -->\n",
              "<g id=\"edge60\" class=\"edge\">\n",
              "<title>56&#45;&gt;60</title>\n",
              "<path fill=\"none\" stroke=\"black\" d=\"M5102.45,-207.24C5132.84,-194.9 5167.72,-180.74 5199.03,-168.03\"/>\n",
              "<polygon fill=\"black\" stroke=\"black\" points=\"5200.15,-171.35 5208.1,-164.35 5197.52,-164.87 5200.15,-171.35\"/>\n",
              "</g>\n",
              "<!-- 58 -->\n",
              "<g id=\"node59\" class=\"node\">\n",
              "<title>58</title>\n",
              "<path fill=\"#eda978\" stroke=\"black\" d=\"M5002.25,-57.5C5002.25,-57.5 4867.75,-57.5 4867.75,-57.5 4861.75,-57.5 4855.75,-51.5 4855.75,-45.5 4855.75,-45.5 4855.75,-12 4855.75,-12 4855.75,-6 4861.75,0 4867.75,0 4867.75,0 5002.25,0 5002.25,0 5008.25,0 5014.25,-6 5014.25,-12 5014.25,-12 5014.25,-45.5 5014.25,-45.5 5014.25,-51.5 5008.25,-57.5 5002.25,-57.5\"/>\n",
              "<text text-anchor=\"middle\" x=\"4935\" y=\"-40.2\" font-family=\"Helvetica,sans-Serif\" font-size=\"14.00\">squared_error = 0.019</text>\n",
              "<text text-anchor=\"middle\" x=\"4935\" y=\"-23.7\" font-family=\"Helvetica,sans-Serif\" font-size=\"14.00\">samples = 3</text>\n",
              "<text text-anchor=\"middle\" x=\"4935\" y=\"-7.2\" font-family=\"Helvetica,sans-Serif\" font-size=\"14.00\">value = 7.2</text>\n",
              "</g>\n",
              "<!-- 57&#45;&gt;58 -->\n",
              "<g id=\"edge58\" class=\"edge\">\n",
              "<title>57&#45;&gt;58</title>\n",
              "<path fill=\"none\" stroke=\"black\" d=\"M4990.98,-93.21C4983.24,-84.43 4974.97,-75.05 4967.22,-66.27\"/>\n",
              "<polygon fill=\"black\" stroke=\"black\" points=\"4969.92,-64.05 4960.68,-58.86 4964.67,-68.68 4969.92,-64.05\"/>\n",
              "</g>\n",
              "<!-- 59 -->\n",
              "<g id=\"node60\" class=\"node\">\n",
              "<title>59</title>\n",
              "<path fill=\"#ea9c63\" stroke=\"black\" d=\"M5179.25,-57.5C5179.25,-57.5 5044.75,-57.5 5044.75,-57.5 5038.75,-57.5 5032.75,-51.5 5032.75,-45.5 5032.75,-45.5 5032.75,-12 5032.75,-12 5032.75,-6 5038.75,0 5044.75,0 5044.75,0 5179.25,0 5179.25,0 5185.25,0 5191.25,-6 5191.25,-12 5191.25,-12 5191.25,-45.5 5191.25,-45.5 5191.25,-51.5 5185.25,-57.5 5179.25,-57.5\"/>\n",
              "<text text-anchor=\"middle\" x=\"5112\" y=\"-40.2\" font-family=\"Helvetica,sans-Serif\" font-size=\"14.00\">squared_error = 0.085</text>\n",
              "<text text-anchor=\"middle\" x=\"5112\" y=\"-23.7\" font-family=\"Helvetica,sans-Serif\" font-size=\"14.00\">samples = 22</text>\n",
              "<text text-anchor=\"middle\" x=\"5112\" y=\"-7.2\" font-family=\"Helvetica,sans-Serif\" font-size=\"14.00\">value = 7.767</text>\n",
              "</g>\n",
              "<!-- 57&#45;&gt;59 -->\n",
              "<g id=\"edge59\" class=\"edge\">\n",
              "<title>57&#45;&gt;59</title>\n",
              "<path fill=\"none\" stroke=\"black\" d=\"M5055.38,-93.21C5063.21,-84.43 5071.58,-75.05 5079.42,-66.27\"/>\n",
              "<polygon fill=\"black\" stroke=\"black\" points=\"5081.98,-68.65 5086.03,-58.86 5076.76,-63.99 5081.98,-68.65\"/>\n",
              "</g>\n",
              "<!-- 61 -->\n",
              "<g id=\"node62\" class=\"node\">\n",
              "<title>61</title>\n",
              "<path fill=\"#e99254\" stroke=\"black\" d=\"M5356.25,-57.5C5356.25,-57.5 5221.75,-57.5 5221.75,-57.5 5215.75,-57.5 5209.75,-51.5 5209.75,-45.5 5209.75,-45.5 5209.75,-12 5209.75,-12 5209.75,-6 5215.75,0 5221.75,0 5221.75,0 5356.25,0 5356.25,0 5362.25,0 5368.25,-6 5368.25,-12 5368.25,-12 5368.25,-45.5 5368.25,-45.5 5368.25,-51.5 5362.25,-57.5 5356.25,-57.5\"/>\n",
              "<text text-anchor=\"middle\" x=\"5289\" y=\"-40.2\" font-family=\"Helvetica,sans-Serif\" font-size=\"14.00\">squared_error = 0.074</text>\n",
              "<text text-anchor=\"middle\" x=\"5289\" y=\"-23.7\" font-family=\"Helvetica,sans-Serif\" font-size=\"14.00\">samples = 51</text>\n",
              "<text text-anchor=\"middle\" x=\"5289\" y=\"-7.2\" font-family=\"Helvetica,sans-Serif\" font-size=\"14.00\">value = 8.158</text>\n",
              "</g>\n",
              "<!-- 60&#45;&gt;61 -->\n",
              "<g id=\"edge61\" class=\"edge\">\n",
              "<title>60&#45;&gt;61</title>\n",
              "<path fill=\"none\" stroke=\"black\" d=\"M5289,-93.21C5289,-85.35 5289,-77 5289,-69.03\"/>\n",
              "<polygon fill=\"black\" stroke=\"black\" points=\"5292.5,-69.24 5289,-59.24 5285.5,-69.24 5292.5,-69.24\"/>\n",
              "</g>\n",
              "<!-- 62 -->\n",
              "<g id=\"node63\" class=\"node\">\n",
              "<title>62</title>\n",
              "<path fill=\"#e58139\" stroke=\"black\" d=\"M5533.25,-57.5C5533.25,-57.5 5398.75,-57.5 5398.75,-57.5 5392.75,-57.5 5386.75,-51.5 5386.75,-45.5 5386.75,-45.5 5386.75,-12 5386.75,-12 5386.75,-6 5392.75,0 5398.75,0 5398.75,0 5533.25,0 5533.25,0 5539.25,0 5545.25,-6 5545.25,-12 5545.25,-12 5545.25,-45.5 5545.25,-45.5 5545.25,-51.5 5539.25,-57.5 5533.25,-57.5\"/>\n",
              "<text text-anchor=\"middle\" x=\"5466\" y=\"-40.2\" font-family=\"Helvetica,sans-Serif\" font-size=\"14.00\">squared_error = 0.085</text>\n",
              "<text text-anchor=\"middle\" x=\"5466\" y=\"-23.7\" font-family=\"Helvetica,sans-Serif\" font-size=\"14.00\">samples = 9</text>\n",
              "<text text-anchor=\"middle\" x=\"5466\" y=\"-7.2\" font-family=\"Helvetica,sans-Serif\" font-size=\"14.00\">value = 8.857</text>\n",
              "</g>\n",
              "<!-- 60&#45;&gt;62 -->\n",
              "<g id=\"edge62\" class=\"edge\">\n",
              "<title>60&#45;&gt;62</title>\n",
              "<path fill=\"none\" stroke=\"black\" d=\"M5353.65,-93.06C5370.82,-83.39 5389.29,-72.98 5406.19,-63.46\"/>\n",
              "<polygon fill=\"black\" stroke=\"black\" points=\"5407.62,-66.67 5414.62,-58.71 5404.19,-60.57 5407.62,-66.67\"/>\n",
              "</g>\n",
              "</g>\n",
              "</svg>\n"
            ],
            "text/plain": [
              "<graphviz.sources.Source at 0x23110f0e390>"
            ]
          },
          "execution_count": 22,
          "metadata": {},
          "output_type": "execute_result"
        }
      ],
      "source": [
        "from sklearn.tree import export_graphviz\n",
        "import graphviz\n",
        "\n",
        "# Get the first tree from the forest\n",
        "tree = regressor_rf.estimators_[0]\n",
        "\n",
        "# Export the tree to a file, use numeric_cols for feature names\n",
        "export_graphviz(tree, out_file='tree.dot',\n",
        "                feature_names=numeric_cols, # Pass the correct feature names\n",
        "                class_names=['0', '1'],\n",
        "                label='all', filled=True, rounded=True)\n",
        "\n",
        "# Load the graph from the file\n",
        "with open('tree.dot') as f:\n",
        "    dot_graph = f.read()\n",
        "\n",
        "# Create a graphviz object\n",
        "graphviz_object = graphviz.Source(dot_graph)\n",
        "\n",
        "# Display the graph\n",
        "graphviz_object"
      ]
    },
    {
      "cell_type": "code",
      "execution_count": 23,
      "metadata": {
        "colab": {
          "base_uri": "https://localhost:8080/"
        },
        "id": "g2YRe7VSQ7SY",
        "outputId": "c61e7d9e-4c24-4ff6-cfdd-8e1e27ee9593"
      },
      "outputs": [
        {
          "name": "stdout",
          "output_type": "stream",
          "text": [
            "Entrada inválida. Por favor, insira um número.\n",
            "Entrada inválida. Por favor, insira um número.\n",
            "Predicted INDE_2022: 6.448739021715308\n",
            "Classification: Agata\n"
          ]
        }
      ],
      "source": [
        "input_features = []\n",
        "\n",
        "for feature in numeric_cols:\n",
        "    while True:\n",
        "        try:\n",
        "            value_str = input(f'Digite um valor de 0 a 10 (use vírgula para decimais) para {feature}: ')\n",
        "            value = float(value_str.replace(',', '.'))\n",
        "            if 0 <= value <= 10:\n",
        "                input_features.append(value)\n",
        "                break\n",
        "            else:\n",
        "                print('O valor deve estar entre 0 e 10. Tente novamente.')\n",
        "        except ValueError:\n",
        "            print('Entrada inválida. Por favor, insira um número.')\n",
        "\n",
        "# Reshape the input features to match the model's expected input format\n",
        "input_features = np.array(input_features).reshape(1, -1)\n",
        "\n",
        "# Make a prediction using the trained model\n",
        "prediction = regressor_rf.predict(input_features)\n",
        "\n",
        "# Classify the prediction based on INDE_2022 ranges\n",
        "if 2.405 <= prediction[0] <= 5.506:\n",
        "  label = 'Quartzo'\n",
        "elif 5.506 < prediction[0] <= 6.868:\n",
        "  label = 'Agata'\n",
        "elif 6.868 < prediction[0] <= 8.230:\n",
        "  label = 'Ametista'\n",
        "elif 8.230 < prediction[0] <= 9.294:\n",
        "  label = 'Topazio'\n",
        "else:\n",
        "  label = 'Unknown'\n",
        "\n",
        "# Print the prediction and its label\n",
        "print('Predicted INDE_2022:', prediction[0].round(23))\n",
        "print('Classification:', label)"
      ]
    },
    {
      "cell_type": "markdown",
      "metadata": {
        "id": "ldNygfUe-Ju6"
      },
      "source": [
        "## 2- KNN Regressors"
      ]
    },
    {
      "cell_type": "code",
      "execution_count": 24,
      "metadata": {
        "id": "s6Ml089yVQSb"
      },
      "outputs": [],
      "source": [
        "from sklearn.neighbors import KNeighborsRegressor"
      ]
    },
    {
      "cell_type": "code",
      "execution_count": 25,
      "metadata": {
        "colab": {
          "base_uri": "https://localhost:8080/",
          "height": 75
        },
        "id": "-nqMwVPBVSsn",
        "outputId": "ac61bc2c-56c1-48ac-a127-a077ff11b759"
      },
      "outputs": [
        {
          "data": {
            "text/html": [
              "<style>#sk-container-id-1 {\n",
              "  /* Definition of color scheme common for light and dark mode */\n",
              "  --sklearn-color-text: black;\n",
              "  --sklearn-color-line: gray;\n",
              "  /* Definition of color scheme for unfitted estimators */\n",
              "  --sklearn-color-unfitted-level-0: #fff5e6;\n",
              "  --sklearn-color-unfitted-level-1: #f6e4d2;\n",
              "  --sklearn-color-unfitted-level-2: #ffe0b3;\n",
              "  --sklearn-color-unfitted-level-3: chocolate;\n",
              "  /* Definition of color scheme for fitted estimators */\n",
              "  --sklearn-color-fitted-level-0: #f0f8ff;\n",
              "  --sklearn-color-fitted-level-1: #d4ebff;\n",
              "  --sklearn-color-fitted-level-2: #b3dbfd;\n",
              "  --sklearn-color-fitted-level-3: cornflowerblue;\n",
              "\n",
              "  /* Specific color for light theme */\n",
              "  --sklearn-color-text-on-default-background: var(--sg-text-color, var(--theme-code-foreground, var(--jp-content-font-color1, black)));\n",
              "  --sklearn-color-background: var(--sg-background-color, var(--theme-background, var(--jp-layout-color0, white)));\n",
              "  --sklearn-color-border-box: var(--sg-text-color, var(--theme-code-foreground, var(--jp-content-font-color1, black)));\n",
              "  --sklearn-color-icon: #696969;\n",
              "\n",
              "  @media (prefers-color-scheme: dark) {\n",
              "    /* Redefinition of color scheme for dark theme */\n",
              "    --sklearn-color-text-on-default-background: var(--sg-text-color, var(--theme-code-foreground, var(--jp-content-font-color1, white)));\n",
              "    --sklearn-color-background: var(--sg-background-color, var(--theme-background, var(--jp-layout-color0, #111)));\n",
              "    --sklearn-color-border-box: var(--sg-text-color, var(--theme-code-foreground, var(--jp-content-font-color1, white)));\n",
              "    --sklearn-color-icon: #878787;\n",
              "  }\n",
              "}\n",
              "\n",
              "#sk-container-id-1 {\n",
              "  color: var(--sklearn-color-text);\n",
              "}\n",
              "\n",
              "#sk-container-id-1 pre {\n",
              "  padding: 0;\n",
              "}\n",
              "\n",
              "#sk-container-id-1 input.sk-hidden--visually {\n",
              "  border: 0;\n",
              "  clip: rect(1px 1px 1px 1px);\n",
              "  clip: rect(1px, 1px, 1px, 1px);\n",
              "  height: 1px;\n",
              "  margin: -1px;\n",
              "  overflow: hidden;\n",
              "  padding: 0;\n",
              "  position: absolute;\n",
              "  width: 1px;\n",
              "}\n",
              "\n",
              "#sk-container-id-1 div.sk-dashed-wrapped {\n",
              "  border: 1px dashed var(--sklearn-color-line);\n",
              "  margin: 0 0.4em 0.5em 0.4em;\n",
              "  box-sizing: border-box;\n",
              "  padding-bottom: 0.4em;\n",
              "  background-color: var(--sklearn-color-background);\n",
              "}\n",
              "\n",
              "#sk-container-id-1 div.sk-container {\n",
              "  /* jupyter's `normalize.less` sets `[hidden] { display: none; }`\n",
              "     but bootstrap.min.css set `[hidden] { display: none !important; }`\n",
              "     so we also need the `!important` here to be able to override the\n",
              "     default hidden behavior on the sphinx rendered scikit-learn.org.\n",
              "     See: https://github.com/scikit-learn/scikit-learn/issues/21755 */\n",
              "  display: inline-block !important;\n",
              "  position: relative;\n",
              "}\n",
              "\n",
              "#sk-container-id-1 div.sk-text-repr-fallback {\n",
              "  display: none;\n",
              "}\n",
              "\n",
              "div.sk-parallel-item,\n",
              "div.sk-serial,\n",
              "div.sk-item {\n",
              "  /* draw centered vertical line to link estimators */\n",
              "  background-image: linear-gradient(var(--sklearn-color-text-on-default-background), var(--sklearn-color-text-on-default-background));\n",
              "  background-size: 2px 100%;\n",
              "  background-repeat: no-repeat;\n",
              "  background-position: center center;\n",
              "}\n",
              "\n",
              "/* Parallel-specific style estimator block */\n",
              "\n",
              "#sk-container-id-1 div.sk-parallel-item::after {\n",
              "  content: \"\";\n",
              "  width: 100%;\n",
              "  border-bottom: 2px solid var(--sklearn-color-text-on-default-background);\n",
              "  flex-grow: 1;\n",
              "}\n",
              "\n",
              "#sk-container-id-1 div.sk-parallel {\n",
              "  display: flex;\n",
              "  align-items: stretch;\n",
              "  justify-content: center;\n",
              "  background-color: var(--sklearn-color-background);\n",
              "  position: relative;\n",
              "}\n",
              "\n",
              "#sk-container-id-1 div.sk-parallel-item {\n",
              "  display: flex;\n",
              "  flex-direction: column;\n",
              "}\n",
              "\n",
              "#sk-container-id-1 div.sk-parallel-item:first-child::after {\n",
              "  align-self: flex-end;\n",
              "  width: 50%;\n",
              "}\n",
              "\n",
              "#sk-container-id-1 div.sk-parallel-item:last-child::after {\n",
              "  align-self: flex-start;\n",
              "  width: 50%;\n",
              "}\n",
              "\n",
              "#sk-container-id-1 div.sk-parallel-item:only-child::after {\n",
              "  width: 0;\n",
              "}\n",
              "\n",
              "/* Serial-specific style estimator block */\n",
              "\n",
              "#sk-container-id-1 div.sk-serial {\n",
              "  display: flex;\n",
              "  flex-direction: column;\n",
              "  align-items: center;\n",
              "  background-color: var(--sklearn-color-background);\n",
              "  padding-right: 1em;\n",
              "  padding-left: 1em;\n",
              "}\n",
              "\n",
              "\n",
              "/* Toggleable style: style used for estimator/Pipeline/ColumnTransformer box that is\n",
              "clickable and can be expanded/collapsed.\n",
              "- Pipeline and ColumnTransformer use this feature and define the default style\n",
              "- Estimators will overwrite some part of the style using the `sk-estimator` class\n",
              "*/\n",
              "\n",
              "/* Pipeline and ColumnTransformer style (default) */\n",
              "\n",
              "#sk-container-id-1 div.sk-toggleable {\n",
              "  /* Default theme specific background. It is overwritten whether we have a\n",
              "  specific estimator or a Pipeline/ColumnTransformer */\n",
              "  background-color: var(--sklearn-color-background);\n",
              "}\n",
              "\n",
              "/* Toggleable label */\n",
              "#sk-container-id-1 label.sk-toggleable__label {\n",
              "  cursor: pointer;\n",
              "  display: block;\n",
              "  width: 100%;\n",
              "  margin-bottom: 0;\n",
              "  padding: 0.5em;\n",
              "  box-sizing: border-box;\n",
              "  text-align: center;\n",
              "}\n",
              "\n",
              "#sk-container-id-1 label.sk-toggleable__label-arrow:before {\n",
              "  /* Arrow on the left of the label */\n",
              "  content: \"▸\";\n",
              "  float: left;\n",
              "  margin-right: 0.25em;\n",
              "  color: var(--sklearn-color-icon);\n",
              "}\n",
              "\n",
              "#sk-container-id-1 label.sk-toggleable__label-arrow:hover:before {\n",
              "  color: var(--sklearn-color-text);\n",
              "}\n",
              "\n",
              "/* Toggleable content - dropdown */\n",
              "\n",
              "#sk-container-id-1 div.sk-toggleable__content {\n",
              "  max-height: 0;\n",
              "  max-width: 0;\n",
              "  overflow: hidden;\n",
              "  text-align: left;\n",
              "  /* unfitted */\n",
              "  background-color: var(--sklearn-color-unfitted-level-0);\n",
              "}\n",
              "\n",
              "#sk-container-id-1 div.sk-toggleable__content.fitted {\n",
              "  /* fitted */\n",
              "  background-color: var(--sklearn-color-fitted-level-0);\n",
              "}\n",
              "\n",
              "#sk-container-id-1 div.sk-toggleable__content pre {\n",
              "  margin: 0.2em;\n",
              "  border-radius: 0.25em;\n",
              "  color: var(--sklearn-color-text);\n",
              "  /* unfitted */\n",
              "  background-color: var(--sklearn-color-unfitted-level-0);\n",
              "}\n",
              "\n",
              "#sk-container-id-1 div.sk-toggleable__content.fitted pre {\n",
              "  /* unfitted */\n",
              "  background-color: var(--sklearn-color-fitted-level-0);\n",
              "}\n",
              "\n",
              "#sk-container-id-1 input.sk-toggleable__control:checked~div.sk-toggleable__content {\n",
              "  /* Expand drop-down */\n",
              "  max-height: 200px;\n",
              "  max-width: 100%;\n",
              "  overflow: auto;\n",
              "}\n",
              "\n",
              "#sk-container-id-1 input.sk-toggleable__control:checked~label.sk-toggleable__label-arrow:before {\n",
              "  content: \"▾\";\n",
              "}\n",
              "\n",
              "/* Pipeline/ColumnTransformer-specific style */\n",
              "\n",
              "#sk-container-id-1 div.sk-label input.sk-toggleable__control:checked~label.sk-toggleable__label {\n",
              "  color: var(--sklearn-color-text);\n",
              "  background-color: var(--sklearn-color-unfitted-level-2);\n",
              "}\n",
              "\n",
              "#sk-container-id-1 div.sk-label.fitted input.sk-toggleable__control:checked~label.sk-toggleable__label {\n",
              "  background-color: var(--sklearn-color-fitted-level-2);\n",
              "}\n",
              "\n",
              "/* Estimator-specific style */\n",
              "\n",
              "/* Colorize estimator box */\n",
              "#sk-container-id-1 div.sk-estimator input.sk-toggleable__control:checked~label.sk-toggleable__label {\n",
              "  /* unfitted */\n",
              "  background-color: var(--sklearn-color-unfitted-level-2);\n",
              "}\n",
              "\n",
              "#sk-container-id-1 div.sk-estimator.fitted input.sk-toggleable__control:checked~label.sk-toggleable__label {\n",
              "  /* fitted */\n",
              "  background-color: var(--sklearn-color-fitted-level-2);\n",
              "}\n",
              "\n",
              "#sk-container-id-1 div.sk-label label.sk-toggleable__label,\n",
              "#sk-container-id-1 div.sk-label label {\n",
              "  /* The background is the default theme color */\n",
              "  color: var(--sklearn-color-text-on-default-background);\n",
              "}\n",
              "\n",
              "/* On hover, darken the color of the background */\n",
              "#sk-container-id-1 div.sk-label:hover label.sk-toggleable__label {\n",
              "  color: var(--sklearn-color-text);\n",
              "  background-color: var(--sklearn-color-unfitted-level-2);\n",
              "}\n",
              "\n",
              "/* Label box, darken color on hover, fitted */\n",
              "#sk-container-id-1 div.sk-label.fitted:hover label.sk-toggleable__label.fitted {\n",
              "  color: var(--sklearn-color-text);\n",
              "  background-color: var(--sklearn-color-fitted-level-2);\n",
              "}\n",
              "\n",
              "/* Estimator label */\n",
              "\n",
              "#sk-container-id-1 div.sk-label label {\n",
              "  font-family: monospace;\n",
              "  font-weight: bold;\n",
              "  display: inline-block;\n",
              "  line-height: 1.2em;\n",
              "}\n",
              "\n",
              "#sk-container-id-1 div.sk-label-container {\n",
              "  text-align: center;\n",
              "}\n",
              "\n",
              "/* Estimator-specific */\n",
              "#sk-container-id-1 div.sk-estimator {\n",
              "  font-family: monospace;\n",
              "  border: 1px dotted var(--sklearn-color-border-box);\n",
              "  border-radius: 0.25em;\n",
              "  box-sizing: border-box;\n",
              "  margin-bottom: 0.5em;\n",
              "  /* unfitted */\n",
              "  background-color: var(--sklearn-color-unfitted-level-0);\n",
              "}\n",
              "\n",
              "#sk-container-id-1 div.sk-estimator.fitted {\n",
              "  /* fitted */\n",
              "  background-color: var(--sklearn-color-fitted-level-0);\n",
              "}\n",
              "\n",
              "/* on hover */\n",
              "#sk-container-id-1 div.sk-estimator:hover {\n",
              "  /* unfitted */\n",
              "  background-color: var(--sklearn-color-unfitted-level-2);\n",
              "}\n",
              "\n",
              "#sk-container-id-1 div.sk-estimator.fitted:hover {\n",
              "  /* fitted */\n",
              "  background-color: var(--sklearn-color-fitted-level-2);\n",
              "}\n",
              "\n",
              "/* Specification for estimator info (e.g. \"i\" and \"?\") */\n",
              "\n",
              "/* Common style for \"i\" and \"?\" */\n",
              "\n",
              ".sk-estimator-doc-link,\n",
              "a:link.sk-estimator-doc-link,\n",
              "a:visited.sk-estimator-doc-link {\n",
              "  float: right;\n",
              "  font-size: smaller;\n",
              "  line-height: 1em;\n",
              "  font-family: monospace;\n",
              "  background-color: var(--sklearn-color-background);\n",
              "  border-radius: 1em;\n",
              "  height: 1em;\n",
              "  width: 1em;\n",
              "  text-decoration: none !important;\n",
              "  margin-left: 1ex;\n",
              "  /* unfitted */\n",
              "  border: var(--sklearn-color-unfitted-level-1) 1pt solid;\n",
              "  color: var(--sklearn-color-unfitted-level-1);\n",
              "}\n",
              "\n",
              ".sk-estimator-doc-link.fitted,\n",
              "a:link.sk-estimator-doc-link.fitted,\n",
              "a:visited.sk-estimator-doc-link.fitted {\n",
              "  /* fitted */\n",
              "  border: var(--sklearn-color-fitted-level-1) 1pt solid;\n",
              "  color: var(--sklearn-color-fitted-level-1);\n",
              "}\n",
              "\n",
              "/* On hover */\n",
              "div.sk-estimator:hover .sk-estimator-doc-link:hover,\n",
              ".sk-estimator-doc-link:hover,\n",
              "div.sk-label-container:hover .sk-estimator-doc-link:hover,\n",
              ".sk-estimator-doc-link:hover {\n",
              "  /* unfitted */\n",
              "  background-color: var(--sklearn-color-unfitted-level-3);\n",
              "  color: var(--sklearn-color-background);\n",
              "  text-decoration: none;\n",
              "}\n",
              "\n",
              "div.sk-estimator.fitted:hover .sk-estimator-doc-link.fitted:hover,\n",
              ".sk-estimator-doc-link.fitted:hover,\n",
              "div.sk-label-container:hover .sk-estimator-doc-link.fitted:hover,\n",
              ".sk-estimator-doc-link.fitted:hover {\n",
              "  /* fitted */\n",
              "  background-color: var(--sklearn-color-fitted-level-3);\n",
              "  color: var(--sklearn-color-background);\n",
              "  text-decoration: none;\n",
              "}\n",
              "\n",
              "/* Span, style for the box shown on hovering the info icon */\n",
              ".sk-estimator-doc-link span {\n",
              "  display: none;\n",
              "  z-index: 9999;\n",
              "  position: relative;\n",
              "  font-weight: normal;\n",
              "  right: .2ex;\n",
              "  padding: .5ex;\n",
              "  margin: .5ex;\n",
              "  width: min-content;\n",
              "  min-width: 20ex;\n",
              "  max-width: 50ex;\n",
              "  color: var(--sklearn-color-text);\n",
              "  box-shadow: 2pt 2pt 4pt #999;\n",
              "  /* unfitted */\n",
              "  background: var(--sklearn-color-unfitted-level-0);\n",
              "  border: .5pt solid var(--sklearn-color-unfitted-level-3);\n",
              "}\n",
              "\n",
              ".sk-estimator-doc-link.fitted span {\n",
              "  /* fitted */\n",
              "  background: var(--sklearn-color-fitted-level-0);\n",
              "  border: var(--sklearn-color-fitted-level-3);\n",
              "}\n",
              "\n",
              ".sk-estimator-doc-link:hover span {\n",
              "  display: block;\n",
              "}\n",
              "\n",
              "/* \"?\"-specific style due to the `<a>` HTML tag */\n",
              "\n",
              "#sk-container-id-1 a.estimator_doc_link {\n",
              "  float: right;\n",
              "  font-size: 1rem;\n",
              "  line-height: 1em;\n",
              "  font-family: monospace;\n",
              "  background-color: var(--sklearn-color-background);\n",
              "  border-radius: 1rem;\n",
              "  height: 1rem;\n",
              "  width: 1rem;\n",
              "  text-decoration: none;\n",
              "  /* unfitted */\n",
              "  color: var(--sklearn-color-unfitted-level-1);\n",
              "  border: var(--sklearn-color-unfitted-level-1) 1pt solid;\n",
              "}\n",
              "\n",
              "#sk-container-id-1 a.estimator_doc_link.fitted {\n",
              "  /* fitted */\n",
              "  border: var(--sklearn-color-fitted-level-1) 1pt solid;\n",
              "  color: var(--sklearn-color-fitted-level-1);\n",
              "}\n",
              "\n",
              "/* On hover */\n",
              "#sk-container-id-1 a.estimator_doc_link:hover {\n",
              "  /* unfitted */\n",
              "  background-color: var(--sklearn-color-unfitted-level-3);\n",
              "  color: var(--sklearn-color-background);\n",
              "  text-decoration: none;\n",
              "}\n",
              "\n",
              "#sk-container-id-1 a.estimator_doc_link.fitted:hover {\n",
              "  /* fitted */\n",
              "  background-color: var(--sklearn-color-fitted-level-3);\n",
              "}\n",
              "</style><div id=\"sk-container-id-1\" class=\"sk-top-container\"><div class=\"sk-text-repr-fallback\"><pre>KNeighborsRegressor()</pre><b>In a Jupyter environment, please rerun this cell to show the HTML representation or trust the notebook. <br />On GitHub, the HTML representation is unable to render, please try loading this page with nbviewer.org.</b></div><div class=\"sk-container\" hidden><div class=\"sk-item\"><div class=\"sk-estimator fitted sk-toggleable\"><input class=\"sk-toggleable__control sk-hidden--visually\" id=\"sk-estimator-id-1\" type=\"checkbox\" checked><label for=\"sk-estimator-id-1\" class=\"sk-toggleable__label fitted sk-toggleable__label-arrow fitted\">&nbsp;&nbsp;KNeighborsRegressor<a class=\"sk-estimator-doc-link fitted\" rel=\"noreferrer\" target=\"_blank\" href=\"https://scikit-learn.org/1.5/modules/generated/sklearn.neighbors.KNeighborsRegressor.html\">?<span>Documentation for KNeighborsRegressor</span></a><span class=\"sk-estimator-doc-link fitted\">i<span>Fitted</span></span></label><div class=\"sk-toggleable__content fitted\"><pre>KNeighborsRegressor()</pre></div> </div></div></div></div>"
            ],
            "text/plain": [
              "KNeighborsRegressor()"
            ]
          },
          "execution_count": 25,
          "metadata": {},
          "output_type": "execute_result"
        }
      ],
      "source": [
        "model_knn = KNeighborsRegressor(n_neighbors=5)\n",
        "model_knn.fit(X_train_imputed, y_train)"
      ]
    },
    {
      "cell_type": "code",
      "execution_count": 26,
      "metadata": {
        "id": "rtFNwWApVX8U"
      },
      "outputs": [],
      "source": [
        "predict_knn = model_knn.predict(X_test_imputed)"
      ]
    },
    {
      "cell_type": "code",
      "execution_count": 27,
      "metadata": {
        "colab": {
          "base_uri": "https://localhost:8080/"
        },
        "id": "bfNY2UGbViKF",
        "outputId": "b43d50e2-5288-4be9-b867-f2de3a12b333"
      },
      "outputs": [
        {
          "name": "stdout",
          "output_type": "stream",
          "text": [
            "Mean Squared Error: 0.0380001499071727\n"
          ]
        }
      ],
      "source": [
        "print('Mean Squared Error:', mean_squared_error(y_test, predict_knn))"
      ]
    },
    {
      "cell_type": "code",
      "execution_count": 28,
      "metadata": {
        "colab": {
          "base_uri": "https://localhost:8080/",
          "height": 564
        },
        "id": "ftzS8N-TV_Zu",
        "outputId": "781a8af2-3b8a-41cc-ad71-f3a0c3c12015"
      },
      "outputs": [
        {
          "data": {
            "image/png": "[encoded data removed]",
            "text/plain": [
              "<Figure size 1000x600 with 1 Axes>"
            ]
          },
          "metadata": {},
          "output_type": "display_data"
        }
      ],
      "source": [
        "# prompt: crie um grafico do knn acima\n",
        "\n",
        "import matplotlib.pyplot as plt\n",
        "# Assuming 'y_test' and 'predict_knn' are available from the preceding code\n",
        "\n",
        "# Create a scatter plot to compare actual vs predicted values\n",
        "plt.figure(figsize=(10, 6))\n",
        "plt.scatter(y_test, predict_knn, alpha=0.5)\n",
        "plt.xlabel('Actual INDE_2022')\n",
        "plt.ylabel('Predicted INDE_2022')\n",
        "plt.title('Actual vs Predicted INDE_2022 (KNN)')\n",
        "\n",
        "# Add a diagonal line for reference (perfect predictions)\n",
        "plt.plot([min(y_test), max(y_test)], [min(y_test), max(y_test)], color='red', linestyle='--')\n",
        "\n",
        "plt.grid(True)\n",
        "plt.show()\n"
      ]
    },
    {
      "cell_type": "code",
      "execution_count": 29,
      "metadata": {},
      "outputs": [
        {
          "data": {
            "text/plain": [
              "['model/knn_model_inde.pkl']"
            ]
          },
          "execution_count": 29,
          "metadata": {},
          "output_type": "execute_result"
        }
      ],
      "source": [
        "joblib.dump(model_knn, 'model/knn_model_inde.pkl')"
      ]
    },
    {
      "cell_type": "code",
      "execution_count": 30,
      "metadata": {},
      "outputs": [
        {
          "data": {
            "application/vnd.plotly.v1+json": {
              "config": {
                "plotlyServerURL": "https://plot.ly"
              },
              "data": [
                {
                  "marker": {
                    "color": "blue",
                    "opacity": 0.5,
                    "size": 8
                  },
                  "mode": "markers",
                  "name": "Previsto",
                  "text": "Ponto de dados",
                  "type": "scatter",
                  "x": [
                    7.117065047619048,
                    7.406743477025898,
                    5.652385860342557,
                    8.098496318150449,
                    4.935556331573656,
                    8.083535682039548,
                    6.695387571428572,
                    3.914881285714285,
                    4.966393630641453,
                    6.953190321839081,
                    6.683821329434698,
                    7.728843833635814,
                    7.901663220043574,
                    7.502401434343434,
                    5.195056982905983,
                    7.232068817813765,
                    7.105690655172413,
                    8.230908478550688,
                    7.216575886639676,
                    7.00427655844156,
                    7.292060604010025,
                    6.952048450292399,
                    6.330913823620824,
                    7.946686340802987,
                    8.225582168498168,
                    4.934497092833093,
                    7.535259906926407,
                    7.205336595776773,
                    6.722024920634921,
                    6.745479946323136,
                    6.438413142857143,
                    4.571673982861744,
                    6.622459534891997,
                    6.454070897064289,
                    8.143474555555557,
                    5.246467903133903,
                    8.011927248035915,
                    8.397956545454546,
                    7.424538592592594,
                    7.979045229610685,
                    7.189287269841271,
                    8.188103917267917,
                    7.873412973084886,
                    8.196890131054133,
                    7.479539037037037,
                    6.322731276895944,
                    8.15362222793149,
                    8.538335,
                    8.480834141954665,
                    6.312788373897707,
                    5.951307967320262,
                    5.557388706349206,
                    6.487826797385621,
                    5.159305551302499,
                    6.445768751322752,
                    6.825507272727274,
                    6.315265946455505,
                    6.706677413255361,
                    5.580600676434676,
                    7.700002222222222,
                    7.694600987654322,
                    4.265426587301587,
                    8.467711333333334,
                    4.498817405961047,
                    7.771092108287961,
                    6.950124578570855,
                    8.261113555555557,
                    7.756396186948853,
                    6.64462715942029,
                    7.507147550527904,
                    7.590874571428571,
                    7.303474222222222,
                    7.736100484848485,
                    6.741243719576721,
                    5.561111555555557,
                    6.576346820512821,
                    5.426853851851853,
                    6.664746446689114,
                    7.448464223100571,
                    6.860192771302772,
                    6.946674134932534,
                    5.233398856960409,
                    5.98893754803676,
                    6.549254285714286,
                    7.434636280701754,
                    7.624482920314255,
                    7.244678043887148,
                    6.820451258609487,
                    7.378176603174603,
                    7.006941758454106,
                    7.973381651316815,
                    7.590972222222223,
                    7.468215478632479,
                    7.058532857142858,
                    7.234398335932424,
                    6.62116201282668,
                    7.225595238095238,
                    6.535165330634278,
                    6.670710665501166,
                    6.047779596553774,
                    6.490193683211425,
                    8.286620610229278,
                    6.613163153439154,
                    5.930081395598497,
                    7.675403049175225,
                    5.914900545454545,
                    8.135882296296298,
                    7.928601818181819,
                    7.729168333333334,
                    7.569368138401559,
                    8.427782,
                    5.526750312169312,
                    8.057199636363638,
                    7.576531180695848,
                    7.791668,
                    5.537423023965141,
                    8.018089853232116,
                    8.086112,
                    5.852779111111111,
                    6.067222501942502,
                    7.517770718098665,
                    6.654070674842067,
                    5.148616912114456,
                    6.925909119658121,
                    7.35895350617284,
                    8.093255968253969,
                    7.741976308641975,
                    7.562874816059757,
                    8.184503595776773,
                    7.050000666666667,
                    7.95721614036921,
                    6.874622323232323,
                    8.243991565656566,
                    7.785693147804151,
                    7.763511656565657,
                    7.208765730639731,
                    7.510987800569801,
                    6.864088634920636,
                    6.511662330532213,
                    5.411575629629629,
                    6.962017015219663,
                    6.464252763285025,
                    6.157779444444444,
                    6.605761359666916,
                    7.1010415,
                    8.063890666666667,
                    7.484593745480259,
                    8.71196797863248,
                    7.498492675990676,
                    6.306945444444445,
                    4.786323286324786,
                    7.628620754385966,
                    8.28325764036921,
                    6.921727523809524,
                    7.875768381520724,
                    6.775990920062696,
                    8.63847438888889,
                    8.523222128427129,
                    6.725002000000001,
                    8.645932539215686,
                    7.645834666666667,
                    7.750398603174604,
                    8.072224444444444,
                    7.3354175,
                    3.031806222222222,
                    8.253049807035875,
                    6.957373794871796,
                    7.740741074074075,
                    6.860163919191919,
                    4.989017484848485,
                    7.075193052489235,
                    8.135537771280053
                  ],
                  "y": [
                    6.893078637593968,
                    7.395596106263244,
                    5.886737183518141,
                    8.181347840194267,
                    5.285629370625104,
                    8.242441025721131,
                    6.748902398693493,
                    4.3331926342755285,
                    5.166948035857299,
                    6.983113808645896,
                    6.658976052912091,
                    7.703458316261516,
                    7.715499112712398,
                    7.476593861828368,
                    5.448599232114944,
                    7.256875565291284,
                    7.041269401383306,
                    8.335554924832127,
                    7.249850063207626,
                    7.080874730837584,
                    7.3867028336453675,
                    6.937114724145744,
                    6.475634278344096,
                    7.746567732114246,
                    8.21231034939098,
                    5.184847361572613,
                    7.4330234387433975,
                    7.184361651157992,
                    6.706302150332105,
                    6.577631638653623,
                    6.4257575549379355,
                    4.981861099258332,
                    6.49943881420334,
                    6.676176432188773,
                    8.089254990115844,
                    5.704337235975136,
                    8.076715839922933,
                    8.37985952250139,
                    7.4763509061935896,
                    7.9152838142872755,
                    7.296743920697949,
                    8.150665745033933,
                    7.911953914302446,
                    8.28601223207034,
                    7.683468281564188,
                    6.595436529965681,
                    8.132721298434799,
                    8.493086936418923,
                    8.468057240250893,
                    6.634809977241278,
                    6.720970422839422,
                    5.7345297407384885,
                    6.57490079182903,
                    5.6049429043931145,
                    6.442952434439673,
                    6.7615228786251915,
                    6.397227074284652,
                    6.643355029198963,
                    5.906280254286043,
                    7.714059945961519,
                    7.694727253131989,
                    4.358247301755942,
                    8.160964598266553,
                    4.881905334158725,
                    7.7202543453548405,
                    6.764371126912772,
                    8.174101567108252,
                    7.719504090021722,
                    6.694709686148104,
                    7.545546623219705,
                    7.477329614202174,
                    7.264564377057748,
                    7.8818611146927156,
                    6.776087513339995,
                    6.059439208792094,
                    6.647357683856884,
                    5.880107143739691,
                    7.040235321484689,
                    7.3026264437446375,
                    6.832134869072689,
                    6.467543699344257,
                    5.403823579556718,
                    6.021013797841611,
                    6.6868900078876505,
                    7.422660021886541,
                    7.548734077263413,
                    7.222819393565156,
                    7.025445837186996,
                    7.298578232535259,
                    7.151316299534189,
                    7.817362916514415,
                    7.640692147595379,
                    7.522008489738299,
                    7.227152914598645,
                    7.119722014071376,
                    6.74474626191793,
                    7.4392288711720385,
                    6.648335263858736,
                    6.658395095709008,
                    6.064160263484777,
                    6.661414172067116,
                    8.238126872428007,
                    6.76537149040395,
                    6.04902200881498,
                    7.659362613629774,
                    6.068166913197558,
                    8.074326286343117,
                    7.822847801875665,
                    7.714517215542879,
                    7.617112854678534,
                    8.207350277902957,
                    5.687675311134579,
                    7.985395161403559,
                    7.586349531943543,
                    7.7776859125149285,
                    5.716902970673118,
                    8.072510807982127,
                    8.071752146505784,
                    6.564066839021196,
                    6.07775583141729,
                    7.536119107337666,
                    6.640658943187027,
                    5.371370470002568,
                    7.16123000914641,
                    7.262083277368548,
                    8.07036756036556,
                    7.620284142980411,
                    7.5013334603758235,
                    8.119801095359596,
                    7.100206848843968,
                    8.030309881518258,
                    7.01144250408017,
                    8.236905348947028,
                    7.748540474946634,
                    8.00822271230498,
                    7.186415674360281,
                    7.589684339501703,
                    6.860631652259419,
                    6.518289032991977,
                    5.614286878612369,
                    6.924245499444501,
                    6.829002092871795,
                    6.093530794394139,
                    6.585297197427208,
                    7.254859710382016,
                    8.125537460149364,
                    7.548366109963789,
                    8.689320543828721,
                    7.165708660410982,
                    6.2186502368997045,
                    5.046538689858368,
                    7.359365306716174,
                    8.167974693437367,
                    6.948859305515741,
                    7.849768703840672,
                    6.8452261468853,
                    8.37962761041572,
                    8.289337931116796,
                    6.7615228786251915,
                    8.530721929130214,
                    7.559603032988294,
                    7.710291033488732,
                    8.048050839220476,
                    7.228037257447234,
                    3.9919179050682025,
                    8.48128705143414,
                    6.7991857640255615,
                    7.830074113116192,
                    6.869591457777299,
                    5.163879979790165,
                    7.076546219323672,
                    8.100542446585475
                  ]
                },
                {
                  "line": {
                    "color": "red",
                    "dash": "dash",
                    "width": 2
                  },
                  "mode": "lines",
                  "name": "Linha de Referência",
                  "type": "scatter",
                  "x": [
                    3.031806222222222,
                    8.71196797863248
                  ],
                  "y": [
                    3.031806222222222,
                    8.71196797863248
                  ]
                }
              ],
              "layout": {
                "template": {
                  "data": {
                    "bar": [
                      {
                        "error_x": {
                          "color": "#2a3f5f"
                        },
                        "error_y": {
                          "color": "#2a3f5f"
                        },
                        "marker": {
                          "line": {
                            "color": "white",
                            "width": 0.5
                          },
                          "pattern": {
                            "fillmode": "overlay",
                            "size": 10,
                            "solidity": 0.2
                          }
                        },
                        "type": "bar"
                      }
                    ],
                    "barpolar": [
                      {
                        "marker": {
                          "line": {
                            "color": "white",
                            "width": 0.5
                          },
                          "pattern": {
                            "fillmode": "overlay",
                            "size": 10,
                            "solidity": 0.2
                          }
                        },
                        "type": "barpolar"
                      }
                    ],
                    "carpet": [
                      {
                        "aaxis": {
                          "endlinecolor": "#2a3f5f",
                          "gridcolor": "#C8D4E3",
                          "linecolor": "#C8D4E3",
                          "minorgridcolor": "#C8D4E3",
                          "startlinecolor": "#2a3f5f"
                        },
                        "baxis": {
                          "endlinecolor": "#2a3f5f",
                          "gridcolor": "#C8D4E3",
                          "linecolor": "#C8D4E3",
                          "minorgridcolor": "#C8D4E3",
                          "startlinecolor": "#2a3f5f"
                        },
                        "type": "carpet"
                      }
                    ],
                    "choropleth": [
                      {
                        "colorbar": {
                          "outlinewidth": 0,
                          "ticks": ""
                        },
                        "type": "choropleth"
                      }
                    ],
                    "contour": [
                      {
                        "colorbar": {
                          "outlinewidth": 0,
                          "ticks": ""
                        },
                        "colorscale": [
                          [
                            0,
                            "#0d0887"
                          ],
                          [
                            0.1111111111111111,
                            "#46039f"
                          ],
                          [
                            0.2222222222222222,
                            "#7201a8"
                          ],
                          [
                            0.3333333333333333,
                            "#9c179e"
                          ],
                          [
                            0.4444444444444444,
                            "#bd3786"
                          ],
                          [
                            0.5555555555555556,
                            "#d8576b"
                          ],
                          [
                            0.6666666666666666,
                            "#ed7953"
                          ],
                          [
                            0.7777777777777778,
                            "#fb9f3a"
                          ],
                          [
                            0.8888888888888888,
                            "#fdca26"
                          ],
                          [
                            1,
                            "#f0f921"
                          ]
                        ],
                        "type": "contour"
                      }
                    ],
                    "contourcarpet": [
                      {
                        "colorbar": {
                          "outlinewidth": 0,
                          "ticks": ""
                        },
                        "type": "contourcarpet"
                      }
                    ],
                    "heatmap": [
                      {
                        "colorbar": {
                          "outlinewidth": 0,
                          "ticks": ""
                        },
                        "colorscale": [
                          [
                            0,
                            "#0d0887"
                          ],
                          [
                            0.1111111111111111,
                            "#46039f"
                          ],
                          [
                            0.2222222222222222,
                            "#7201a8"
                          ],
                          [
                            0.3333333333333333,
                            "#9c179e"
                          ],
                          [
                            0.4444444444444444,
                            "#bd3786"
                          ],
                          [
                            0.5555555555555556,
                            "#d8576b"
                          ],
                          [
                            0.6666666666666666,
                            "#ed7953"
                          ],
                          [
                            0.7777777777777778,
                            "#fb9f3a"
                          ],
                          [
                            0.8888888888888888,
                            "#fdca26"
                          ],
                          [
                            1,
                            "#f0f921"
                          ]
                        ],
                        "type": "heatmap"
                      }
                    ],
                    "heatmapgl": [
                      {
                        "colorbar": {
                          "outlinewidth": 0,
                          "ticks": ""
                        },
                        "colorscale": [
                          [
                            0,
                            "#0d0887"
                          ],
                          [
                            0.1111111111111111,
                            "#46039f"
                          ],
                          [
                            0.2222222222222222,
                            "#7201a8"
                          ],
                          [
                            0.3333333333333333,
                            "#9c179e"
                          ],
                          [
                            0.4444444444444444,
                            "#bd3786"
                          ],
                          [
                            0.5555555555555556,
                            "#d8576b"
                          ],
                          [
                            0.6666666666666666,
                            "#ed7953"
                          ],
                          [
                            0.7777777777777778,
                            "#fb9f3a"
                          ],
                          [
                            0.8888888888888888,
                            "#fdca26"
                          ],
                          [
                            1,
                            "#f0f921"
                          ]
                        ],
                        "type": "heatmapgl"
                      }
                    ],
                    "histogram": [
                      {
                        "marker": {
                          "pattern": {
                            "fillmode": "overlay",
                            "size": 10,
                            "solidity": 0.2
                          }
                        },
                        "type": "histogram"
                      }
                    ],
                    "histogram2d": [
                      {
                        "colorbar": {
                          "outlinewidth": 0,
                          "ticks": ""
                        },
                        "colorscale": [
                          [
                            0,
                            "#0d0887"
                          ],
                          [
                            0.1111111111111111,
                            "#46039f"
                          ],
                          [
                            0.2222222222222222,
                            "#7201a8"
                          ],
                          [
                            0.3333333333333333,
                            "#9c179e"
                          ],
                          [
                            0.4444444444444444,
                            "#bd3786"
                          ],
                          [
                            0.5555555555555556,
                            "#d8576b"
                          ],
                          [
                            0.6666666666666666,
                            "#ed7953"
                          ],
                          [
                            0.7777777777777778,
                            "#fb9f3a"
                          ],
                          [
                            0.8888888888888888,
                            "#fdca26"
                          ],
                          [
                            1,
                            "#f0f921"
                          ]
                        ],
                        "type": "histogram2d"
                      }
                    ],
                    "histogram2dcontour": [
                      {
                        "colorbar": {
                          "outlinewidth": 0,
                          "ticks": ""
                        },
                        "colorscale": [
                          [
                            0,
                            "#0d0887"
                          ],
                          [
                            0.1111111111111111,
                            "#46039f"
                          ],
                          [
                            0.2222222222222222,
                            "#7201a8"
                          ],
                          [
                            0.3333333333333333,
                            "#9c179e"
                          ],
                          [
                            0.4444444444444444,
                            "#bd3786"
                          ],
                          [
                            0.5555555555555556,
                            "#d8576b"
                          ],
                          [
                            0.6666666666666666,
                            "#ed7953"
                          ],
                          [
                            0.7777777777777778,
                            "#fb9f3a"
                          ],
                          [
                            0.8888888888888888,
                            "#fdca26"
                          ],
                          [
                            1,
                            "#f0f921"
                          ]
                        ],
                        "type": "histogram2dcontour"
                      }
                    ],
                    "mesh3d": [
                      {
                        "colorbar": {
                          "outlinewidth": 0,
                          "ticks": ""
                        },
                        "type": "mesh3d"
                      }
                    ],
                    "parcoords": [
                      {
                        "line": {
                          "colorbar": {
                            "outlinewidth": 0,
                            "ticks": ""
                          }
                        },
                        "type": "parcoords"
                      }
                    ],
                    "pie": [
                      {
                        "automargin": true,
                        "type": "pie"
                      }
                    ],
                    "scatter": [
                      {
                        "fillpattern": {
                          "fillmode": "overlay",
                          "size": 10,
                          "solidity": 0.2
                        },
                        "type": "scatter"
                      }
                    ],
                    "scatter3d": [
                      {
                        "line": {
                          "colorbar": {
                            "outlinewidth": 0,
                            "ticks": ""
                          }
                        },
                        "marker": {
                          "colorbar": {
                            "outlinewidth": 0,
                            "ticks": ""
                          }
                        },
                        "type": "scatter3d"
                      }
                    ],
                    "scattercarpet": [
                      {
                        "marker": {
                          "colorbar": {
                            "outlinewidth": 0,
                            "ticks": ""
                          }
                        },
                        "type": "scattercarpet"
                      }
                    ],
                    "scattergeo": [
                      {
                        "marker": {
                          "colorbar": {
                            "outlinewidth": 0,
                            "ticks": ""
                          }
                        },
                        "type": "scattergeo"
                      }
                    ],
                    "scattergl": [
                      {
                        "marker": {
                          "colorbar": {
                            "outlinewidth": 0,
                            "ticks": ""
                          }
                        },
                        "type": "scattergl"
                      }
                    ],
                    "scattermapbox": [
                      {
                        "marker": {
                          "colorbar": {
                            "outlinewidth": 0,
                            "ticks": ""
                          }
                        },
                        "type": "scattermapbox"
                      }
                    ],
                    "scatterpolar": [
                      {
                        "marker": {
                          "colorbar": {
                            "outlinewidth": 0,
                            "ticks": ""
                          }
                        },
                        "type": "scatterpolar"
                      }
                    ],
                    "scatterpolargl": [
                      {
                        "marker": {
                          "colorbar": {
                            "outlinewidth": 0,
                            "ticks": ""
                          }
                        },
                        "type": "scatterpolargl"
                      }
                    ],
                    "scatterternary": [
                      {
                        "marker": {
                          "colorbar": {
                            "outlinewidth": 0,
                            "ticks": ""
                          }
                        },
                        "type": "scatterternary"
                      }
                    ],
                    "surface": [
                      {
                        "colorbar": {
                          "outlinewidth": 0,
                          "ticks": ""
                        },
                        "colorscale": [
                          [
                            0,
                            "#0d0887"
                          ],
                          [
                            0.1111111111111111,
                            "#46039f"
                          ],
                          [
                            0.2222222222222222,
                            "#7201a8"
                          ],
                          [
                            0.3333333333333333,
                            "#9c179e"
                          ],
                          [
                            0.4444444444444444,
                            "#bd3786"
                          ],
                          [
                            0.5555555555555556,
                            "#d8576b"
                          ],
                          [
                            0.6666666666666666,
                            "#ed7953"
                          ],
                          [
                            0.7777777777777778,
                            "#fb9f3a"
                          ],
                          [
                            0.8888888888888888,
                            "#fdca26"
                          ],
                          [
                            1,
                            "#f0f921"
                          ]
                        ],
                        "type": "surface"
                      }
                    ],
                    "table": [
                      {
                        "cells": {
                          "fill": {
                            "color": "#EBF0F8"
                          },
                          "line": {
                            "color": "white"
                          }
                        },
                        "header": {
                          "fill": {
                            "color": "#C8D4E3"
                          },
                          "line": {
                            "color": "white"
                          }
                        },
                        "type": "table"
                      }
                    ]
                  },
                  "layout": {
                    "annotationdefaults": {
                      "arrowcolor": "#2a3f5f",
                      "arrowhead": 0,
                      "arrowwidth": 1
                    },
                    "autotypenumbers": "strict",
                    "coloraxis": {
                      "colorbar": {
                        "outlinewidth": 0,
                        "ticks": ""
                      }
                    },
                    "colorscale": {
                      "diverging": [
                        [
                          0,
                          "#8e0152"
                        ],
                        [
                          0.1,
                          "#c51b7d"
                        ],
                        [
                          0.2,
                          "#de77ae"
                        ],
                        [
                          0.3,
                          "#f1b6da"
                        ],
                        [
                          0.4,
                          "#fde0ef"
                        ],
                        [
                          0.5,
                          "#f7f7f7"
                        ],
                        [
                          0.6,
                          "#e6f5d0"
                        ],
                        [
                          0.7,
                          "#b8e186"
                        ],
                        [
                          0.8,
                          "#7fbc41"
                        ],
                        [
                          0.9,
                          "#4d9221"
                        ],
                        [
                          1,
                          "#276419"
                        ]
                      ],
                      "sequential": [
                        [
                          0,
                          "#0d0887"
                        ],
                        [
                          0.1111111111111111,
                          "#46039f"
                        ],
                        [
                          0.2222222222222222,
                          "#7201a8"
                        ],
                        [
                          0.3333333333333333,
                          "#9c179e"
                        ],
                        [
                          0.4444444444444444,
                          "#bd3786"
                        ],
                        [
                          0.5555555555555556,
                          "#d8576b"
                        ],
                        [
                          0.6666666666666666,
                          "#ed7953"
                        ],
                        [
                          0.7777777777777778,
                          "#fb9f3a"
                        ],
                        [
                          0.8888888888888888,
                          "#fdca26"
                        ],
                        [
                          1,
                          "#f0f921"
                        ]
                      ],
                      "sequentialminus": [
                        [
                          0,
                          "#0d0887"
                        ],
                        [
                          0.1111111111111111,
                          "#46039f"
                        ],
                        [
                          0.2222222222222222,
                          "#7201a8"
                        ],
                        [
                          0.3333333333333333,
                          "#9c179e"
                        ],
                        [
                          0.4444444444444444,
                          "#bd3786"
                        ],
                        [
                          0.5555555555555556,
                          "#d8576b"
                        ],
                        [
                          0.6666666666666666,
                          "#ed7953"
                        ],
                        [
                          0.7777777777777778,
                          "#fb9f3a"
                        ],
                        [
                          0.8888888888888888,
                          "#fdca26"
                        ],
                        [
                          1,
                          "#f0f921"
                        ]
                      ]
                    },
                    "colorway": [
                      "#636efa",
                      "#EF553B",
                      "#00cc96",
                      "#ab63fa",
                      "#FFA15A",
                      "#19d3f3",
                      "#FF6692",
                      "#B6E880",
                      "#FF97FF",
                      "#FECB52"
                    ],
                    "font": {
                      "color": "#2a3f5f"
                    },
                    "geo": {
                      "bgcolor": "white",
                      "lakecolor": "white",
                      "landcolor": "white",
                      "showlakes": true,
                      "showland": true,
                      "subunitcolor": "#C8D4E3"
                    },
                    "hoverlabel": {
                      "align": "left"
                    },
                    "hovermode": "closest",
                    "mapbox": {
                      "style": "light"
                    },
                    "paper_bgcolor": "white",
                    "plot_bgcolor": "white",
                    "polar": {
                      "angularaxis": {
                        "gridcolor": "#EBF0F8",
                        "linecolor": "#EBF0F8",
                        "ticks": ""
                      },
                      "bgcolor": "white",
                      "radialaxis": {
                        "gridcolor": "#EBF0F8",
                        "linecolor": "#EBF0F8",
                        "ticks": ""
                      }
                    },
                    "scene": {
                      "xaxis": {
                        "backgroundcolor": "white",
                        "gridcolor": "#DFE8F3",
                        "gridwidth": 2,
                        "linecolor": "#EBF0F8",
                        "showbackground": true,
                        "ticks": "",
                        "zerolinecolor": "#EBF0F8"
                      },
                      "yaxis": {
                        "backgroundcolor": "white",
                        "gridcolor": "#DFE8F3",
                        "gridwidth": 2,
                        "linecolor": "#EBF0F8",
                        "showbackground": true,
                        "ticks": "",
                        "zerolinecolor": "#EBF0F8"
                      },
                      "zaxis": {
                        "backgroundcolor": "white",
                        "gridcolor": "#DFE8F3",
                        "gridwidth": 2,
                        "linecolor": "#EBF0F8",
                        "showbackground": true,
                        "ticks": "",
                        "zerolinecolor": "#EBF0F8"
                      }
                    },
                    "shapedefaults": {
                      "line": {
                        "color": "#2a3f5f"
                      }
                    },
                    "ternary": {
                      "aaxis": {
                        "gridcolor": "#DFE8F3",
                        "linecolor": "#A2B1C6",
                        "ticks": ""
                      },
                      "baxis": {
                        "gridcolor": "#DFE8F3",
                        "linecolor": "#A2B1C6",
                        "ticks": ""
                      },
                      "bgcolor": "white",
                      "caxis": {
                        "gridcolor": "#DFE8F3",
                        "linecolor": "#A2B1C6",
                        "ticks": ""
                      }
                    },
                    "title": {
                      "x": 0.05
                    },
                    "xaxis": {
                      "automargin": true,
                      "gridcolor": "#EBF0F8",
                      "linecolor": "#EBF0F8",
                      "ticks": "",
                      "title": {
                        "standoff": 15
                      },
                      "zerolinecolor": "#EBF0F8",
                      "zerolinewidth": 2
                    },
                    "yaxis": {
                      "automargin": true,
                      "gridcolor": "#EBF0F8",
                      "linecolor": "#EBF0F8",
                      "ticks": "",
                      "title": {
                        "standoff": 15
                      },
                      "zerolinecolor": "#EBF0F8",
                      "zerolinewidth": 2
                    }
                  }
                },
                "title": {
                  "text": "Real x Previsão -teste modelo KNN para o indicador INDE_2022"
                },
                "xaxis": {
                  "range": [
                    3.031806222222222,
                    8.71196797863248
                  ],
                  "title": {
                    "text": "INDE_2022 real"
                  }
                },
                "yaxis": {
                  "range": [
                    3.031806222222222,
                    8.71196797863248
                  ],
                  "title": {
                    "text": "INDE_2022 previsto"
                  }
                }
              }
            }
          },
          "metadata": {},
          "output_type": "display_data"
        }
      ],
      "source": [
        "import plotly.graph_objects as go\n",
        "\n",
        "# Supondo que 'y_test' e 'predict_knn' estejam definidos\n",
        "# Exemplo fictício de dados para fins de ilustração\n",
        "# y_test = np.array([...])\n",
        "# predict_knn = np.array([...])\n",
        "\n",
        "# Criação do gráfico de dispersão\n",
        "fig = go.Figure()\n",
        "\n",
        "# Adicionar o gráfico de dispersão\n",
        "fig.add_trace(go.Scatter(\n",
        "    x=y_test,\n",
        "    y=predict_knn,\n",
        "    mode='markers',\n",
        "    name='Previsto',\n",
        "    marker=dict(size=8, opacity=0.5, color='blue'),\n",
        "    text='Ponto de dados'  # Texto opcional ao passar o mouse\n",
        "))\n",
        "\n",
        "# Adicionar a linha diagonal para referência\n",
        "fig.add_trace(go.Scatter(\n",
        "    x=[min(y_test), max(y_test)],\n",
        "    y=[min(y_test), max(y_test)],\n",
        "    mode='lines',\n",
        "    name='Linha de Referência',\n",
        "    line=dict(color='red', width=2, dash='dash')\n",
        "))\n",
        "\n",
        "# Atualizar o layout do gráfico\n",
        "fig.update_layout(\n",
        "    title='Real x Previsão -teste modelo KNN para o indicador INDE_2022',\n",
        "    xaxis_title='INDE_2022 real',\n",
        "    yaxis_title='INDE_2022 previsto',\n",
        "    xaxis=dict(range=[min(y_test), max(y_test)]),\n",
        "    yaxis=dict(range=[min(y_test), max(y_test)]),\n",
        "    template='plotly_white'  # Layout do gráfico, você pode usar 'plotly_dark' ou outro\n",
        ")\n",
        "\n",
        "# Mostrar o gráfico\n",
        "fig.show()\n"
      ]
    },
    {
      "cell_type": "code",
      "execution_count": 31,
      "metadata": {},
      "outputs": [
        {
          "name": "stdout",
          "output_type": "stream",
          "text": [
            "    feature  importance\n",
            "3  IDA_2022    0.516763\n",
            "1  IEG_2022    0.313273\n",
            "5  IPV_2022    0.099494\n",
            "6  IAN_2022    0.044324\n",
            "0  IAA_2022    0.018093\n",
            "2  IPS_2022    0.004390\n",
            "4  IPP_2022    0.003663\n"
          ]
        }
      ],
      "source": [
        "from sklearn.ensemble import RandomForestRegressor\n",
        "from sklearn.preprocessing import LabelEncoder\n",
        "from sklearn.impute import SimpleImputer\n",
        "import pandas as pd\n",
        "\n",
        "# Supondo que df_predict é o DataFrame com os dados de treinamento\n",
        "features = df_predict.drop(['INDE_2022'], axis=1)\n",
        "target = df_predict['INDE_2022']\n",
        "\n",
        "# Identificar colunas com dados não numéricos\n",
        "categorical_cols = features.select_dtypes(include=['object']).columns\n",
        "\n",
        "# Aplicar Label Encoding para converter características categóricas em numéricas\n",
        "label_encoders = {}\n",
        "# Check if there are any categorical columns before proceeding\n",
        "if len(categorical_cols) > 0:\n",
        "    for col in categorical_cols:\n",
        "        le = LabelEncoder()\n",
        "        features[col] = le.fit_transform(features[col])\n",
        "        label_encoders[col] = le  # Armazenar encoders para uso posterior\n",
        "\n",
        "    # Imputar valores ausentes para dados categóricos e numéricos separadamente\n",
        "    # Separar dados numéricos e categóricos\n",
        "    numeric_features = features.select_dtypes(include=['number'])\n",
        "    categorical_features = features.select_dtypes(include=['object'])\n",
        "\n",
        "    # Imputar valores ausentes para dados categóricos com a estratégia 'most_frequent' \n",
        "    categorical_imputer = SimpleImputer(strategy='most_frequent')\n",
        "    categorical_features_imputed = pd.DataFrame(categorical_imputer.fit_transform(categorical_features), columns=categorical_features.columns)\n",
        "\n",
        "    # Imputar valores ausentes para dados numéricos com uma estratégia apropriada\n",
        "    numeric_imputer = SimpleImputer(strategy='mean') # Or any other suitable strategy\n",
        "    numeric_features_imputed = pd.DataFrame(numeric_imputer.fit_transform(numeric_features), columns=numeric_features.columns)\n",
        "\n",
        "    # Concatenar dados numéricos e categóricos imputados\n",
        "    features_imputed = pd.concat([numeric_features_imputed, categorical_features_imputed], axis=1)\n",
        "else:\n",
        "    # If no categorical columns, just impute the numerical features\n",
        "    numeric_imputer = SimpleImputer(strategy='mean') # Or any other suitable strategy\n",
        "    features_imputed = pd.DataFrame(numeric_imputer.fit_transform(features), columns=features.columns)\n",
        "\n",
        "# Remover linhas com valores ausentes no alvo\n",
        "# Reset the index of both features_imputed and target to ensure alignment\n",
        "features_imputed = features_imputed.reset_index(drop=True)  # Reset index of features\n",
        "target = target.reset_index(drop=True)  # Reset index of target\n",
        "\n",
        "valid_rows = ~target.isna()\n",
        "features_imputed = features_imputed[valid_rows]\n",
        "target = target[valid_rows]\n",
        "\n",
        "# Treinar o modelo\n",
        "regressor = RandomForestRegressor(random_state=42, max_depth=5)\n",
        "regressor.fit(features_imputed, target)\n",
        "\n",
        "# Obter a importância das características\n",
        "importances = regressor.feature_importances_\n",
        "\n",
        "# Criar um DataFrame de importâncias das características\n",
        "feature_importances = pd.DataFrame({'feature': features.columns, 'importance': importances})\n",
        "\n",
        "# Ordenar as características por importância\n",
        "feature_importances = feature_importances.sort_values('importance', ascending=False)\n",
        "\n",
        "print(feature_importances)"
      ]
    },
    {
      "cell_type": "code",
      "execution_count": 36,
      "metadata": {},
      "outputs": [],
      "source": [
        "# Salvar o modelo treinado\n",
        "#joblib.dump(regressor, 'rf_features.pkl')\n",
        "\n",
        "# Salvar os LabelEncoders\n",
        "#joblib.dump(label_encoders, 'label_encoders.pkl')\n",
        "\n",
        "# Salvar o SimpleImputer\n",
        "#joblib.dump(imputer, 'simple_imputer.pkl')"
      ]
    },
    {
      "cell_type": "code",
      "execution_count": 37,
      "metadata": {},
      "outputs": [],
      "source": [
        "#joblib.dump(numeric_imputer, 'numeric_imputer.pkl')\n"
      ]
    },
    {
      "cell_type": "code",
      "execution_count": 35,
      "metadata": {},
      "outputs": [
        {
          "data": {
            "text/plain": [
              "['model/numeric_imputer.pkl']"
            ]
          },
          "execution_count": 35,
          "metadata": {},
          "output_type": "execute_result"
        }
      ],
      "source": [
        "from sklearn.ensemble import RandomForestRegressor\n",
        "from sklearn.model_selection import train_test_split\n",
        "from sklearn.impute import SimpleImputer\n",
        "\n",
        "features = df_predict.drop(['INDE_2022'], axis=1)\n",
        "target = df_predict['INDE_2022']\n",
        "\n",
        "# Imputar valores ausentes\n",
        "numeric_imputer = SimpleImputer(strategy='mean')\n",
        "features_imputed = pd.DataFrame(numeric_imputer.fit_transform(features), columns=features.columns)\n",
        "\n",
        "# Dividir os dados em conjuntos de treinamento e teste\n",
        "X_train, X_test, y_train, y_test = train_test_split(features_imputed, target, test_size=0.2, random_state=42)\n",
        "\n",
        "# Criar e treinar o modelo\n",
        "regressor = RandomForestRegressor(random_state=42, max_depth=5)\n",
        "regressor.fit(X_train, y_train)\n",
        "\n",
        "# Salvar o modelo e imputadores\n",
        "#joblib.dump(regressor, 'model/rf_features.pkl')\n",
        "#joblib.dump(numeric_imputer, 'model/numeric_imputer.pkl')\n"
      ]
    }
  ],
  "metadata": {
    "colab": {
      "provenance": []
    },
    "kernelspec": {
      "display_name": "Python 3",
      "name": "python3"
    },
    "language_info": {
      "codemirror_mode": {
        "name": "ipython",
        "version": 3
      },
      "file_extension": ".py",
      "mimetype": "text/x-python",
      "name": "python",
      "nbconvert_exporter": "python",
      "pygments_lexer": "ipython3",
      "version": "3.11.9"
    }
  },
  "nbformat": 4,
  "nbformat_minor": 0
}
